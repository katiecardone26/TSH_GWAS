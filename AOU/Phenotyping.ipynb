{
 "cells": [
  {
   "cell_type": "markdown",
   "metadata": {},
   "source": [
    "# load packages"
   ]
  },
  {
   "cell_type": "code",
   "execution_count": null,
   "metadata": {},
   "outputs": [],
   "source": [
    "library(tidyverse)\n",
    "library(bigrquery)"
   ]
  },
  {
   "cell_type": "markdown",
   "metadata": {},
   "source": [
    "# Load v8 data"
   ]
  },
  {
   "cell_type": "markdown",
   "metadata": {},
   "source": [
    "## thyroid meds"
   ]
  },
  {
   "cell_type": "code",
   "execution_count": null,
   "metadata": {},
   "outputs": [],
   "source": [
    "# This query represents dataset \"TSH pheno v8\" for domain \"drug\" and was generated for All of Us Controlled Tier Dataset v8\n",
    "dataset_17403006_drug_sql <- paste(\"\n",
    "    SELECT\n",
    "        d_exposure.person_id,\n",
    "        d_standard_concept.concept_name as standard_concept_name,\n",
    "        d_exposure.drug_exposure_start_datetime \n",
    "    FROM\n",
    "        ( SELECT\n",
    "            * \n",
    "        FROM\n",
    "            `drug_exposure` d_exposure \n",
    "        WHERE\n",
    "            (\n",
    "                drug_concept_id IN (SELECT\n",
    "                    DISTINCT ca.descendant_id \n",
    "                FROM\n",
    "                    `cb_criteria_ancestor` ca \n",
    "                JOIN\n",
    "                    (SELECT\n",
    "                        DISTINCT c.concept_id       \n",
    "                    FROM\n",
    "                        `cb_criteria` c       \n",
    "                    JOIN\n",
    "                        (SELECT\n",
    "                            CAST(cr.id as string) AS id             \n",
    "                        FROM\n",
    "                            `cb_criteria` cr             \n",
    "                        WHERE\n",
    "                            concept_id IN (1501309, 1501700, 1505346, 1590418, 21602751, 21602752, 21602753, 21605503, 21605504)             \n",
    "                            AND full_text LIKE '%_rank1]%'       ) a \n",
    "                            ON (c.path LIKE CONCAT('%.', a.id, '.%') \n",
    "                            OR c.path LIKE CONCAT('%.', a.id) \n",
    "                            OR c.path LIKE CONCAT(a.id, '.%') \n",
    "                            OR c.path = a.id) \n",
    "                    WHERE\n",
    "                        is_standard = 1 \n",
    "                        AND is_selectable = 1) b \n",
    "                        ON (ca.ancestor_id = b.concept_id)))  \n",
    "                    AND (d_exposure.PERSON_ID IN (SELECT\n",
    "                        distinct person_id  \n",
    "                FROM\n",
    "                    `cb_search_person` cb_search_person  \n",
    "                WHERE\n",
    "                    cb_search_person.person_id IN (SELECT\n",
    "                        criteria.person_id \n",
    "                    FROM\n",
    "                        (SELECT\n",
    "                            DISTINCT person_id, entry_date, concept_id \n",
    "                        FROM\n",
    "                            `cb_search_all_events` \n",
    "                        WHERE\n",
    "                            (concept_id IN(SELECT\n",
    "                                DISTINCT c.concept_id \n",
    "                            FROM\n",
    "                                `cb_criteria` c \n",
    "                            JOIN\n",
    "                                (SELECT\n",
    "                                    CAST(cr.id as string) AS id       \n",
    "                                FROM\n",
    "                                    `cb_criteria` cr       \n",
    "                                WHERE\n",
    "                                    concept_id IN (3023399, 37052205, 3006499, 3017044, 3044958, 4197602, 3045302, 3019762, 3032069, 3016806, 3038369, 3001019, 3016735, 3009201, 3019170, 4246879, 3015559, 40760528, 3009023, 3006939, 3027700)       \n",
    "                                    AND full_text LIKE '%_rank1]%'      ) a \n",
    "                                    ON (c.path LIKE CONCAT('%.', a.id, '.%') \n",
    "                                    OR c.path LIKE CONCAT('%.', a.id) \n",
    "                                    OR c.path LIKE CONCAT(a.id, '.%') \n",
    "                                    OR c.path = a.id) \n",
    "                            WHERE\n",
    "                                is_standard = 1 \n",
    "                                AND is_selectable = 1) \n",
    "                            AND is_standard = 1 )) criteria ) \n",
    "                    AND cb_search_person.person_id IN (SELECT\n",
    "                        person_id \n",
    "                    FROM\n",
    "                        `cb_search_person` p \n",
    "                    WHERE\n",
    "                        has_whole_genome_variant = 1 ) \n",
    "                    AND cb_search_person.person_id NOT IN (SELECT\n",
    "                        criteria.person_id \n",
    "                    FROM\n",
    "                        (SELECT\n",
    "                            DISTINCT person_id, entry_date, concept_id \n",
    "                        FROM\n",
    "                            `cb_search_all_events` \n",
    "                        WHERE\n",
    "                            (concept_id IN(SELECT\n",
    "                                DISTINCT c.concept_id \n",
    "                            FROM\n",
    "                                `cb_criteria` c \n",
    "                            JOIN\n",
    "                                (SELECT\n",
    "                                    CAST(cr.id as string) AS id       \n",
    "                                FROM\n",
    "                                    `cb_criteria` cr       \n",
    "                                WHERE\n",
    "                                    concept_id IN (35206909, 35206912, 35206914, 35206911, 35206913, 35206910, 1567993)       \n",
    "                                    AND full_text LIKE '%_rank1]%'      ) a \n",
    "                                    ON (c.path LIKE CONCAT('%.', a.id, '.%') \n",
    "                                    OR c.path LIKE CONCAT('%.', a.id) \n",
    "                                    OR c.path LIKE CONCAT(a.id, '.%') \n",
    "                                    OR c.path = a.id) \n",
    "                            WHERE\n",
    "                                is_standard = 0 \n",
    "                                AND is_selectable = 1) \n",
    "                            AND is_standard = 0 )) criteria \n",
    "                    UNION\n",
    "                    DISTINCT SELECT\n",
    "                        criteria.person_id \n",
    "                    FROM\n",
    "                        (SELECT\n",
    "                            DISTINCT person_id, entry_date, concept_id \n",
    "                        FROM\n",
    "                            `cb_search_all_events` \n",
    "                        WHERE\n",
    "                            (concept_id IN(SELECT\n",
    "                                DISTINCT c.concept_id \n",
    "                            FROM\n",
    "                                `cb_criteria` c \n",
    "                            JOIN\n",
    "                                (SELECT\n",
    "                                    CAST(cr.id as string) AS id       \n",
    "                                FROM\n",
    "                                    `cb_criteria` cr       \n",
    "                                WHERE\n",
    "                                    concept_id IN (1567895, 1567893, 35206304)       \n",
    "                                    AND full_text LIKE '%_rank1]%'      ) a \n",
    "                                    ON (c.path LIKE CONCAT('%.', a.id, '.%') \n",
    "                                    OR c.path LIKE CONCAT('%.', a.id) \n",
    "                                    OR c.path LIKE CONCAT(a.id, '.%') \n",
    "                                    OR c.path = a.id) \n",
    "                            WHERE\n",
    "                                is_standard = 0 \n",
    "                                AND is_selectable = 1) \n",
    "                            AND is_standard = 0 )) criteria \n",
    "                    UNION\n",
    "                    DISTINCT SELECT\n",
    "                        criteria.person_id \n",
    "                    FROM\n",
    "                        (SELECT\n",
    "                            DISTINCT person_id, entry_date, concept_id \n",
    "                        FROM\n",
    "                            `cb_search_all_events` \n",
    "                        WHERE\n",
    "                            (concept_id IN(SELECT\n",
    "                                DISTINCT c.concept_id \n",
    "                            FROM\n",
    "                                `cb_criteria` c \n",
    "                            JOIN\n",
    "                                (SELECT\n",
    "                                    CAST(cr.id as string) AS id       \n",
    "                                FROM\n",
    "                                    `cb_criteria` cr       \n",
    "                                WHERE\n",
    "                                    concept_id IN (44825214, 44829873, 44822938, 44827619, 44833373, 44820687, 44819497, 44828784, 44825267)       \n",
    "                                    AND full_text LIKE '%_rank1]%'      ) a \n",
    "                                    ON (c.path LIKE CONCAT('%.', a.id, '.%') \n",
    "                                    OR c.path LIKE CONCAT('%.', a.id) \n",
    "                                    OR c.path LIKE CONCAT(a.id, '.%') \n",
    "                                    OR c.path = a.id) \n",
    "                            WHERE\n",
    "                                is_standard = 0 \n",
    "                                AND is_selectable = 1) \n",
    "                            AND is_standard = 0 )) criteria ) )\n",
    "                )\n",
    "            ) d_exposure \n",
    "        LEFT JOIN\n",
    "            `concept` d_standard_concept \n",
    "                ON d_exposure.drug_concept_id = d_standard_concept.concept_id\", sep=\"\")\n",
    "\n",
    "# Formulate a Cloud Storage destination path for the data exported from BigQuery.\n",
    "# NOTE: By default data exported multiple times on the same day will overwrite older copies.\n",
    "#       But data exported on a different days will write to a new location so that historical\n",
    "#       copies can be kept as the dataset definition is changed.\n",
    "drug_17403006_path <- file.path(\n",
    "  Sys.getenv(\"WORKSPACE_BUCKET\"),\n",
    "  \"bq_exports\",\n",
    "  Sys.getenv(\"OWNER_EMAIL\"),\n",
    "  strftime(lubridate::now(), \"%Y%m%d\"),  # Comment out this line if you want the export to always overwrite.\n",
    "  \"drug_17403006\",\n",
    "  \"drug_17403006_*.csv\")\n",
    "message(str_glue('The data will be written to {drug_17403006_path}. Use this path when reading ',\n",
    "                 'the data into your notebooks in the future.'))\n",
    "\n",
    "# Perform the query and export the dataset to Cloud Storage as CSV files.\n",
    "# NOTE: You only need to run `bq_table_save` once. After that, you can\n",
    "#       just read data from the CSVs in Cloud Storage.\n",
    "bq_table_save(\n",
    "  bq_dataset_query(Sys.getenv(\"WORKSPACE_CDR\"), dataset_17403006_drug_sql, billing = Sys.getenv(\"GOOGLE_PROJECT\")),\n",
    "  drug_17403006_path,\n",
    "  destination_format = \"CSV\")\n",
    "\n"
   ]
  },
  {
   "cell_type": "code",
   "execution_count": null,
   "metadata": {},
   "outputs": [],
   "source": [
    "# Read the data directly from Cloud Storage into memory.\n",
    "# NOTE: Alternatively you can `gsutil -m cp {drug_17403006_path}` to copy these files\n",
    "#       to the Jupyter disk.\n",
    "read_bq_export_from_workspace_bucket <- function(export_path) {\n",
    "  col_types <- cols(standard_concept_name = col_character())\n",
    "  bind_rows(\n",
    "    map(system2('gsutil', args = c('ls', export_path), stdout = TRUE, stderr = TRUE),\n",
    "        function(csv) {\n",
    "          message(str_glue('Loading {csv}.'))\n",
    "          chunk <- read_csv(pipe(str_glue('gsutil cat {csv}')), col_types = col_types, show_col_types = FALSE)\n",
    "          if (is.null(col_types)) {\n",
    "            col_types <- spec(chunk)\n",
    "          }\n",
    "          chunk\n",
    "        }))\n",
    "}\n",
    "meds_raw <- read_bq_export_from_workspace_bucket(drug_17403006_path)\n",
    "\n",
    "dim(meds_raw)\n",
    "\n",
    "head(meds_raw, 5)"
   ]
  },
  {
   "cell_type": "markdown",
   "metadata": {},
   "source": [
    "## pregnancy observations"
   ]
  },
  {
   "cell_type": "code",
   "execution_count": null,
   "metadata": {},
   "outputs": [],
   "source": [
    "# This query represents dataset \"TSH pheno v8\" for domain \"observation\" and was generated for All of Us Controlled Tier Dataset v8\n",
    "dataset_17403006_observation_sql <- paste(\"\n",
    "    SELECT\n",
    "        observation.person_id,\n",
    "        observation.observation_datetime,\n",
    "        observation.observation_source_value \n",
    "    FROM\n",
    "        ( SELECT\n",
    "            * \n",
    "        FROM\n",
    "            `observation` observation \n",
    "        WHERE\n",
    "            (\n",
    "                observation_source_concept_id IN (37200953, 37200954, 37200955, 44819867, 44819897, 44819898, 44821027, 44821038, 44821043, 44821045, 44821050, 44822088, 44822100, 44822113, 44822124, 44823266, 44823290, 44825609, 44826802, 44827960, 44829139, 44829145, 44830268, 44831391, 44831401, 44831406, 44832537, 44832553, 44832554, 44832564, 44833747, 44833757, 44834896, 44836102, 44836107, 44836108, 45534164, 45534165, 45534167, 45534168, 45543911, 45543912, 45548692, 45548693, 45548694, 45548696, 45553473, 45553474, 45558192, 45558193, 45558194, 45558195, 45558196, 45558199, 45563043, 45563044, 45563045, 45563046, 45567884, 45572757, 45572758, 45572759, 45572760, 45577553, 45577554, 45577555, 45582439, 45582440, 45582441, 45587273, 45587274, 45587275, 45587276, 45587277, 45587279, 45592175, 45592176, 45592177, 45592178, 45592179, 45592180, 45592181, 45592182, 45596912, 45596913, 45601773, 45601774, 45601775, 45601776, 45606534, 45606535, 45606536)\n",
    "            )  \n",
    "            AND (\n",
    "                observation.PERSON_ID IN (SELECT\n",
    "                    distinct person_id  \n",
    "                FROM\n",
    "                    `cb_search_person` cb_search_person  \n",
    "                WHERE\n",
    "                    cb_search_person.person_id IN (SELECT\n",
    "                        criteria.person_id \n",
    "                    FROM\n",
    "                        (SELECT\n",
    "                            DISTINCT person_id, entry_date, concept_id \n",
    "                        FROM\n",
    "                            `cb_search_all_events` \n",
    "                        WHERE\n",
    "                            (concept_id IN(SELECT\n",
    "                                DISTINCT c.concept_id \n",
    "                            FROM\n",
    "                                `cb_criteria` c \n",
    "                            JOIN\n",
    "                                (SELECT\n",
    "                                    CAST(cr.id as string) AS id       \n",
    "                                FROM\n",
    "                                    `cb_criteria` cr       \n",
    "                                WHERE\n",
    "                                    concept_id IN (3023399, 37052205, 3006499, 3017044, 3044958, 4197602, 3045302, 3019762, 3032069, 3016806, 3038369, 3001019, 3016735, 3009201, 3019170, 4246879, 3015559, 40760528, 3009023, 3006939, 3027700)       \n",
    "                                    AND full_text LIKE '%_rank1]%'      ) a \n",
    "                                    ON (c.path LIKE CONCAT('%.', a.id, '.%') \n",
    "                                    OR c.path LIKE CONCAT('%.', a.id) \n",
    "                                    OR c.path LIKE CONCAT(a.id, '.%') \n",
    "                                    OR c.path = a.id) \n",
    "                            WHERE\n",
    "                                is_standard = 1 \n",
    "                                AND is_selectable = 1) \n",
    "                            AND is_standard = 1 )) criteria ) \n",
    "                    AND cb_search_person.person_id IN (SELECT\n",
    "                        person_id \n",
    "                    FROM\n",
    "                        `cb_search_person` p \n",
    "                    WHERE\n",
    "                        has_whole_genome_variant = 1 ) \n",
    "                    AND cb_search_person.person_id NOT IN (SELECT\n",
    "                        criteria.person_id \n",
    "                    FROM\n",
    "                        (SELECT\n",
    "                            DISTINCT person_id, entry_date, concept_id \n",
    "                        FROM\n",
    "                            `cb_search_all_events` \n",
    "                        WHERE\n",
    "                            (concept_id IN(SELECT\n",
    "                                DISTINCT c.concept_id \n",
    "                            FROM\n",
    "                                `cb_criteria` c \n",
    "                            JOIN\n",
    "                                (SELECT\n",
    "                                    CAST(cr.id as string) AS id       \n",
    "                                FROM\n",
    "                                    `cb_criteria` cr       \n",
    "                                WHERE\n",
    "                                    concept_id IN (35206909, 35206912, 35206914, 35206911, 35206913, 35206910, 1567993)       \n",
    "                                    AND full_text LIKE '%_rank1]%'      ) a \n",
    "                                    ON (c.path LIKE CONCAT('%.', a.id, '.%') \n",
    "                                    OR c.path LIKE CONCAT('%.', a.id) \n",
    "                                    OR c.path LIKE CONCAT(a.id, '.%') \n",
    "                                    OR c.path = a.id) \n",
    "                            WHERE\n",
    "                                is_standard = 0 \n",
    "                                AND is_selectable = 1) \n",
    "                            AND is_standard = 0 )) criteria \n",
    "                    UNION\n",
    "                    DISTINCT SELECT\n",
    "                        criteria.person_id \n",
    "                    FROM\n",
    "                        (SELECT\n",
    "                            DISTINCT person_id, entry_date, concept_id \n",
    "                        FROM\n",
    "                            `cb_search_all_events` \n",
    "                        WHERE\n",
    "                            (concept_id IN(SELECT\n",
    "                                DISTINCT c.concept_id \n",
    "                            FROM\n",
    "                                `cb_criteria` c \n",
    "                            JOIN\n",
    "                                (SELECT\n",
    "                                    CAST(cr.id as string) AS id       \n",
    "                                FROM\n",
    "                                    `cb_criteria` cr       \n",
    "                                WHERE\n",
    "                                    concept_id IN (1567895, 1567893, 35206304)       \n",
    "                                    AND full_text LIKE '%_rank1]%'      ) a \n",
    "                                    ON (c.path LIKE CONCAT('%.', a.id, '.%') \n",
    "                                    OR c.path LIKE CONCAT('%.', a.id) \n",
    "                                    OR c.path LIKE CONCAT(a.id, '.%') \n",
    "                                    OR c.path = a.id) \n",
    "                            WHERE\n",
    "                                is_standard = 0 \n",
    "                                AND is_selectable = 1) \n",
    "                            AND is_standard = 0 )) criteria \n",
    "                    UNION\n",
    "                    DISTINCT SELECT\n",
    "                        criteria.person_id \n",
    "                    FROM\n",
    "                        (SELECT\n",
    "                            DISTINCT person_id, entry_date, concept_id \n",
    "                        FROM\n",
    "                            `cb_search_all_events` \n",
    "                        WHERE\n",
    "                            (concept_id IN(SELECT\n",
    "                                DISTINCT c.concept_id \n",
    "                            FROM\n",
    "                                `cb_criteria` c \n",
    "                            JOIN\n",
    "                                (SELECT\n",
    "                                    CAST(cr.id as string) AS id       \n",
    "                                FROM\n",
    "                                    `cb_criteria` cr       \n",
    "                                WHERE\n",
    "                                    concept_id IN (44825214, 44829873, 44822938, 44827619, 44833373, 44820687, 44819497, 44828784, 44825267)       \n",
    "                                    AND full_text LIKE '%_rank1]%'      ) a \n",
    "                                    ON (c.path LIKE CONCAT('%.', a.id, '.%') \n",
    "                                    OR c.path LIKE CONCAT('%.', a.id) \n",
    "                                    OR c.path LIKE CONCAT(a.id, '.%') \n",
    "                                    OR c.path = a.id) \n",
    "                            WHERE\n",
    "                                is_standard = 0 \n",
    "                                AND is_selectable = 1) \n",
    "                            AND is_standard = 0 )) criteria ) )\n",
    "                )\n",
    "            ) observation\", sep=\"\")\n",
    "\n",
    "# Formulate a Cloud Storage destination path for the data exported from BigQuery.\n",
    "# NOTE: By default data exported multiple times on the same day will overwrite older copies.\n",
    "#       But data exported on a different days will write to a new location so that historical\n",
    "#       copies can be kept as the dataset definition is changed.\n",
    "observation_17403006_path <- file.path(\n",
    "  Sys.getenv(\"WORKSPACE_BUCKET\"),\n",
    "  \"bq_exports\",\n",
    "  Sys.getenv(\"OWNER_EMAIL\"),\n",
    "  strftime(lubridate::now(), \"%Y%m%d\"),  # Comment out this line if you want the export to always overwrite.\n",
    "  \"observation_17403006\",\n",
    "  \"observation_17403006_*.csv\")\n",
    "message(str_glue('The data will be written to {observation_17403006_path}. Use this path when reading ',\n",
    "                 'the data into your notebooks in the future.'))\n",
    "\n",
    "# Perform the query and export the dataset to Cloud Storage as CSV files.\n",
    "# NOTE: You only need to run `bq_table_save` once. After that, you can\n",
    "#       just read data from the CSVs in Cloud Storage.\n",
    "bq_table_save(\n",
    "  bq_dataset_query(Sys.getenv(\"WORKSPACE_CDR\"), dataset_17403006_observation_sql, billing = Sys.getenv(\"GOOGLE_PROJECT\")),\n",
    "  observation_17403006_path,\n",
    "  destination_format = \"CSV\")\n",
    "\n"
   ]
  },
  {
   "cell_type": "code",
   "execution_count": null,
   "metadata": {},
   "outputs": [],
   "source": [
    "# Read the data directly from Cloud Storage into memory.\n",
    "# NOTE: Alternatively you can `gsutil -m cp {observation_17403006_path}` to copy these files\n",
    "#       to the Jupyter disk.\n",
    "read_bq_export_from_workspace_bucket <- function(export_path) {\n",
    "  col_types <- cols(observation_source_value = col_character())\n",
    "  bind_rows(\n",
    "    map(system2('gsutil', args = c('ls', export_path), stdout = TRUE, stderr = TRUE),\n",
    "        function(csv) {\n",
    "          message(str_glue('Loading {csv}.'))\n",
    "          chunk <- read_csv(pipe(str_glue('gsutil cat {csv}')), col_types = col_types, show_col_types = FALSE)\n",
    "          if (is.null(col_types)) {\n",
    "            col_types <- spec(chunk)\n",
    "          }\n",
    "          chunk\n",
    "        }))\n",
    "}\n",
    "preg_observation_raw <- read_bq_export_from_workspace_bucket(observation_17403006_path)\n",
    "\n",
    "dim(preg_observation_raw)\n",
    "\n",
    "head(preg_observation_raw, 5)"
   ]
  },
  {
   "cell_type": "markdown",
   "metadata": {},
   "source": [
    "## pregnancy conditions"
   ]
  },
  {
   "cell_type": "code",
   "execution_count": null,
   "metadata": {},
   "outputs": [],
   "source": [
    "# This query represents dataset \"TSH pheno v8\" for domain \"condition\" and was generated for All of Us Controlled Tier Dataset v8\n",
    "dataset_17403006_condition_sql <- paste(\"\n",
    "    SELECT\n",
    "        c_occurrence.person_id,\n",
    "        c_occurrence.condition_start_datetime,\n",
    "        c_occurrence.condition_source_value \n",
    "    FROM\n",
    "        ( SELECT\n",
    "            * \n",
    "        FROM\n",
    "            `condition_occurrence` c_occurrence \n",
    "        WHERE\n",
    "            (\n",
    "                condition_source_concept_id IN (SELECT\n",
    "                    DISTINCT c.concept_id \n",
    "                FROM\n",
    "                    `cb_criteria` c \n",
    "                JOIN\n",
    "                    (SELECT\n",
    "                        CAST(cr.id as string) AS id       \n",
    "                    FROM\n",
    "                        `cb_criteria` cr       \n",
    "                    WHERE\n",
    "                        concept_id IN (1326728, 1326729, 1326730, 1326731, 1326732, 1326733, 1326734, 1326735, 1326736, 1326737, 1326738, 1326739, 1571602, 1571603, 1571605, 1571614, 1571633, 35209513, 35209514, 35209515, 35209516, 35209517, 35209518, 35209519, 35209520, 35209521, 35209522, 35209524, 35209525, 35209526, 35209527, 35209528, 35209529, 35209530, 35209531, 35209532, 35209537, 35209539, 35209540, 35209541, 35209542, 35209543, 35209544, 35209545, 35209546, 35209547, 35209548, 37200942, 37200943, 37200944, 37200945, 37200946, 37200948, 37200949, 37200950, 37200951, 37200953, 37200954, 37200955, 37200956, 44819846, 44819847, 44819848, 44819849, 44819850, 44819851, 44819852, 44819853, 44819854, 44819856, 44819858, 44819859, 44819860, 44819861, 44819863, 44819864, 44819866, 44819867, 44819868, 44819869, 44819871, 44819872, 44819874, 44819876, 44819878, 44819881, 44819882, 44819883, 44819884, 44819885, 44819886, 44819887, 44819888, 44819890, 44819891, 44819892, 44819893, 44819894,\n",
    " 44819895, 44819896, 44819898, 44819900, 44819902, 44819904, 44819906, 44819909, 44819910, 44819912, 44819913, 44819914, 44819916, 44819918, 44819920, 44819921, 44819922, 44819923, 44819924, 44819925, 44819928, 44819929, 44819931, 44819932, 44821001, 44821002, 44821003, 44821004, 44821006, 44821007, 44821008, 44821014, 44821016, 44821017, 44821018, 44821019, 44821020, 44821021, 44821023, 44821027, 44821029, 44821031, 44821032, 44821033, 44821034, 44821037, 44821039, 44821041, 44821043, 44821044, 44821045, 44821047, 44821048, 44821049, 44821052, 44821053, 44821055, 44821056, 44821057, 44821058, 44821059, 44821065, 44821067, 44821070, 44821073, 44821074, 44821075, 44821076, 44821077, 44821078, 44821079, 44821080, 44821081, 44821082, 44822064, 44822066, 44822067, 44822068, 44822079, 44822080, 44822081, 44822082, 44822083, 44822084, 44822085, 44822087, 44822088, 44822090, 44822091, 44822093, 44822094, 44822097, 44822098, 44822099, 44822100, 44822101, 44822102, 44822103, 44822104, 44822105,\n",
    " 44822107, 44822108, 44822109, 44822110, 44822111, 44822112, 44822113, 44822114, 44822116, 44822117, 44822118, 44822119, 44822120, 44822121, 44822122, 44822124, 44822125, 44822126, 44822127, 44822128, 44822129, 44822130, 44822131, 44822134, 44822135, 44822136, 44822137, 44822140, 44822141, 44822143, 44822144, 44822150, 44822153, 44822156, 44822158, 44822159, 44823216, 44823217, 44823218, 44823221, 44823227, 44823228, 44823229, 44823230, 44823231, 44823235, 44823236, 44823237, 44823238, 44823239, 44823241, 44823243, 44823245, 44823246, 44823247, 44823248, 44823249, 44823250, 44823255, 44823258, 44823259, 44823260, 44823262, 44823263, 44823264, 44823265, 44823266, 44823267, 44823268, 44823269, 44823270, 44823272, 44823273, 44823274, 44823275, 44823278, 44823279, 44823280, 44823281, 44823282, 44823283, 44823284, 44823285, 44823286, 44823287, 44823289, 44823291, 44823293, 44823295, 44823296, 44823299, 44823301, 44823302, 44823304, 44823305, 44823307, 44823310, 44823311, 44823312, 44823313,\n",
    " 44823314, 44824369, 44824370, 44824371, 44824372, 44824374, 44824384, 44824385, 44824386, 44824388, 44824389, 44824390, 44824391, 44824392, 44824393, 44824394, 44824395, 44824396, 44824397, 44824398, 44824399, 44824402, 44824403, 44824404, 44824405, 44824406, 44824407, 44824408, 44824409, 44824411, 44824413, 44824414, 44824415, 44824416, 44824417, 44824418, 44824419, 44824420, 44824421, 44824422, 44824423, 44824425, 44824427, 44824428, 44824429, 44824430, 44824431, 44824432, 44824433, 44824434, 44824435, 44824437, 44824438, 44824440, 44824441, 44824443, 44824444, 44824445, 44824448, 44824449, 44824453, 44824456, 44824459, 44824460, 44824461, 44824463, 44824465, 44824467, 44825572, 44825582, 44825585, 44825586, 44825587, 44825588, 44825589, 44825590, 44825591, 44825592, 44825593, 44825594, 44825595, 44825596, 44825599, 44825600, 44825601, 44825602, 44825603, 44825604, 44825605, 44825606, 44825607, 44825608, 44825609, 44825610, 44825611, 44825613, 44825615, 44825618, 44825619, 44825620,\n",
    " 44825621, 44825622, 44825623, 44825624, 44825626, 44825629, 44825631, 44825633, 44825634, 44825635, 44825636, 44825638, 44825639, 44825640, 44825642, 44825644, 44825645, 44825646, 44826756, 44826757, 44826758, 44826760, 44826761, 44826762, 44826769, 44826770, 44826771, 44826773, 44826774, 44826775, 44826776, 44826777, 44826778, 44826779, 44826780, 44826784, 44826786, 44826787, 44826789, 44826791, 44826792, 44826796, 44826797, 44826798, 44826800, 44826801, 44826802, 44826804, 44826805, 44826806, 44826807, 44826808, 44826809, 44826813, 44826814, 44826818, 44826819, 44826820, 44826821, 44826822, 44826823, 44826824, 44826825, 44826827, 44826828, 44826829, 44826830, 44826831, 44826834, 44826836, 44826840, 44827917, 44827923, 44827929, 44827930, 44827931, 44827932, 44827933, 44827934, 44827935, 44827936, 44827937, 44827938, 44827939, 44827940, 44827941, 44827942, 44827943, 44827944, 44827945, 44827946, 44827947, 44827948, 44827949, 44827950, 44827951, 44827952, 44827954, 44827955, 44827956,\n",
    " 44827957, 44827958, 44827959, 44827960, 44827961, 44827962, 44827963, 44827964, 44827965, 44827966, 44827967, 44827968, 44827969, 44827970, 44827971, 44827972, 44827974, 44827975, 44827977, 44827978, 44827979, 44827980, 44827981, 44827983, 44827985, 44827986, 44827988, 44827990, 44827991, 44827992, 44827993, 44827995, 44827996, 44827997, 44827998, 44829096, 44829097, 44829098, 44829099, 44829100, 44829101, 44829102, 44829103, 44829104, 44829105, 44829106, 44829108, 44829109, 44829110, 44829114, 44829115, 44829116, 44829117, 44829118, 44829120, 44829121, 44829122, 44829125, 44829126, 44829127, 44829128, 44829130, 44829131, 44829132, 44829133, 44829135, 44829138, 44829139, 44829141, 44829142, 44829145, 44829146, 44829147, 44829148, 44829149, 44829150, 44829152, 44829154, 44829155, 44829156, 44829158, 44829159, 44829161, 44829162, 44829163, 44829164, 44829167, 44829168, 44829169, 44829170, 44829171, 44829173, 44830199, 44830200, 44830205, 44830206, 44830207, 44830208, 44830209, 44830210,\n",
    " 44830211, 44830212, 44830213, 44830214, 44830215, 44830216, 44830217, 44830218, 44830219, 44830220, 44830221, 44830222, 44830223, 44830225, 44830226, 44830229, 44830230, 44830232, 44830233, 44830234, 44830235, 44830236, 44830238, 44830239, 44830240, 44830241, 44830242, 44830243, 44830245, 44830248, 44830250, 44830252, 44830253, 44830255, 44830258, 44830261, 44830262, 44830263, 44830264, 44830265, 44830266, 44830267, 44830269, 44830274, 44830276, 44830282, 44830283, 44830284, 44830287, 44830288, 44830290, 44830291, 44830292, 44830293, 44831364, 44831371, 44831372, 44831373, 44831374, 44831375, 44831376, 44831377, 44831378, 44831379, 44831380, 44831381, 44831383, 44831384, 44831385, 44831386, 44831387, 44831388, 44831389, 44831390, 44831391, 44831392, 44831393, 44831394, 44831395, 44831396, 44831397, 44831398, 44831399, 44831400, 44831401, 44831403, 44831404, 44831405, 44831406, 44831408, 44831409, 44831410, 44831411, 44831412, 44831413, 44831414, 44831415, 44831416, 44831417, 44831419,\n",
    " 44831422, 44831423, 44831424, 44831425, 44831426, 44831428, 44831431, 44831433, 44831434, 44831435, 44831436, 44831437, 44831438, 44831440, 44831441, 44831442, 44831445, 44831446, 44831447, 44831449, 44831450, 44831452, 44831454, 44832507, 44832509, 44832513, 44832518, 44832519, 44832520, 44832521, 44832522, 44832523, 44832524, 44832525, 44832526, 44832528, 44832529, 44832531, 44832532, 44832533, 44832535, 44832536, 44832537, 44832538, 44832539, 44832541, 44832542, 44832543, 44832544, 44832545, 44832546, 44832547, 44832548, 44832549, 44832550, 44832551, 44832553, 44832554, 44832556, 44832557, 44832558, 44832559, 44832561, 44832562, 44832564, 44832566, 44832568, 44832570, 44832571, 44832572, 44832573, 44832574, 44832577, 44832579, 44832581, 44832582, 44832585, 44832587, 44832588, 44832591, 44832593, 44832594, 44832595, 44832596, 44832597, 44833693, 44833694, 44833695, 44833696, 44833697, 44833698, 44833712, 44833713, 44833714, 44833715, 44833717, 44833718, 44833719, 44833721, 44833722,\n",
    " 44833723, 44833724, 44833725, 44833726, 44833727, 44833728, 44833730, 44833733, 44833734, 44833736, 44833737, 44833738, 44833739, 44833740, 44833741, 44833742, 44833743, 44833744, 44833745, 44833747, 44833749, 44833751, 44833752, 44833753, 44833754, 44833755, 44833756, 44833757, 44833758, 44833759, 44833761, 44833763, 44833764, 44833768, 44833770, 44833771, 44833772, 44833773, 44833776, 44833779, 44833780, 44833781, 44833782, 44834860, 44834867, 44834872, 44834873, 44834874, 44834875, 44834876, 44834877, 44834878, 44834879, 44834881, 44834882, 44834883, 44834884, 44834885, 44834886, 44834888, 44834890, 44834891, 44834893, 44834894, 44834895, 44834897, 44834898, 44834900, 44834901, 44834904, 44834905, 44834906, 44834908, 44834909, 44834911, 44834912, 44834913, 44834914, 44834915, 44834919, 44834920, 44834921, 44834922, 44834923, 44834924, 44834927, 44834928, 44834929, 44834931, 44834933, 44834934, 44834937, 44834942, 44834943, 44834946, 44834947, 44836063, 44836064, 44836065, 44836066,\n",
    " 44836070, 44836071, 44836072, 44836073, 44836074, 44836075, 44836076, 44836077, 44836078, 44836079, 44836081, 44836084, 44836085, 44836086, 44836087, 44836088, 44836089, 44836090, 44836091, 44836092, 44836093, 44836094, 44836096, 44836097, 44836099, 44836100, 44836102, 44836104, 44836106, 44836109, 44836111, 44836112, 44836113, 44836114, 44836118, 44836120, 44836121, 44836122, 44836125, 44836126, 44836127, 44836128, 44836129, 44836132, 44836134, 44836135, 44836137, 44836138, 44836139, 44836141, 44836142, 44836143, 44836144, 44836145, 44837213, 44837214, 44837215, 44837226, 44837228, 44837229, 44837231, 44837232, 44837233, 44837234, 44837235, 44837236, 44837237, 44837238, 44837239, 44837240, 44837241, 44837242, 44837243, 44837244, 44837245, 44837246, 44837247, 44837248, 44837249, 44837250, 44837251, 44837252, 44837253, 44837254, 44837255, 44837256, 44837257, 44837258, 44837259, 44837260, 44837261, 44837262, 44837263, 44837267, 44837268, 44837271, 44837272, 44837273, 44837274, 44837276,\n",
    " 44837277, 44837280, 44837281, 44837282, 44837283, 44837284, 44837285, 44837286, 44837288, 44837292, 44837293, 44837294, 44837296, 44837297, 44837298, 44837299, 44837300, 44837301, 45534162, 45534163, 45534164, 45534165, 45534167, 45534168, 45543911, 45543912, 45548688, 45548689, 45548692, 45548693, 45548694, 45548696, 45553466, 45553470, 45553473, 45553474, 45558184, 45558186, 45558192, 45558193, 45558195, 45558196, 45558199, 45563038, 45563039, 45563043, 45563044, 45563045, 45563046, 45567880, 45567884, 45572746, 45572748, 45572749, 45572753, 45572757, 45572758, 45572759, 45572760, 45577553, 45577554, 45577555, 45582435, 45582439, 45582440, 45582441, 45587273, 45587274, 45587275, 45587276, 45587277, 45587279, 45592169, 45592171, 45592173, 45592175, 45592176, 45592178, 45592179, 45592180, 45592181, 45592182, 45596897, 45596898, 45596899, 45596911, 45596912, 45596913, 45601765, 45601772, 45601773, 45601774, 45601775, 45601776, 45606534, 45606535, 45606536)       \n",
    "                        AND full_text LIKE '%_rank1]%'      ) a \n",
    "                        ON (c.path LIKE CONCAT('%.', a.id, '.%') \n",
    "                        OR c.path LIKE CONCAT('%.', a.id) \n",
    "                        OR c.path LIKE CONCAT(a.id, '.%') \n",
    "                        OR c.path = a.id) \n",
    "                WHERE\n",
    "                    is_standard = 0 \n",
    "                    AND is_selectable = 1)\n",
    "            )  \n",
    "            AND (\n",
    "                c_occurrence.PERSON_ID IN (SELECT\n",
    "                    distinct person_id  \n",
    "                FROM\n",
    "                    `cb_search_person` cb_search_person  \n",
    "                WHERE\n",
    "                    cb_search_person.person_id IN (SELECT\n",
    "                        criteria.person_id \n",
    "                    FROM\n",
    "                        (SELECT\n",
    "                            DISTINCT person_id, entry_date, concept_id \n",
    "                        FROM\n",
    "                            `cb_search_all_events` \n",
    "                        WHERE\n",
    "                            (concept_id IN(SELECT\n",
    "                                DISTINCT c.concept_id \n",
    "                            FROM\n",
    "                                `cb_criteria` c \n",
    "                            JOIN\n",
    "                                (SELECT\n",
    "                                    CAST(cr.id as string) AS id       \n",
    "                                FROM\n",
    "                                    `cb_criteria` cr       \n",
    "                                WHERE\n",
    "                                    concept_id IN (3023399, 37052205, 3006499, 3017044, 3044958, 4197602, 3045302, 3019762, 3032069, 3016806, 3038369, 3001019, 3016735, 3009201, 3019170, 4246879, 3015559, 40760528, 3009023, 3006939, 3027700)       \n",
    "                                    AND full_text LIKE '%_rank1]%'      ) a \n",
    "                                    ON (c.path LIKE CONCAT('%.', a.id, '.%') \n",
    "                                    OR c.path LIKE CONCAT('%.', a.id) \n",
    "                                    OR c.path LIKE CONCAT(a.id, '.%') \n",
    "                                    OR c.path = a.id) \n",
    "                            WHERE\n",
    "                                is_standard = 1 \n",
    "                                AND is_selectable = 1) \n",
    "                            AND is_standard = 1 )) criteria ) \n",
    "                    AND cb_search_person.person_id IN (SELECT\n",
    "                        person_id \n",
    "                    FROM\n",
    "                        `cb_search_person` p \n",
    "                    WHERE\n",
    "                        has_whole_genome_variant = 1 ) \n",
    "                    AND cb_search_person.person_id NOT IN (SELECT\n",
    "                        criteria.person_id \n",
    "                    FROM\n",
    "                        (SELECT\n",
    "                            DISTINCT person_id, entry_date, concept_id \n",
    "                        FROM\n",
    "                            `cb_search_all_events` \n",
    "                        WHERE\n",
    "                            (concept_id IN(SELECT\n",
    "                                DISTINCT c.concept_id \n",
    "                            FROM\n",
    "                                `cb_criteria` c \n",
    "                            JOIN\n",
    "                                (SELECT\n",
    "                                    CAST(cr.id as string) AS id       \n",
    "                                FROM\n",
    "                                    `cb_criteria` cr       \n",
    "                                WHERE\n",
    "                                    concept_id IN (35206909, 35206912, 35206914, 35206911, 35206913, 35206910, 1567993)       \n",
    "                                    AND full_text LIKE '%_rank1]%'      ) a \n",
    "                                    ON (c.path LIKE CONCAT('%.', a.id, '.%') \n",
    "                                    OR c.path LIKE CONCAT('%.', a.id) \n",
    "                                    OR c.path LIKE CONCAT(a.id, '.%') \n",
    "                                    OR c.path = a.id) \n",
    "                            WHERE\n",
    "                                is_standard = 0 \n",
    "                                AND is_selectable = 1) \n",
    "                            AND is_standard = 0 )) criteria \n",
    "                    UNION\n",
    "                    DISTINCT SELECT\n",
    "                        criteria.person_id \n",
    "                    FROM\n",
    "                        (SELECT\n",
    "                            DISTINCT person_id, entry_date, concept_id \n",
    "                        FROM\n",
    "                            `cb_search_all_events` \n",
    "                        WHERE\n",
    "                            (concept_id IN(SELECT\n",
    "                                DISTINCT c.concept_id \n",
    "                            FROM\n",
    "                                `cb_criteria` c \n",
    "                            JOIN\n",
    "                                (SELECT\n",
    "                                    CAST(cr.id as string) AS id       \n",
    "                                FROM\n",
    "                                    `cb_criteria` cr       \n",
    "                                WHERE\n",
    "                                    concept_id IN (1567895, 1567893, 35206304)       \n",
    "                                    AND full_text LIKE '%_rank1]%'      ) a \n",
    "                                    ON (c.path LIKE CONCAT('%.', a.id, '.%') \n",
    "                                    OR c.path LIKE CONCAT('%.', a.id) \n",
    "                                    OR c.path LIKE CONCAT(a.id, '.%') \n",
    "                                    OR c.path = a.id) \n",
    "                            WHERE\n",
    "                                is_standard = 0 \n",
    "                                AND is_selectable = 1) \n",
    "                            AND is_standard = 0 )) criteria \n",
    "                    UNION\n",
    "                    DISTINCT SELECT\n",
    "                        criteria.person_id \n",
    "                    FROM\n",
    "                        (SELECT\n",
    "                            DISTINCT person_id, entry_date, concept_id \n",
    "                        FROM\n",
    "                            `cb_search_all_events` \n",
    "                        WHERE\n",
    "                            (concept_id IN(SELECT\n",
    "                                DISTINCT c.concept_id \n",
    "                            FROM\n",
    "                                `cb_criteria` c \n",
    "                            JOIN\n",
    "                                (SELECT\n",
    "                                    CAST(cr.id as string) AS id       \n",
    "                                FROM\n",
    "                                    `cb_criteria` cr       \n",
    "                                WHERE\n",
    "                                    concept_id IN (44825214, 44829873, 44822938, 44827619, 44833373, 44820687, 44819497, 44828784, 44825267)       \n",
    "                                    AND full_text LIKE '%_rank1]%'      ) a \n",
    "                                    ON (c.path LIKE CONCAT('%.', a.id, '.%') \n",
    "                                    OR c.path LIKE CONCAT('%.', a.id) \n",
    "                                    OR c.path LIKE CONCAT(a.id, '.%') \n",
    "                                    OR c.path = a.id) \n",
    "                            WHERE\n",
    "                                is_standard = 0 \n",
    "                                AND is_selectable = 1) \n",
    "                            AND is_standard = 0 )) criteria ) )\n",
    "                )\n",
    "            ) c_occurrence\", sep=\"\")\n",
    "\n",
    "# Formulate a Cloud Storage destination path for the data exported from BigQuery.\n",
    "# NOTE: By default data exported multiple times on the same day will overwrite older copies.\n",
    "#       But data exported on a different days will write to a new location so that historical\n",
    "#       copies can be kept as the dataset definition is changed.\n",
    "condition_17403006_path <- file.path(\n",
    "  Sys.getenv(\"WORKSPACE_BUCKET\"),\n",
    "  \"bq_exports\",\n",
    "  Sys.getenv(\"OWNER_EMAIL\"),\n",
    "  strftime(lubridate::now(), \"%Y%m%d\"),  # Comment out this line if you want the export to always overwrite.\n",
    "  \"condition_17403006\",\n",
    "  \"condition_17403006_*.csv\")\n",
    "message(str_glue('The data will be written to {condition_17403006_path}. Use this path when reading ',\n",
    "                 'the data into your notebooks in the future.'))\n",
    "\n",
    "# Perform the query and export the dataset to Cloud Storage as CSV files.\n",
    "# NOTE: You only need to run `bq_table_save` once. After that, you can\n",
    "#       just read data from the CSVs in Cloud Storage.\n",
    "bq_table_save(\n",
    "  bq_dataset_query(Sys.getenv(\"WORKSPACE_CDR\"), dataset_17403006_condition_sql, billing = Sys.getenv(\"GOOGLE_PROJECT\")),\n",
    "  condition_17403006_path,\n",
    "  destination_format = \"CSV\")\n",
    "\n"
   ]
  },
  {
   "cell_type": "code",
   "execution_count": null,
   "metadata": {},
   "outputs": [],
   "source": [
    "# Read the data directly from Cloud Storage into memory.\n",
    "# NOTE: Alternatively you can `gsutil -m cp {condition_17403006_path}` to copy these files\n",
    "#       to the Jupyter disk.\n",
    "read_bq_export_from_workspace_bucket <- function(export_path) {\n",
    "  col_types <- cols(condition_source_value = col_character())\n",
    "  bind_rows(\n",
    "    map(system2('gsutil', args = c('ls', export_path), stdout = TRUE, stderr = TRUE),\n",
    "        function(csv) {\n",
    "          message(str_glue('Loading {csv}.'))\n",
    "          chunk <- read_csv(pipe(str_glue('gsutil cat {csv}')), col_types = col_types, show_col_types = FALSE)\n",
    "          if (is.null(col_types)) {\n",
    "            col_types <- spec(chunk)\n",
    "          }\n",
    "          chunk\n",
    "        }))\n",
    "}\n",
    "preg_condition_raw <- read_bq_export_from_workspace_bucket(condition_17403006_path)\n",
    "\n",
    "dim(preg_condition_raw)\n",
    "\n",
    "head(preg_condition_raw, 5)"
   ]
  },
  {
   "cell_type": "markdown",
   "metadata": {},
   "source": [
    "## TSH labs"
   ]
  },
  {
   "cell_type": "code",
   "execution_count": null,
   "metadata": {},
   "outputs": [],
   "source": [
    "# This query represents dataset \"TSH pheno v8\" for domain \"measurement\" and was generated for All of Us Controlled Tier Dataset v8\n",
    "dataset_17403006_measurement_sql <- paste(\"\n",
    "    SELECT\n",
    "        measurement.person_id,\n",
    "        measurement.measurement_concept_id,\n",
    "        m_standard_concept.concept_name as standard_concept_name,\n",
    "        m_standard_concept.concept_code as standard_concept_code,\n",
    "        m_standard_concept.vocabulary_id as standard_vocabulary,\n",
    "        measurement.measurement_datetime,\n",
    "        measurement.measurement_type_concept_id,\n",
    "        m_type.concept_name as measurement_type_concept_name,\n",
    "        measurement.operator_concept_id,\n",
    "        m_operator.concept_name as operator_concept_name,\n",
    "        measurement.value_as_number,\n",
    "        measurement.value_as_concept_id,\n",
    "        m_value.concept_name as value_as_concept_name,\n",
    "        measurement.unit_concept_id,\n",
    "        m_unit.concept_name as unit_concept_name,\n",
    "        measurement.range_low,\n",
    "        measurement.range_high,\n",
    "        measurement.visit_occurrence_id,\n",
    "        m_visit.concept_name as visit_occurrence_concept_name,\n",
    "        measurement.measurement_source_value,\n",
    "        measurement.measurement_source_concept_id,\n",
    "        m_source_concept.concept_name as source_concept_name,\n",
    "        m_source_concept.concept_code as source_concept_code,\n",
    "        m_source_concept.vocabulary_id as source_vocabulary,\n",
    "        measurement.unit_source_value,\n",
    "        measurement.value_source_value \n",
    "    FROM\n",
    "        ( SELECT\n",
    "            * \n",
    "        FROM\n",
    "            `measurement` measurement \n",
    "        WHERE\n",
    "            (\n",
    "                measurement_concept_id IN (SELECT\n",
    "                    DISTINCT c.concept_id \n",
    "                FROM\n",
    "                    `cb_criteria` c \n",
    "                JOIN\n",
    "                    (SELECT\n",
    "                        CAST(cr.id as string) AS id       \n",
    "                    FROM\n",
    "                        `cb_criteria` cr       \n",
    "                    WHERE\n",
    "                        concept_id IN (3000551, 3001019, 3006499, 3006939, 3008598, 3009023, 3009201, 3010340, 3015559, 3016735, 3016806, 3016991, 3017044, 3019170, 3019762, 3021717, 3023399, 3025547, 3026925, 3027238, 3027700, 3032069, 3038369, 3044958, 3045302, 37034510, 37050150, 37052205, 37053647, 40760528, 40796118, 4190803, 4197602, 4246879, 42529233, 42530171)       \n",
    "                        AND full_text LIKE '%_rank1]%'      ) a \n",
    "                        ON (c.path LIKE CONCAT('%.', a.id, '.%') \n",
    "                        OR c.path LIKE CONCAT('%.', a.id) \n",
    "                        OR c.path LIKE CONCAT(a.id, '.%') \n",
    "                        OR c.path = a.id) \n",
    "                WHERE\n",
    "                    is_standard = 1 \n",
    "                    AND is_selectable = 1) \n",
    "                OR  measurement_source_concept_id IN (SELECT\n",
    "                    DISTINCT c.concept_id \n",
    "                FROM\n",
    "                    `cb_criteria` c \n",
    "                JOIN\n",
    "                    (SELECT\n",
    "                        CAST(cr.id as string) AS id       \n",
    "                    FROM\n",
    "                        `cb_criteria` cr       \n",
    "                    WHERE\n",
    "                        concept_id IN (2212591, 2212593, 2212603)       \n",
    "                        AND full_text LIKE '%_rank1]%'      ) a \n",
    "                        ON (c.path LIKE CONCAT('%.', a.id, '.%') \n",
    "                        OR c.path LIKE CONCAT('%.', a.id) \n",
    "                        OR c.path LIKE CONCAT(a.id, '.%') \n",
    "                        OR c.path = a.id) \n",
    "                WHERE\n",
    "                    is_standard = 0 \n",
    "                    AND is_selectable = 1)\n",
    "            )  \n",
    "            AND (\n",
    "                measurement.PERSON_ID IN (SELECT\n",
    "                    distinct person_id  \n",
    "                FROM\n",
    "                    `cb_search_person` cb_search_person  \n",
    "                WHERE\n",
    "                    cb_search_person.person_id IN (SELECT\n",
    "                        criteria.person_id \n",
    "                    FROM\n",
    "                        (SELECT\n",
    "                            DISTINCT person_id, entry_date, concept_id \n",
    "                        FROM\n",
    "                            `cb_search_all_events` \n",
    "                        WHERE\n",
    "                            (concept_id IN(SELECT\n",
    "                                DISTINCT c.concept_id \n",
    "                            FROM\n",
    "                                `cb_criteria` c \n",
    "                            JOIN\n",
    "                                (SELECT\n",
    "                                    CAST(cr.id as string) AS id       \n",
    "                                FROM\n",
    "                                    `cb_criteria` cr       \n",
    "                                WHERE\n",
    "                                    concept_id IN (3023399, 37052205, 3006499, 3017044, 3044958, 4197602, 3045302, 3019762, 3032069, 3016806, 3038369, 3001019, 3016735, 3009201, 3019170, 4246879, 3015559, 40760528, 3009023, 3006939, 3027700)       \n",
    "                                    AND full_text LIKE '%_rank1]%'      ) a \n",
    "                                    ON (c.path LIKE CONCAT('%.', a.id, '.%') \n",
    "                                    OR c.path LIKE CONCAT('%.', a.id) \n",
    "                                    OR c.path LIKE CONCAT(a.id, '.%') \n",
    "                                    OR c.path = a.id) \n",
    "                            WHERE\n",
    "                                is_standard = 1 \n",
    "                                AND is_selectable = 1) \n",
    "                            AND is_standard = 1 )) criteria ) \n",
    "                    AND cb_search_person.person_id IN (SELECT\n",
    "                        person_id \n",
    "                    FROM\n",
    "                        `cb_search_person` p \n",
    "                    WHERE\n",
    "                        has_whole_genome_variant = 1 ) \n",
    "                    AND cb_search_person.person_id NOT IN (SELECT\n",
    "                        criteria.person_id \n",
    "                    FROM\n",
    "                        (SELECT\n",
    "                            DISTINCT person_id, entry_date, concept_id \n",
    "                        FROM\n",
    "                            `cb_search_all_events` \n",
    "                        WHERE\n",
    "                            (concept_id IN(SELECT\n",
    "                                DISTINCT c.concept_id \n",
    "                            FROM\n",
    "                                `cb_criteria` c \n",
    "                            JOIN\n",
    "                                (SELECT\n",
    "                                    CAST(cr.id as string) AS id       \n",
    "                                FROM\n",
    "                                    `cb_criteria` cr       \n",
    "                                WHERE\n",
    "                                    concept_id IN (35206909, 35206912, 35206914, 35206911, 35206913, 35206910, 1567993)       \n",
    "                                    AND full_text LIKE '%_rank1]%'      ) a \n",
    "                                    ON (c.path LIKE CONCAT('%.', a.id, '.%') \n",
    "                                    OR c.path LIKE CONCAT('%.', a.id) \n",
    "                                    OR c.path LIKE CONCAT(a.id, '.%') \n",
    "                                    OR c.path = a.id) \n",
    "                            WHERE\n",
    "                                is_standard = 0 \n",
    "                                AND is_selectable = 1) \n",
    "                            AND is_standard = 0 )) criteria \n",
    "                    UNION\n",
    "                    DISTINCT SELECT\n",
    "                        criteria.person_id \n",
    "                    FROM\n",
    "                        (SELECT\n",
    "                            DISTINCT person_id, entry_date, concept_id \n",
    "                        FROM\n",
    "                            `cb_search_all_events` \n",
    "                        WHERE\n",
    "                            (concept_id IN(SELECT\n",
    "                                DISTINCT c.concept_id \n",
    "                            FROM\n",
    "                                `cb_criteria` c \n",
    "                            JOIN\n",
    "                                (SELECT\n",
    "                                    CAST(cr.id as string) AS id       \n",
    "                                FROM\n",
    "                                    `cb_criteria` cr       \n",
    "                                WHERE\n",
    "                                    concept_id IN (1567895, 1567893, 35206304)       \n",
    "                                    AND full_text LIKE '%_rank1]%'      ) a \n",
    "                                    ON (c.path LIKE CONCAT('%.', a.id, '.%') \n",
    "                                    OR c.path LIKE CONCAT('%.', a.id) \n",
    "                                    OR c.path LIKE CONCAT(a.id, '.%') \n",
    "                                    OR c.path = a.id) \n",
    "                            WHERE\n",
    "                                is_standard = 0 \n",
    "                                AND is_selectable = 1) \n",
    "                            AND is_standard = 0 )) criteria \n",
    "                    UNION\n",
    "                    DISTINCT SELECT\n",
    "                        criteria.person_id \n",
    "                    FROM\n",
    "                        (SELECT\n",
    "                            DISTINCT person_id, entry_date, concept_id \n",
    "                        FROM\n",
    "                            `cb_search_all_events` \n",
    "                        WHERE\n",
    "                            (concept_id IN(SELECT\n",
    "                                DISTINCT c.concept_id \n",
    "                            FROM\n",
    "                                `cb_criteria` c \n",
    "                            JOIN\n",
    "                                (SELECT\n",
    "                                    CAST(cr.id as string) AS id       \n",
    "                                FROM\n",
    "                                    `cb_criteria` cr       \n",
    "                                WHERE\n",
    "                                    concept_id IN (44825214, 44829873, 44822938, 44827619, 44833373, 44820687, 44819497, 44828784, 44825267)       \n",
    "                                    AND full_text LIKE '%_rank1]%'      ) a \n",
    "                                    ON (c.path LIKE CONCAT('%.', a.id, '.%') \n",
    "                                    OR c.path LIKE CONCAT('%.', a.id) \n",
    "                                    OR c.path LIKE CONCAT(a.id, '.%') \n",
    "                                    OR c.path = a.id) \n",
    "                            WHERE\n",
    "                                is_standard = 0 \n",
    "                                AND is_selectable = 1) \n",
    "                            AND is_standard = 0 )) criteria ) )\n",
    "                )\n",
    "            ) measurement \n",
    "        LEFT JOIN\n",
    "            `concept` m_standard_concept \n",
    "                ON measurement.measurement_concept_id = m_standard_concept.concept_id \n",
    "        LEFT JOIN\n",
    "            `concept` m_type \n",
    "                ON measurement.measurement_type_concept_id = m_type.concept_id \n",
    "        LEFT JOIN\n",
    "            `concept` m_operator \n",
    "                ON measurement.operator_concept_id = m_operator.concept_id \n",
    "        LEFT JOIN\n",
    "            `concept` m_value \n",
    "                ON measurement.value_as_concept_id = m_value.concept_id \n",
    "        LEFT JOIN\n",
    "            `concept` m_unit \n",
    "                ON measurement.unit_concept_id = m_unit.concept_id \n",
    "        LEFT JOIn\n",
    "            `visit_occurrence` v \n",
    "                ON measurement.visit_occurrence_id = v.visit_occurrence_id \n",
    "        LEFT JOIN\n",
    "            `concept` m_visit \n",
    "                ON v.visit_concept_id = m_visit.concept_id \n",
    "        LEFT JOIN\n",
    "            `concept` m_source_concept \n",
    "                ON measurement.measurement_source_concept_id = m_source_concept.concept_id\", sep=\"\")\n",
    "\n",
    "# Formulate a Cloud Storage destination path for the data exported from BigQuery.\n",
    "# NOTE: By default data exported multiple times on the same day will overwrite older copies.\n",
    "#       But data exported on a different days will write to a new location so that historical\n",
    "#       copies can be kept as the dataset definition is changed.\n",
    "measurement_17403006_path <- file.path(\n",
    "  Sys.getenv(\"WORKSPACE_BUCKET\"),\n",
    "  \"bq_exports\",\n",
    "  Sys.getenv(\"OWNER_EMAIL\"),\n",
    "  strftime(lubridate::now(), \"%Y%m%d\"),  # Comment out this line if you want the export to always overwrite.\n",
    "  \"measurement_17403006\",\n",
    "  \"measurement_17403006_*.csv\")\n",
    "message(str_glue('The data will be written to {measurement_17403006_path}. Use this path when reading ',\n",
    "                 'the data into your notebooks in the future.'))\n",
    "\n",
    "# Perform the query and export the dataset to Cloud Storage as CSV files.\n",
    "# NOTE: You only need to run `bq_table_save` once. After that, you can\n",
    "#       just read data from the CSVs in Cloud Storage.\n",
    "bq_table_save(\n",
    "  bq_dataset_query(Sys.getenv(\"WORKSPACE_CDR\"), dataset_17403006_measurement_sql, billing = Sys.getenv(\"GOOGLE_PROJECT\")),\n",
    "  measurement_17403006_path,\n",
    "  destination_format = \"CSV\")\n",
    "\n"
   ]
  },
  {
   "cell_type": "code",
   "execution_count": null,
   "metadata": {},
   "outputs": [],
   "source": [
    "# Read the data directly from Cloud Storage into memory.\n",
    "# NOTE: Alternatively you can `gsutil -m cp {measurement_17403006_path}` to copy these files\n",
    "#       to the Jupyter disk.\n",
    "read_bq_export_from_workspace_bucket <- function(export_path) {\n",
    "  col_types <- cols(standard_concept_name = col_character(), standard_concept_code = col_character(), standard_vocabulary = col_character(), measurement_type_concept_name = col_character(), operator_concept_name = col_character(), value_as_concept_name = col_character(), unit_concept_name = col_character(), visit_occurrence_concept_name = col_character(), measurement_source_value = col_character(), source_concept_name = col_character(), source_concept_code = col_character(), source_vocabulary = col_character(), unit_source_value = col_character(), value_source_value = col_character())\n",
    "  bind_rows(\n",
    "    map(system2('gsutil', args = c('ls', export_path), stdout = TRUE, stderr = TRUE),\n",
    "        function(csv) {\n",
    "          message(str_glue('Loading {csv}.'))\n",
    "          chunk <- read_csv(pipe(str_glue('gsutil cat {csv}')), col_types = col_types, show_col_types = FALSE)\n",
    "          if (is.null(col_types)) {\n",
    "            col_types <- spec(chunk)\n",
    "          }\n",
    "          chunk\n",
    "        }))\n",
    "}\n",
    "labs_raw <- read_bq_export_from_workspace_bucket(measurement_17403006_path)\n",
    "\n",
    "dim(labs_raw)\n",
    "\n",
    "head(labs_raw, 5)"
   ]
  },
  {
   "cell_type": "markdown",
   "metadata": {},
   "source": [
    "## demo"
   ]
  },
  {
   "cell_type": "code",
   "execution_count": null,
   "metadata": {},
   "outputs": [],
   "source": [
    "# This query represents dataset \"TSH pheno v8\" for domain \"person\" and was generated for All of Us Controlled Tier Dataset v8\n",
    "dataset_17403006_person_sql <- paste(\"\n",
    "    SELECT\n",
    "        person.person_id,\n",
    "        person.birth_datetime as date_of_birth,\n",
    "        p_sex_at_birth_concept.concept_name as sex_at_birth \n",
    "    FROM\n",
    "        `person` person \n",
    "    LEFT JOIN\n",
    "        `concept` p_sex_at_birth_concept \n",
    "            ON person.sex_at_birth_concept_id = p_sex_at_birth_concept.concept_id  \n",
    "    WHERE\n",
    "        person.PERSON_ID IN (SELECT\n",
    "            distinct person_id  \n",
    "        FROM\n",
    "            `cb_search_person` cb_search_person  \n",
    "        WHERE\n",
    "            cb_search_person.person_id IN (SELECT\n",
    "                criteria.person_id \n",
    "            FROM\n",
    "                (SELECT\n",
    "                    DISTINCT person_id, entry_date, concept_id \n",
    "                FROM\n",
    "                    `cb_search_all_events` \n",
    "                WHERE\n",
    "                    (concept_id IN(SELECT\n",
    "                        DISTINCT c.concept_id \n",
    "                    FROM\n",
    "                        `cb_criteria` c \n",
    "                    JOIN\n",
    "                        (SELECT\n",
    "                            CAST(cr.id as string) AS id       \n",
    "                        FROM\n",
    "                            `cb_criteria` cr       \n",
    "                        WHERE\n",
    "                            concept_id IN (3023399, 37052205, 3006499, 3017044, 3044958, 4197602, 3045302, 3019762, 3032069, 3016806, 3038369, 3001019, 3016735, 3009201, 3019170, 4246879, 3015559, 40760528, 3009023, 3006939, 3027700)       \n",
    "                            AND full_text LIKE '%_rank1]%'      ) a \n",
    "                            ON (c.path LIKE CONCAT('%.', a.id, '.%') \n",
    "                            OR c.path LIKE CONCAT('%.', a.id) \n",
    "                            OR c.path LIKE CONCAT(a.id, '.%') \n",
    "                            OR c.path = a.id) \n",
    "                    WHERE\n",
    "                        is_standard = 1 \n",
    "                        AND is_selectable = 1) \n",
    "                    AND is_standard = 1 )) criteria ) \n",
    "            AND cb_search_person.person_id IN (SELECT\n",
    "                person_id \n",
    "            FROM\n",
    "                `cb_search_person` p \n",
    "            WHERE\n",
    "                has_whole_genome_variant = 1 ) \n",
    "            AND cb_search_person.person_id NOT IN (SELECT\n",
    "                criteria.person_id \n",
    "            FROM\n",
    "                (SELECT\n",
    "                    DISTINCT person_id, entry_date, concept_id \n",
    "                FROM\n",
    "                    `cb_search_all_events` \n",
    "                WHERE\n",
    "                    (concept_id IN(SELECT\n",
    "                        DISTINCT c.concept_id \n",
    "                    FROM\n",
    "                        `cb_criteria` c \n",
    "                    JOIN\n",
    "                        (SELECT\n",
    "                            CAST(cr.id as string) AS id       \n",
    "                        FROM\n",
    "                            `cb_criteria` cr       \n",
    "                        WHERE\n",
    "                            concept_id IN (35206909, 35206912, 35206914, 35206911, 35206913, 35206910, 1567993)       \n",
    "                            AND full_text LIKE '%_rank1]%'      ) a \n",
    "                            ON (c.path LIKE CONCAT('%.', a.id, '.%') \n",
    "                            OR c.path LIKE CONCAT('%.', a.id) \n",
    "                            OR c.path LIKE CONCAT(a.id, '.%') \n",
    "                            OR c.path = a.id) \n",
    "                    WHERE\n",
    "                        is_standard = 0 \n",
    "                        AND is_selectable = 1) \n",
    "                    AND is_standard = 0 )) criteria \n",
    "            UNION\n",
    "            DISTINCT SELECT\n",
    "                criteria.person_id \n",
    "            FROM\n",
    "                (SELECT\n",
    "                    DISTINCT person_id, entry_date, concept_id \n",
    "                FROM\n",
    "                    `cb_search_all_events` \n",
    "                WHERE\n",
    "                    (concept_id IN(SELECT\n",
    "                        DISTINCT c.concept_id \n",
    "                    FROM\n",
    "                        `cb_criteria` c \n",
    "                    JOIN\n",
    "                        (SELECT\n",
    "                            CAST(cr.id as string) AS id       \n",
    "                        FROM\n",
    "                            `cb_criteria` cr       \n",
    "                        WHERE\n",
    "                            concept_id IN (1567895, 1567893, 35206304)       \n",
    "                            AND full_text LIKE '%_rank1]%'      ) a \n",
    "                            ON (c.path LIKE CONCAT('%.', a.id, '.%') \n",
    "                            OR c.path LIKE CONCAT('%.', a.id) \n",
    "                            OR c.path LIKE CONCAT(a.id, '.%') \n",
    "                            OR c.path = a.id) \n",
    "                    WHERE\n",
    "                        is_standard = 0 \n",
    "                        AND is_selectable = 1) \n",
    "                    AND is_standard = 0 )) criteria \n",
    "            UNION\n",
    "            DISTINCT SELECT\n",
    "                criteria.person_id \n",
    "            FROM\n",
    "                (SELECT\n",
    "                    DISTINCT person_id, entry_date, concept_id \n",
    "                FROM\n",
    "                    `cb_search_all_events` \n",
    "                WHERE\n",
    "                    (concept_id IN(SELECT\n",
    "                        DISTINCT c.concept_id \n",
    "                    FROM\n",
    "                        `cb_criteria` c \n",
    "                    JOIN\n",
    "                        (SELECT\n",
    "                            CAST(cr.id as string) AS id       \n",
    "                        FROM\n",
    "                            `cb_criteria` cr       \n",
    "                        WHERE\n",
    "                            concept_id IN (44825214, 44829873, 44822938, 44827619, 44833373, 44820687, 44819497, 44828784, 44825267)       \n",
    "                            AND full_text LIKE '%_rank1]%'      ) a \n",
    "                            ON (c.path LIKE CONCAT('%.', a.id, '.%') \n",
    "                            OR c.path LIKE CONCAT('%.', a.id) \n",
    "                            OR c.path LIKE CONCAT(a.id, '.%') \n",
    "                            OR c.path = a.id) \n",
    "                    WHERE\n",
    "                        is_standard = 0 \n",
    "                        AND is_selectable = 1) \n",
    "                    AND is_standard = 0 )) criteria ) )\", sep=\"\")\n",
    "\n",
    "# Formulate a Cloud Storage destination path for the data exported from BigQuery.\n",
    "# NOTE: By default data exported multiple times on the same day will overwrite older copies.\n",
    "#       But data exported on a different days will write to a new location so that historical\n",
    "#       copies can be kept as the dataset definition is changed.\n",
    "person_17403006_path <- file.path(\n",
    "  Sys.getenv(\"WORKSPACE_BUCKET\"),\n",
    "  \"bq_exports\",\n",
    "  Sys.getenv(\"OWNER_EMAIL\"),\n",
    "  strftime(lubridate::now(), \"%Y%m%d\"),  # Comment out this line if you want the export to always overwrite.\n",
    "  \"person_17403006\",\n",
    "  \"person_17403006_*.csv\")\n",
    "message(str_glue('The data will be written to {person_17403006_path}. Use this path when reading ',\n",
    "                 'the data into your notebooks in the future.'))\n",
    "\n",
    "# Perform the query and export the dataset to Cloud Storage as CSV files.\n",
    "# NOTE: You only need to run `bq_table_save` once. After that, you can\n",
    "#       just read data from the CSVs in Cloud Storage.\n",
    "bq_table_save(\n",
    "  bq_dataset_query(Sys.getenv(\"WORKSPACE_CDR\"), dataset_17403006_person_sql, billing = Sys.getenv(\"GOOGLE_PROJECT\")),\n",
    "  person_17403006_path,\n",
    "  destination_format = \"CSV\")\n",
    "\n"
   ]
  },
  {
   "cell_type": "code",
   "execution_count": null,
   "metadata": {},
   "outputs": [],
   "source": [
    "# Read the data directly from Cloud Storage into memory.\n",
    "# NOTE: Alternatively you can `gsutil -m cp {person_17403006_path}` to copy these files\n",
    "#       to the Jupyter disk.\n",
    "read_bq_export_from_workspace_bucket <- function(export_path) {\n",
    "  col_types <- cols(sex_at_birth = col_character())\n",
    "  bind_rows(\n",
    "    map(system2('gsutil', args = c('ls', export_path), stdout = TRUE, stderr = TRUE),\n",
    "        function(csv) {\n",
    "          message(str_glue('Loading {csv}.'))\n",
    "          chunk <- read_csv(pipe(str_glue('gsutil cat {csv}')), col_types = col_types, show_col_types = FALSE)\n",
    "          if (is.null(col_types)) {\n",
    "            col_types <- spec(chunk)\n",
    "          }\n",
    "          chunk\n",
    "        }))\n",
    "}\n",
    "demo_raw <- read_bq_export_from_workspace_bucket(person_17403006_path)\n",
    "\n",
    "dim(demo_raw)\n",
    "\n",
    "head(demo_raw, 5)"
   ]
  },
  {
   "cell_type": "markdown",
   "metadata": {},
   "source": [
    "## related individuals"
   ]
  },
  {
   "cell_type": "code",
   "execution_count": null,
   "metadata": {},
   "outputs": [],
   "source": [
    "system(\"gsutil -m cp -R ${WORKSPACE_BUCKET}/phenotype_files/ .\")"
   ]
  },
  {
   "cell_type": "code",
   "execution_count": null,
   "metadata": {},
   "outputs": [],
   "source": [
    "related = read.csv('phenotype_files/samples_relatedness_flagged_samples_v8.tsv')\n",
    "head(related)"
   ]
  },
  {
   "cell_type": "markdown",
   "metadata": {},
   "source": [
    "## GIA"
   ]
  },
  {
   "cell_type": "code",
   "execution_count": null,
   "metadata": {},
   "outputs": [],
   "source": [
    "gia_pc = read.csv('phenotype_files/AOU.v8.GIA_PCA.txt', sep = '\\t')\n",
    "head(gia_pc)"
   ]
  },
  {
   "cell_type": "markdown",
   "metadata": {},
   "source": [
    "# Clean Demographic Data"
   ]
  },
  {
   "cell_type": "markdown",
   "metadata": {},
   "source": [
    "## Filter for Males and Females, Recode Sex (Male = 1, Female = 2), Change DOB to DateType"
   ]
  },
  {
   "cell_type": "code",
   "execution_count": null,
   "metadata": {},
   "outputs": [],
   "source": [
    "sex_clean = demo_raw %>%\n",
    "filter(grepl('Male|Female', sex_at_birth)) %>%\n",
    "mutate(sex_at_birth = case_match(sex_at_birth,\n",
    "                                 'Male' ~ 1,\n",
    "                                 'Female' ~ 2)) %>%\n",
    "mutate(date_of_birth = as.Date(date_of_birth))\n",
    "head(sex_clean)\n",
    "unique(sex_clean$sex_at_birth)"
   ]
  },
  {
   "cell_type": "markdown",
   "metadata": {},
   "source": [
    "# Clean Lab Values for TSH Phenotyping\n",
    "- Filter for TSH Measurements\n",
    "- subset columns\n",
    "- drop missing\n",
    "- filter to outpatient\n",
    "- filter to outpatient"
   ]
  },
  {
   "cell_type": "code",
   "execution_count": null,
   "metadata": {},
   "outputs": [],
   "source": [
    "labs_raw %>%\n",
    "filter(grepl('TSH|Thyroid|Thyrotropin', standard_concept_name)) %>%\n",
    "filter(!grepl('T4|immunoglobulins|Ab|releasing|binding|2nd|15|30|--baseline', standard_concept_name)) %>%\n",
    "group_by(standard_concept_name) %>%\n",
    "summarize(n())"
   ]
  },
  {
   "cell_type": "code",
   "execution_count": null,
   "metadata": {},
   "outputs": [],
   "source": [
    "tsh_labs = labs_raw %>%\n",
    "filter(grepl('TSH|Thyroid|Thyrotropin',standard_concept_name)) %>%\n",
    "filter(!grepl('T4|immunoglobulins|Ab|releasing|binding|2nd|15|30|--baseline', standard_concept_name)) %>%\n",
    "select(person_id,\n",
    "       measurement_datetime,\n",
    "       value_as_number,\n",
    "       unit_concept_name,\n",
    "       visit_occurrence_concept_name) %>%\n",
    "na.omit() %>%\n",
    "filter(grepl('Outpatient Visit|Office Visit|Laboratory Visit', visit_occurrence_concept_name)) %>%\n",
    "mutate(measurement_datetime = as.Date(measurement_datetime))\n",
    "head(tsh_labs)"
   ]
  },
  {
   "cell_type": "markdown",
   "metadata": {},
   "source": [
    "# Clean Pregnancy Data"
   ]
  },
  {
   "cell_type": "markdown",
   "metadata": {},
   "source": [
    "## Rename columns"
   ]
  },
  {
   "cell_type": "code",
   "execution_count": null,
   "metadata": {},
   "outputs": [],
   "source": [
    "preg_condition_raw = preg_condition_raw %>%\n",
    "rename('date' = 'condition_start_datetime',\n",
    "      'icd_code' = 'condition_source_value')\n",
    "head(preg_condition_raw)"
   ]
  },
  {
   "cell_type": "code",
   "execution_count": null,
   "metadata": {},
   "outputs": [],
   "source": [
    "preg_observation_raw = preg_observation_raw %>%\n",
    "rename('date' = 'observation_datetime',\n",
    "      'icd_code' = 'observation_source_value')\n",
    "head(preg_observation_raw)"
   ]
  },
  {
   "cell_type": "markdown",
   "metadata": {},
   "source": [
    "## Combine Condition and Observation Dataframes"
   ]
  },
  {
   "cell_type": "code",
   "execution_count": null,
   "metadata": {},
   "outputs": [],
   "source": [
    "preg_all = rbind(preg_condition_raw, preg_observation_raw)\n",
    "nrow(preg_condition_raw)\n",
    "nrow(preg_observation_raw)\n",
    "nrow(preg_all)"
   ]
  },
  {
   "cell_type": "markdown",
   "metadata": {},
   "source": [
    "## Get Earliest Date"
   ]
  },
  {
   "cell_type": "code",
   "execution_count": null,
   "metadata": {},
   "outputs": [],
   "source": [
    "preg_earliest_date = aggregate(x = preg_all$date, by = list(preg_all$person_id), FUN = min)\n",
    "head(preg_earliest_date)\n",
    "nrow(preg_earliest_date)"
   ]
  },
  {
   "cell_type": "markdown",
   "metadata": {},
   "source": [
    "## Rename Columns & Change to Date Type"
   ]
  },
  {
   "cell_type": "code",
   "execution_count": null,
   "metadata": {},
   "outputs": [],
   "source": [
    "preg_earliest_date = preg_earliest_date %>%\n",
    "rename('person_id' = 'Group.1',\n",
    "       'earliest_date_preg' = 'x') %>%\n",
    "mutate(earliest_date_preg = as.Date(earliest_date_preg))\n",
    "head(preg_earliest_date)"
   ]
  },
  {
   "cell_type": "markdown",
   "metadata": {},
   "source": [
    "# Clean Medication Data"
   ]
  },
  {
   "cell_type": "markdown",
   "metadata": {},
   "source": [
    "## Get Unique Individuals by Time of Their First Med"
   ]
  },
  {
   "cell_type": "code",
   "execution_count": null,
   "metadata": {},
   "outputs": [],
   "source": [
    "meds_earliest_date = aggregate(x = meds_raw$drug_exposure_start_datetime, by = list(meds_raw$person_id), FUN = min)\n",
    "head(meds_earliest_date)"
   ]
  },
  {
   "cell_type": "markdown",
   "metadata": {},
   "source": [
    "## Rename Columns"
   ]
  },
  {
   "cell_type": "code",
   "execution_count": null,
   "metadata": {},
   "outputs": [],
   "source": [
    "colnames(meds_earliest_date) = c('person_id', 'earliest_date_meds')\n",
    "head(meds_earliest_date)"
   ]
  },
  {
   "cell_type": "markdown",
   "metadata": {},
   "source": [
    "# Clean GIA/PC Data"
   ]
  },
  {
   "cell_type": "markdown",
   "metadata": {},
   "source": [
    "## Change Research ID to Person ID, Subset to ancestry column"
   ]
  },
  {
   "cell_type": "code",
   "execution_count": null,
   "metadata": {},
   "outputs": [],
   "source": [
    "gia_sub = gia_pc %>%\n",
    "rename('person_id'='research_id') %>%\n",
    "select(person_id, ancestry_pred)\n",
    "head(gia_sub)"
   ]
  },
  {
   "cell_type": "markdown",
   "metadata": {},
   "source": [
    "## Look at Ancestry Distribution"
   ]
  },
  {
   "cell_type": "code",
   "execution_count": null,
   "metadata": {},
   "outputs": [],
   "source": [
    "gia_sub %>%\n",
    "group_by(ancestry_pred) %>%\n",
    "summarize(n())\n",
    "nrow(gia_sub)"
   ]
  },
  {
   "cell_type": "markdown",
   "metadata": {},
   "source": [
    "# Clean Related Individuals Data"
   ]
  },
  {
   "cell_type": "markdown",
   "metadata": {},
   "source": [
    "## Rename ID Column"
   ]
  },
  {
   "cell_type": "code",
   "execution_count": null,
   "metadata": {},
   "outputs": [],
   "source": [
    "colnames(related) = 'person_id'\n",
    "head(related)"
   ]
  },
  {
   "cell_type": "markdown",
   "metadata": {},
   "source": [
    "# Remove Excluding Measurements"
   ]
  },
  {
   "cell_type": "markdown",
   "metadata": {},
   "source": [
    "## Pregnancy"
   ]
  },
  {
   "cell_type": "markdown",
   "metadata": {},
   "source": [
    "### Merge Labs and Pregnancy Dataframes"
   ]
  },
  {
   "cell_type": "code",
   "execution_count": null,
   "metadata": {},
   "outputs": [],
   "source": [
    "tsh_labs_preg = merge(tsh_labs, preg_earliest_date, by = 'person_id', all = T)\n",
    "head(tsh_labs_preg)"
   ]
  },
  {
   "cell_type": "markdown",
   "metadata": {},
   "source": [
    "### Make a Difftime Column (Pregnancy Time - TSH Time), Remove Rows with Negative Diff Time"
   ]
  },
  {
   "cell_type": "code",
   "execution_count": null,
   "metadata": {},
   "outputs": [],
   "source": [
    "tsh_labs_no_preg_before = tsh_labs_preg %>%\n",
    "mutate(difftime_preg_TSH = (difftime(earliest_date_preg, measurement_datetime, units = 'days'))) %>%\n",
    "filter(!grepl('-', difftime_preg_TSH))"
   ]
  },
  {
   "cell_type": "markdown",
   "metadata": {},
   "source": [
    "## Thyroid Meds"
   ]
  },
  {
   "cell_type": "markdown",
   "metadata": {},
   "source": [
    "### Merge TSH/Preg Dataframe with Thyroid Meds Dataframe"
   ]
  },
  {
   "cell_type": "code",
   "execution_count": null,
   "metadata": {},
   "outputs": [],
   "source": [
    "tsh_labs_no_preg_before_meds = merge(tsh_labs_no_preg_before,meds_earliest_date, by = 'person_id', all = T)\n",
    "head(tsh_labs_no_preg_before_meds)"
   ]
  },
  {
   "cell_type": "markdown",
   "metadata": {},
   "source": [
    "### Make a Difftime Column (Meds Time - TSH Time)"
   ]
  },
  {
   "cell_type": "code",
   "execution_count": null,
   "metadata": {},
   "outputs": [],
   "source": [
    "tsh_labs_no_preg_before_meds_difftime = tsh_labs_no_preg_before_meds %>%\n",
    "mutate(difftime_meds_TSH = (difftime(tsh_labs_no_preg_before_meds$earliest_date_meds,\n",
    "                                     tsh_labs_no_preg_before_meds$measurement_datetime,\n",
    "                                     units = 'days')))\n",
    "head(tsh_labs_no_preg_before_meds_difftime)"
   ]
  },
  {
   "cell_type": "markdown",
   "metadata": {},
   "source": [
    "### Remove Rows with Negative Diff Times (Meds First)"
   ]
  },
  {
   "cell_type": "code",
   "execution_count": null,
   "metadata": {},
   "outputs": [],
   "source": [
    "tsh_labs_no_preg_meds_before = tsh_labs_no_preg_before_meds_difftime %>%\n",
    "filter(!grepl('-', difftime_meds_TSH))\n",
    "head(tsh_labs_no_preg_meds_before)\n",
    "nrow(tsh_labs_no_preg_meds_before)"
   ]
  },
  {
   "cell_type": "markdown",
   "metadata": {},
   "source": [
    "# Add Covariates"
   ]
  },
  {
   "cell_type": "markdown",
   "metadata": {},
   "source": [
    "## Merge with TSH Labs Dataframe with Demographic Datafame"
   ]
  },
  {
   "cell_type": "code",
   "execution_count": null,
   "metadata": {},
   "outputs": [],
   "source": [
    "tsh_labs_exclusions_demo = merge(tsh_labs_no_preg_meds_before, sex_clean, by = 'person_id')\n",
    "head(tsh_labs_exclusions_demo)\n",
    "nrow(tsh_labs_exclusions_demo)"
   ]
  },
  {
   "cell_type": "markdown",
   "metadata": {},
   "source": [
    "## Calculate Age, Subset, Remove Missing, Filter to Adults, Rename Columns, Join with GIA"
   ]
  },
  {
   "cell_type": "code",
   "execution_count": null,
   "metadata": {},
   "outputs": [],
   "source": [
    "tsh_labs_exclusions_demo_clean = tsh_labs_exclusions_demo %>%\n",
    "mutate(age_days = (difftime(measurement_datetime, date_of_birth, units = 'days'))) %>%\n",
    "mutate(age_days = gsub('days', '', age_days)) %>%\n",
    "mutate(age_days = as.numeric(age_days)) %>%\n",
    "mutate(AGE = age_days / 365) %>%\n",
    "select(person_id, value_as_number, sex_at_birth, AGE) %>%\n",
    "na.omit() %>%\n",
    "filter(AGE >= 18) %>%\n",
    "rename('TSH' = 'value_as_number',\n",
    "       'SEX' = 'sex_at_birth') %>%\n",
    "inner_join(gia_sub, by = 'person_id')\n",
    "head(tsh_labs_exclusions_demo_clean)"
   ]
  },
  {
   "cell_type": "code",
   "execution_count": null,
   "metadata": {},
   "outputs": [],
   "source": [
    "min(tsh_labs_exclusions_demo_clean$AGE, na.rm = T)\n",
    "max(tsh_labs_exclusions_demo_clean$AGE, na.rm = T)"
   ]
  },
  {
   "cell_type": "markdown",
   "metadata": {},
   "source": [
    "## Drop Related Individuals"
   ]
  },
  {
   "cell_type": "code",
   "execution_count": null,
   "metadata": {},
   "outputs": [],
   "source": [
    "tsh_labs_exclusions_demo_clean = tsh_labs_exclusions_demo_clean[!(tsh_labs_exclusions_demo_clean$person_id %in% related$person_id),]\n",
    "head(tsh_labs_exclusions_demo_clean)\n",
    "nrow(tsh_labs_exclusions_demo_clean)"
   ]
  },
  {
   "cell_type": "markdown",
   "metadata": {},
   "source": [
    "# Filter based on GIA"
   ]
  },
  {
   "cell_type": "markdown",
   "metadata": {},
   "source": [
    "## Filter to Only Include EUR Individuals"
   ]
  },
  {
   "cell_type": "code",
   "execution_count": null,
   "metadata": {},
   "outputs": [],
   "source": [
    "tsh_labs_exclusions_demo_eur = tsh_labs_exclusions_demo_clean %>%\n",
    "filter(grepl('eur', ancestry_pred))\n",
    "head(tsh_labs_exclusions_demo_eur)\n",
    "nrow(tsh_labs_exclusions_demo_eur)"
   ]
  },
  {
   "cell_type": "markdown",
   "metadata": {},
   "source": [
    "## Filter to Only Include AFR Individuals"
   ]
  },
  {
   "cell_type": "code",
   "execution_count": null,
   "metadata": {},
   "outputs": [],
   "source": [
    "tsh_labs_exclusions_demo_afr = tsh_labs_exclusions_demo_clean %>%\n",
    "filter(grepl('afr', ancestry_pred))\n",
    "head(tsh_labs_exclusions_demo_afr)\n",
    "nrow(tsh_labs_exclusions_demo_afr)"
   ]
  },
  {
   "cell_type": "markdown",
   "metadata": {},
   "source": [
    "# Subset and Rename"
   ]
  },
  {
   "cell_type": "markdown",
   "metadata": {},
   "source": [
    "## EUR"
   ]
  },
  {
   "cell_type": "code",
   "execution_count": null,
   "metadata": {},
   "outputs": [],
   "source": [
    "tsh_labs_exclusions_demo_eur_sub = tsh_labs_exclusions_demo_eur %>%\n",
    "select(-ancestry_pred) %>%\n",
    "rename('IID' = 'person_id')\n",
    "head(tsh_labs_exclusions_demo_eur_sub)"
   ]
  },
  {
   "cell_type": "markdown",
   "metadata": {},
   "source": [
    "## AFR"
   ]
  },
  {
   "cell_type": "code",
   "execution_count": null,
   "metadata": {},
   "outputs": [],
   "source": [
    "tsh_labs_exclusions_demo_afr_sub = tsh_labs_exclusions_demo_afr %>%\n",
    "select(-ancestry_pred) %>%\n",
    "rename('IID' = 'person_id')\n",
    "head(tsh_labs_exclusions_demo_afr_sub)"
   ]
  },
  {
   "cell_type": "markdown",
   "metadata": {},
   "source": [
    "# Take Mean TSH and Age & Remove Lab Values Not in Normal Range"
   ]
  },
  {
   "cell_type": "markdown",
   "metadata": {},
   "source": [
    "## Take Mean"
   ]
  },
  {
   "cell_type": "markdown",
   "metadata": {},
   "source": [
    "### EUR"
   ]
  },
  {
   "cell_type": "code",
   "execution_count": null,
   "metadata": {},
   "outputs": [],
   "source": [
    "tsh_normal_range_eur = tsh_labs_exclusions_demo_eur_sub %>%\n",
    "group_by(IID) %>% \n",
    "summarise_all(.funs = mean) %>%\n",
    "filter(TSH <= 4.5 & TSH >= 0.45)\n",
    "head(tsh_normal_range_eur)\n",
    "nrow(tsh_normal_range_eur)\n",
    "min(tsh_normal_range_eur$TSH)\n",
    "max(tsh_normal_range_eur$TSH)"
   ]
  },
  {
   "cell_type": "markdown",
   "metadata": {},
   "source": [
    "### AFR"
   ]
  },
  {
   "cell_type": "code",
   "execution_count": null,
   "metadata": {},
   "outputs": [],
   "source": [
    "tsh_normal_range_afr = tsh_labs_exclusions_demo_afr_sub %>%\n",
    "group_by(IID) %>% \n",
    "summarise_all(.funs = mean) %>%\n",
    "filter(TSH <= 4.5 & TSH >= 0.45)\n",
    "head(tsh_normal_range_afr)\n",
    "nrow(tsh_normal_range_afr)\n",
    "min(tsh_normal_range_afr$TSH)\n",
    "max(tsh_normal_range_afr$TSH)"
   ]
  },
  {
   "cell_type": "markdown",
   "metadata": {},
   "source": [
    "# Inverse Normal Transformation of Mean TSH, Take Age Squared"
   ]
  },
  {
   "cell_type": "markdown",
   "metadata": {},
   "source": [
    "## EUR"
   ]
  },
  {
   "cell_type": "code",
   "execution_count": null,
   "metadata": {},
   "outputs": [],
   "source": [
    "inv_norm_tsh_eur = tsh_normal_range_eur %>%\n",
    "mutate(INV_NORMAL_TSH = qnorm((rank(TSH, na.last = \"keep\") - 0.5) / sum(!is.na(TSH)))) %>%\n",
    "mutate(AGE_AGE = AGE^2) %>%\n",
    "select(-c(TSH, AGE))\n",
    "head(inv_norm_tsh_eur)"
   ]
  },
  {
   "cell_type": "markdown",
   "metadata": {},
   "source": [
    "## AFR"
   ]
  },
  {
   "cell_type": "code",
   "execution_count": null,
   "metadata": {},
   "outputs": [],
   "source": [
    "inv_norm_tsh_afr = tsh_normal_range_afr %>%\n",
    "mutate(INV_NORMAL_TSH = qnorm((rank(TSH,na.last = \"keep\") - 0.5) / sum(!is.na(TSH)))) %>%\n",
    "mutate(AGE_AGE = AGE^2) %>%\n",
    "select(-c(TSH,AGE))\n",
    "head(inv_norm_tsh_afr)"
   ]
  },
  {
   "cell_type": "markdown",
   "metadata": {},
   "source": [
    "# Take EUR Random Sample for TSH"
   ]
  },
  {
   "cell_type": "markdown",
   "metadata": {},
   "source": [
    "## get sample numbers"
   ]
  },
  {
   "cell_type": "code",
   "execution_count": null,
   "metadata": {},
   "outputs": [],
   "source": [
    "nrow(inv_norm_tsh_eur)"
   ]
  },
  {
   "cell_type": "code",
   "execution_count": null,
   "metadata": {},
   "outputs": [],
   "source": [
    "nrow(inv_norm_tsh_afr)"
   ]
  },
  {
   "cell_type": "markdown",
   "metadata": {},
   "source": [
    "## take random sample"
   ]
  },
  {
   "cell_type": "code",
   "execution_count": null,
   "metadata": {},
   "outputs": [],
   "source": [
    "set.seed(1234)"
   ]
  },
  {
   "cell_type": "code",
   "execution_count": null,
   "metadata": {},
   "outputs": [],
   "source": [
    "eur_random_sample = data.frame(sample(x = inv_norm_tsh_eur$IID, size = 12385, replace = F))\n",
    "colnames(eur_random_sample) = 'IID'\n",
    "nrow(eur_random_sample)\n",
    "head(eur_random_sample)"
   ]
  },
  {
   "cell_type": "code",
   "execution_count": null,
   "metadata": {},
   "outputs": [],
   "source": [
    "inv_norm_tsh_eur_random = inv_norm_tsh_eur[inv_norm_tsh_eur$IID %in% eur_random_sample$IID,]\n",
    "head(inv_norm_tsh_eur_random)\n",
    "nrow(inv_norm_tsh_eur_random)"
   ]
  },
  {
   "cell_type": "markdown",
   "metadata": {},
   "source": [
    "# Phenotype Free T4"
   ]
  },
  {
   "cell_type": "markdown",
   "metadata": {},
   "source": [
    "## filter lab df by measurement name"
   ]
  },
  {
   "cell_type": "code",
   "execution_count": null,
   "metadata": {},
   "outputs": [],
   "source": [
    "t4_names = labs_raw %>%\n",
    "filter(grepl('T4' ,standard_concept_name)) %>%\n",
    "filter(!grepl('TSH|Triiodothyronine|4th|albumin|Ab|total|index', standard_concept_name)) %>%\n",
    "select(person_id, value_as_number, unit_source_value, unit_concept_name, measurement_datetime) %>%\n",
    "na.omit()\n",
    "length(unique(t4_names$person_id))\n",
    "head(t4_names)"
   ]
  },
  {
   "cell_type": "markdown",
   "metadata": {},
   "source": [
    "## make list of individuals with normal range TSH"
   ]
  },
  {
   "cell_type": "code",
   "execution_count": null,
   "metadata": {},
   "outputs": [],
   "source": [
    "tsh_normal_range_indiv = inv_norm_tsh_eur %>%\n",
    "rbind(inv_norm_tsh_afr) %>%\n",
    "rbind(inv_norm_tsh_amr)\n",
    "nrow(tsh_normal_range_indiv)"
   ]
  },
  {
   "cell_type": "markdown",
   "metadata": {},
   "source": [
    "## filter individuals with t4 measurements to individuals w normal TSH"
   ]
  },
  {
   "cell_type": "code",
   "execution_count": null,
   "metadata": {},
   "outputs": [],
   "source": [
    "t4_normal_range_tsh = t4_names[t4_names$person_id %in% tsh_normal_range_indiv$IID,]\n",
    "length(unique(t4_normal_range_tsh$person_id))"
   ]
  },
  {
   "cell_type": "markdown",
   "metadata": {},
   "source": [
    "## clean units based on Anne and Alisha's suggestions\n",
    "\n",
    "Units selected:\n",
    "- No matching concept\n",
    "- nanogram per deciliter\n",
    "- ng/dL\n",
    "- picomole per liter\n",
    "\n",
    "Unit specific transformation\n",
    "- No matching concept: values > 0 & <= 2\n",
    "- nanogram per deciliter: values > 0 & <= 2\n",
    "- ng/dL: values > 0 & <= 2\n",
    "- picomole per liter: divide by 12.872 and round to 2 digits\n"
   ]
  },
  {
   "cell_type": "markdown",
   "metadata": {},
   "source": [
    "### filter to selected unit names"
   ]
  },
  {
   "cell_type": "code",
   "execution_count": null,
   "metadata": {},
   "outputs": [],
   "source": [
    "t4_units = t4_normal_range_tsh%>%\n",
    "filter(grepl('No matching concept|nanogram per deciliter|ng/dL|picomole per liter', unit_concept_name))\n",
    "head(t4_units)\n",
    "nrow(t4_units)"
   ]
  },
  {
   "cell_type": "markdown",
   "metadata": {},
   "source": [
    "### filter to specific value ranges per unit name"
   ]
  },
  {
   "cell_type": "code",
   "execution_count": null,
   "metadata": {},
   "outputs": [],
   "source": [
    "t4_No_matching_concept = t4_units%>%\n",
    "filter(grepl('No matching concept', unit_concept_name)) %>%\n",
    "filter(value_as_number > 0) %>%\n",
    "filter(value_as_number <= 2)\n",
    "\n",
    "nrow(t4_No_matching_concept)\n",
    "min(t4_No_matching_concept$value_as_number)\n",
    "max(t4_No_matching_concept$value_as_number)"
   ]
  },
  {
   "cell_type": "code",
   "execution_count": null,
   "metadata": {},
   "outputs": [],
   "source": [
    "t4_nanogram_per_deciliter = t4_units %>%\n",
    "filter(grepl('nanogram per deciliter',unit_concept_name)) %>%\n",
    "filter(value_as_number > 0) %>%\n",
    "filter(value_as_number <= 2)\n",
    "\n",
    "head(t4_nanogram_per_deciliter)\n",
    "nrow(t4_nanogram_per_deciliter)\n",
    "min(t4_nanogram_per_deciliter$value_as_number)\n",
    "max(t4_nanogram_per_deciliter$value_as_number)"
   ]
  },
  {
   "cell_type": "code",
   "execution_count": null,
   "metadata": {},
   "outputs": [],
   "source": [
    "t4_ng_dL = t4_units %>%\n",
    "filter(grepl('ng/dL', unit_concept_name)) %>%\n",
    "filter(value_as_number > 0) %>%\n",
    "filter(value_as_number <= 2)\n",
    "\n",
    "nrow(t4_ng_dL)\n",
    "min(t4_ng_dL$value_as_number)\n",
    "max(t4_ng_dL$value_as_number)"
   ]
  },
  {
   "cell_type": "code",
   "execution_count": null,
   "metadata": {},
   "outputs": [],
   "source": [
    "t4_picomole_per_liter = t4_units %>%\n",
    "filter(grepl('picomole per liter', unit_concept_name)) %>%\n",
    "mutate(value_as_number = value_as_number / 12.872) %>%\n",
    "mutate(value_as_number = round(value_as_number, digits = 2))\n",
    "\n",
    "nrow(t4_picomole_per_liter)\n",
    "min(t4_picomole_per_liter$value_as_number)\n",
    "max(t4_picomole_per_liter$value_as_number)"
   ]
  },
  {
   "cell_type": "code",
   "execution_count": null,
   "metadata": {},
   "outputs": [],
   "source": [
    "t4_units_clean = t4_No_matching_concept %>%\n",
    "rbind(t4_nanogram_per_deciliter,\n",
    "      t4_ng_dL,\n",
    "      t4_picomole_per_liter)\n",
    "head(t4_units_clean)\n",
    "nrow(t4_units_clean)"
   ]
  },
  {
   "cell_type": "markdown",
   "metadata": {},
   "source": [
    "## merge with demo, calculate age, subset, and rename"
   ]
  },
  {
   "cell_type": "code",
   "execution_count": null,
   "metadata": {},
   "outputs": [],
   "source": [
    "t4_demo = t4_units_clean %>%\n",
    "merge(sex_clean, by = 'person_id') %>%\n",
    "mutate(measurement_datetime = as.Date(measurement_datetime)) %>%\n",
    "mutate(AGE = (difftime(measurement_datetime, date_of_birth, units = 'days'))) %>%\n",
    "mutate(AGE = gsub('days', '', AGE)) %>%\n",
    "mutate(AGE = as.numeric(AGE)) %>%\n",
    "mutate(AGE = AGE / 365) %>%\n",
    "select(person_id, value_as_number, sex_at_birth, AGE) %>%\n",
    "na.omit() %>%\n",
    "rename('FREE_T4' = 'value_as_number',\n",
    "       'SEX' = 'sex_at_birth') %>%\n",
    "inner_join(gia_sub, by = 'person_id') %>%\n",
    "rename('IID' = 'person_id')\n",
    "head(t4_demo)\n",
    "nrow(t4_demo)"
   ]
  },
  {
   "cell_type": "markdown",
   "metadata": {},
   "source": [
    "## split by ancestry"
   ]
  },
  {
   "cell_type": "code",
   "execution_count": null,
   "metadata": {},
   "outputs": [],
   "source": [
    "t4_eur = t4_demo %>%\n",
    "filter(ancestry_pred == 'eur') %>%\n",
    "select(-c(ancestry_pred))\n",
    "nrow(t4_eur)"
   ]
  },
  {
   "cell_type": "code",
   "execution_count": null,
   "metadata": {},
   "outputs": [],
   "source": [
    "t4_afr = t4_demo %>%\n",
    "filter(ancestry_pred == 'afr') %>%\n",
    "select(-c(ancestry_pred))\n",
    "nrow(t4_afr)"
   ]
  },
  {
   "cell_type": "code",
   "execution_count": null,
   "metadata": {},
   "outputs": [],
   "source": [
    "t4_amr = t4_demo %>%\n",
    "filter(ancestry_pred == 'amr') %>%\n",
    "select(-c(ancestry_pred))\n",
    "nrow(t4_amr)"
   ]
  },
  {
   "cell_type": "markdown",
   "metadata": {},
   "source": [
    "## Take Mean Free T4 and Age"
   ]
  },
  {
   "cell_type": "code",
   "execution_count": null,
   "metadata": {},
   "outputs": [],
   "source": [
    "t4_eur_mean = t4_eur %>%\n",
    "group_by(IID) %>%\n",
    "summarise_all(.funs = mean)\n",
    "nrow(t4_eur_mean)"
   ]
  },
  {
   "cell_type": "code",
   "execution_count": null,
   "metadata": {},
   "outputs": [],
   "source": [
    "t4_afr_mean = t4_afr %>%\n",
    "group_by(IID) %>%\n",
    "summarise_all(.funs = mean)\n",
    "nrow(t4_afr_mean)"
   ]
  },
  {
   "cell_type": "code",
   "execution_count": null,
   "metadata": {},
   "outputs": [],
   "source": [
    "t4_amr_mean = t4_amr %>%\n",
    "group_by(IID) %>%\n",
    "summarise_all(.funs = mean)\n",
    "nrow(t4_amr_mean)"
   ]
  },
  {
   "cell_type": "markdown",
   "metadata": {},
   "source": [
    "## Take Age Squared"
   ]
  },
  {
   "cell_type": "code",
   "execution_count": null,
   "metadata": {},
   "outputs": [],
   "source": [
    "t4_eur_age_squared = t4_eur_mean %>%\n",
    "mutate(AGE_AGE = AGE^2)\n",
    "head(t4_eur_age_squared)"
   ]
  },
  {
   "cell_type": "code",
   "execution_count": null,
   "metadata": {},
   "outputs": [],
   "source": [
    "t4_afr_age_squared = t4_afr_mean %>%\n",
    "mutate(AGE_AGE = AGE^2)\n",
    "head(t4_afr_age_squared)"
   ]
  },
  {
   "cell_type": "code",
   "execution_count": null,
   "metadata": {},
   "outputs": [],
   "source": [
    "t4_amr_age_squared = t4_amr_mean %>%\n",
    "mutate(AGE_AGE = AGE^2)\n",
    "head(t4_amr_age_squared)"
   ]
  },
  {
   "cell_type": "markdown",
   "metadata": {},
   "source": [
    "## Take EUR Random Sample"
   ]
  },
  {
   "cell_type": "code",
   "execution_count": null,
   "metadata": {},
   "outputs": [],
   "source": [
    "t4_eur_random_sample = data.frame(sample(t4_eur_age_squared$IID, size = 4037, replace = F))\n",
    "colnames(t4_eur_random_sample) = 'IID'\n",
    "nrow(t4_eur_random_sample)"
   ]
  },
  {
   "cell_type": "markdown",
   "metadata": {},
   "source": [
    "# Create, Concatenate, and Export Sample List"
   ]
  },
  {
   "cell_type": "markdown",
   "metadata": {},
   "source": [
    "## Create Sample List"
   ]
  },
  {
   "cell_type": "markdown",
   "metadata": {},
   "source": [
    "### TSH"
   ]
  },
  {
   "cell_type": "code",
   "execution_count": null,
   "metadata": {},
   "outputs": [],
   "source": [
    "eur_sample_list = subset(inv_norm_tsh_eur, select = IID)\n",
    "head(eur_sample_list)\n",
    "nrow(eur_sample_list)"
   ]
  },
  {
   "cell_type": "code",
   "execution_count": null,
   "metadata": {},
   "outputs": [],
   "source": [
    "eur_random_sample_list = eur_sample_list[eur_sample_list$IID %in% eur_random_sample$IID,]\n",
    "nrow(eur_random_sample_list)\n",
    "head(eur_random_sample_list)"
   ]
  },
  {
   "cell_type": "code",
   "execution_count": null,
   "metadata": {},
   "outputs": [],
   "source": [
    "afr_sample_list = subset(inv_norm_tsh_afr, select = IID)\n",
    "head(afr_sample_list)\n",
    "nrow(afr_sample_list)"
   ]
  },
  {
   "cell_type": "markdown",
   "metadata": {},
   "source": [
    "### Free T4"
   ]
  },
  {
   "cell_type": "code",
   "execution_count": null,
   "metadata": {},
   "outputs": [],
   "source": [
    "eur_t4_sample_list = t4_eur_age_squared %>%\n",
    "select(IID)\n",
    "nrow(eur_t4_sample_list)"
   ]
  },
  {
   "cell_type": "code",
   "execution_count": null,
   "metadata": {},
   "outputs": [],
   "source": [
    "eur_t4_random_sample_list = t4_eur_random_sample %>%\n",
    "select(IID)\n",
    "nrow(eur_t4_random_sample_list)"
   ]
  },
  {
   "cell_type": "code",
   "execution_count": null,
   "metadata": {},
   "outputs": [],
   "source": [
    "afr_t4_sample_list = t4_afr_age_squared %>%\n",
    "select(IID)\n",
    "nrow(afr_t4_sample_list)"
   ]
  },
  {
   "cell_type": "markdown",
   "metadata": {},
   "source": [
    "## Concatenate Sample Lists"
   ]
  },
  {
   "cell_type": "code",
   "execution_count": null,
   "metadata": {},
   "outputs": [],
   "source": [
    "all_sample_lists = rbind(eur_sample_list, afr_sample_list, amr_sample_list)\n",
    "head(all_sample_lists)\n",
    "nrow(all_sample_lists)"
   ]
  },
  {
   "cell_type": "code",
   "execution_count": null,
   "metadata": {},
   "outputs": [],
   "source": [
    "all_t4_sample_lists = rbind(eur_t4_sample_list, afr_t4_sample_list, amr_t4_sample_list)\n",
    "nrow(all_t4_sample_lists)"
   ]
  },
  {
   "cell_type": "markdown",
   "metadata": {},
   "source": [
    "## Export Sample Lists"
   ]
  },
  {
   "cell_type": "markdown",
   "metadata": {},
   "source": [
    "### define workspace bucket location"
   ]
  },
  {
   "cell_type": "code",
   "execution_count": null,
   "metadata": {},
   "outputs": [],
   "source": [
    "my_bucket <- Sys.getenv('WORKSPACE_BUCKET')"
   ]
  },
  {
   "cell_type": "markdown",
   "metadata": {},
   "source": [
    "### TSH"
   ]
  },
  {
   "cell_type": "markdown",
   "metadata": {},
   "source": [
    "#### All Ancestries"
   ]
  },
  {
   "cell_type": "code",
   "execution_count": null,
   "metadata": {},
   "outputs": [],
   "source": [
    "write.table(all_sample_lists,\n",
    "            'sample_lists/AoU_v8.TSH.GWAS.ALL.n=63859.sample_list.txt',\n",
    "            sep = '\\t',\n",
    "            col.names = F,\n",
    "            row.names = F,\n",
    "            quote = F)\n",
    "\n",
    "system(paste0(\"gsutil cp sample_lists/AoU_v8.TSH.GWAS.ALL.n=63859.sample_list.txt \", my_bucket, \"/sample_lists/\"), intern=T)"
   ]
  },
  {
   "cell_type": "markdown",
   "metadata": {},
   "source": [
    "#### EUR"
   ]
  },
  {
   "cell_type": "code",
   "execution_count": null,
   "metadata": {},
   "outputs": [],
   "source": [
    "write.table(eur_sample_list,\n",
    "            'sample_lists/AoU_v8.TSH.GWAS.EUR.n=43057.sample_list.txt',\n",
    "            sep = '\\t',\n",
    "            col.names = F,\n",
    "            row.names = F,\n",
    "            quote = F)\n",
    "\n",
    "system(paste0(\"gsutil cp sample_lists/AoU_v8.TSH.GWAS.EUR.n=43057.sample_list.txt \", my_bucket, \"/sample_lists/\"), intern=T)"
   ]
  },
  {
   "cell_type": "markdown",
   "metadata": {},
   "source": [
    "#### EUR Random Sample"
   ]
  },
  {
   "cell_type": "code",
   "execution_count": null,
   "metadata": {},
   "outputs": [],
   "source": [
    "write.table(eur_random_sample_list,\n",
    "            'sample_lists/AoU_v8.TSH.GWAS.EUR.n=12385.sample_list.txt',\n",
    "            sep = '\\t',\n",
    "            col.names = F,\n",
    "            row.names = F,\n",
    "            quote = F)\n",
    "\n",
    "system(paste0(\"gsutil cp sample_lists/AoU_v8.TSH.GWAS.EUR.n=12385.sample_list.txt \", my_bucket, \"/sample_lists/\"), intern=T)"
   ]
  },
  {
   "cell_type": "markdown",
   "metadata": {},
   "source": [
    "#### AFR"
   ]
  },
  {
   "cell_type": "code",
   "execution_count": null,
   "metadata": {},
   "outputs": [],
   "source": [
    "write.table(afr_sample_list,\n",
    "            'sample_lists/AoU_v8.TSH.GWAS.AFR.n=12385.sample_list.txt',\n",
    "            sep = '\\t',\n",
    "            col.names = F,\n",
    "            row.names = F,\n",
    "            quote = F)\n",
    "\n",
    "system(paste0(\"gsutil cp sample_lists/AoU_v8.TSH.GWAS.AFR.n=12385.sample_list.txt \", my_bucket, \"/sample_lists/\"), intern=T)"
   ]
  },
  {
   "cell_type": "markdown",
   "metadata": {},
   "source": [
    "### Free T4"
   ]
  },
  {
   "cell_type": "markdown",
   "metadata": {},
   "source": [
    "#### All Ancestries"
   ]
  },
  {
   "cell_type": "code",
   "execution_count": null,
   "metadata": {},
   "outputs": [],
   "source": [
    "write.table(all_t4_sample_lists,\n",
    "            'AoU_v8.Free_T4.GWAS.ALL.n=20013.sample_list.txt',\n",
    "            sep = '\\t',\n",
    "            col.names = F,\n",
    "            row.names = F,\n",
    "            quote = F)\n",
    "\n",
    "system(paste0(\"gsutil cp sample_lists/AoU_v8.Free_T4.GWAS.ALL.n=20013.sample_list.txt \", \" \", my_bucket, \"/sample_lists/\"), intern=T)"
   ]
  },
  {
   "cell_type": "markdown",
   "metadata": {},
   "source": [
    "#### EUR"
   ]
  },
  {
   "cell_type": "code",
   "execution_count": null,
   "metadata": {},
   "outputs": [],
   "source": [
    "write.table(eur_t4_sample_list,\n",
    "            'AoU_v8.Free_T4.GWAS.EUR.n=13467.sample_list.txt',\n",
    "            sep = '\\t',\n",
    "            col.names = F,\n",
    "            row.names = F,\n",
    "            quote = F)\n",
    "\n",
    "system(paste0(\"gsutil cp sample_lists/AoU_v8.Free_T4.GWAS.EUR.n=13467.sample_list.txt \", \" \", my_bucket, \"/sample_lists/\"), intern=T)"
   ]
  },
  {
   "cell_type": "markdown",
   "metadata": {},
   "source": [
    "#### EUR random sample"
   ]
  },
  {
   "cell_type": "code",
   "execution_count": null,
   "metadata": {},
   "outputs": [],
   "source": [
    "write.table(eur_t4_random_sample_list,\n",
    "            'AoU_v8.Free_T4.GWAS.EUR.n=4037.sample_list.txt',\n",
    "            sep = '\\t',\n",
    "            col.names = F,\n",
    "            row.names = F,\n",
    "            quote = F)\n",
    "\n",
    "system(paste0(\"gsutil cp sample_lists/AoU_v8.Free_T4.GWAS.EUR.n=4037.sample_list.txt \", \" \", my_bucket, \"/sample_lists/\"), intern=T)"
   ]
  },
  {
   "cell_type": "markdown",
   "metadata": {},
   "source": [
    "#### AFR"
   ]
  },
  {
   "cell_type": "code",
   "execution_count": null,
   "metadata": {},
   "outputs": [],
   "source": [
    "write.table(afr_t4_sample_list,\n",
    "            'AoU_v8.Free_T4.GWAS.AFR.n=4037.sample_list.txt',\n",
    "            sep = '\\t',\n",
    "            col.names = F,\n",
    "            row.names = F,\n",
    "            quote = F)\n",
    "\n",
    "system(paste0(\"gsutil cp sample_lists/AoU_v8.Free_T4.GWAS.AFR.n=4037.sample_list.txt \", \" \", my_bucket, \"/sample_lists/\"), intern=T)"
   ]
  },
  {
   "cell_type": "markdown",
   "metadata": {},
   "source": [
    "# Read in Ancestry Specific PCs"
   ]
  },
  {
   "cell_type": "markdown",
   "metadata": {},
   "source": [
    "## EUR"
   ]
  },
  {
   "cell_type": "markdown",
   "metadata": {},
   "source": [
    "### TSH"
   ]
  },
  {
   "cell_type": "markdown",
   "metadata": {},
   "source": [
    "#### eigenvec"
   ]
  },
  {
   "cell_type": "code",
   "execution_count": null,
   "metadata": {},
   "outputs": [],
   "source": [
    "eur_tsh_eigenvec = read.csv('EUR.TSH.PCA_cleaned.eigenvec', header = F)\n",
    "nrow(eur_tsh_eigenvec)\n",
    "head(eur_tsh_eigenvec)"
   ]
  },
  {
   "cell_type": "markdown",
   "metadata": {},
   "source": [
    "### eigenval"
   ]
  },
  {
   "cell_type": "code",
   "execution_count": null,
   "metadata": {},
   "outputs": [],
   "source": [
    "eur_tsh_eigenval = read.csv('EUR.TSH.PCA_cleaned.eigenval', header = F)\n",
    "head(eur_tsh_eigenval)"
   ]
  },
  {
   "cell_type": "markdown",
   "metadata": {},
   "source": [
    "### Free T4"
   ]
  },
  {
   "cell_type": "markdown",
   "metadata": {},
   "source": [
    "#### eigenvec"
   ]
  },
  {
   "cell_type": "code",
   "execution_count": null,
   "metadata": {},
   "outputs": [],
   "source": [
    "eur_t4_eigenvec = read.csv('EUR.Free_T4.PCA_cleaned.eigenvec', header = F)\n",
    "nrow(eur_t4_eigenvec)\n",
    "head(eur_t4_eigenvec)"
   ]
  },
  {
   "cell_type": "markdown",
   "metadata": {},
   "source": [
    "#### eigenval"
   ]
  },
  {
   "cell_type": "code",
   "execution_count": null,
   "metadata": {},
   "outputs": [],
   "source": [
    "eur_t4_eigenval = read.csv('EUR.Free_T4.PCA_cleaned.eigenval', header = F)\n",
    "head(eur_t4_eigenval)"
   ]
  },
  {
   "cell_type": "markdown",
   "metadata": {},
   "source": [
    "## AFR"
   ]
  },
  {
   "cell_type": "markdown",
   "metadata": {},
   "source": [
    "### TSH"
   ]
  },
  {
   "cell_type": "markdown",
   "metadata": {},
   "source": [
    "#### eigenvec"
   ]
  },
  {
   "cell_type": "code",
   "execution_count": null,
   "metadata": {},
   "outputs": [],
   "source": [
    "afr_tsh_eigenvec = read.csv('AFR.TSH.PCA_cleaned.eigenvec', header = F)\n",
    "nrow(afr_tsh_eigenvec)\n",
    "head(afr_tsh_eigenvec)"
   ]
  },
  {
   "cell_type": "markdown",
   "metadata": {},
   "source": [
    "#### eigenval"
   ]
  },
  {
   "cell_type": "code",
   "execution_count": null,
   "metadata": {},
   "outputs": [],
   "source": [
    "afr_tsh_eigenval = read.csv('AFR.TSH.PCA_cleaned.eigenval', header = F)\n",
    "head(afr_tsh_eigenval)"
   ]
  },
  {
   "cell_type": "markdown",
   "metadata": {},
   "source": [
    "### Free T4"
   ]
  },
  {
   "cell_type": "markdown",
   "metadata": {},
   "source": [
    "#### eigenvec"
   ]
  },
  {
   "cell_type": "code",
   "execution_count": null,
   "metadata": {},
   "outputs": [],
   "source": [
    "afr_t4_eigenvec = read.csv('AFR.Free_T4.PCA_cleaned.eigenvec', header = F)\n",
    "nrow(afr_t4_eigenvec)\n",
    "head(afr_t4_eigenvec)"
   ]
  },
  {
   "cell_type": "markdown",
   "metadata": {},
   "source": [
    "#### eigenval"
   ]
  },
  {
   "cell_type": "code",
   "execution_count": null,
   "metadata": {},
   "outputs": [],
   "source": [
    "afr_t4_eigenval = read.csv('AFR.Free_T4.PCA_cleaned.eigenval', header = F)\n",
    "head(afr_t4_eigenval)"
   ]
  },
  {
   "cell_type": "markdown",
   "metadata": {},
   "source": [
    "# Clean Ancestry Specific PCs Data"
   ]
  },
  {
   "cell_type": "markdown",
   "metadata": {},
   "source": [
    "## Clean Eigenvals\n",
    "- add PC column\n",
    "- make PC column numeric\n",
    "- calculate variance"
   ]
  },
  {
   "cell_type": "markdown",
   "metadata": {},
   "source": [
    "### TSH"
   ]
  },
  {
   "cell_type": "code",
   "execution_count": null,
   "metadata": {},
   "outputs": [],
   "source": [
    "eur_tsh_eigenval_clean = eur_tsh_eigenval %>%\n",
    "mutate(PC = rownames(eur_tsh_eigenval)) %>%\n",
    "mutate(PC = as.numeric(PC)) %>%\n",
    "mutate(VARIANCE = V1 / sum(V1))\n",
    "head(eur_tsh_eigenval_clean)"
   ]
  },
  {
   "cell_type": "code",
   "execution_count": null,
   "metadata": {},
   "outputs": [],
   "source": [
    "afr_tsh_eigenval_clean = afr_tsh_eigenval %>%\n",
    "mutate(PC = rownames(afr_tsh_eigenval)) %>%\n",
    "mutate(PC = as.numeric(PC)) %>%\n",
    "mutate(VARIANCE = V1 / sum(V1))\n",
    "head(afr_tsh_eigenval_clean)"
   ]
  },
  {
   "cell_type": "markdown",
   "metadata": {},
   "source": [
    "### Free T4"
   ]
  },
  {
   "cell_type": "code",
   "execution_count": null,
   "metadata": {},
   "outputs": [],
   "source": [
    "eur_t4_eigenval_clean = eur_t4_eigenval %>%\n",
    "mutate(PC = rownames(eur_t4_eigenval)) %>%\n",
    "mutate(PC = as.numeric(PC)) %>%\n",
    "mutate(VARIANCE = V1 / sum(V1))\n",
    "head(eur_t4_eigenval_clean)"
   ]
  },
  {
   "cell_type": "code",
   "execution_count": null,
   "metadata": {},
   "outputs": [],
   "source": [
    "afr_t4_eigenval_clean = afr_t4_eigenval %>%\n",
    "mutate(PC = rownames(afr_t4_eigenval)) %>%\n",
    "mutate(PC = as.numeric(PC)) %>%\n",
    "mutate(VARIANCE = V1 / sum(V1))\n",
    "head(afr_t4_eigenval_clean)"
   ]
  },
  {
   "cell_type": "markdown",
   "metadata": {},
   "source": [
    "## Clean Eigenvectors"
   ]
  },
  {
   "cell_type": "markdown",
   "metadata": {},
   "source": [
    "### TSH"
   ]
  },
  {
   "cell_type": "code",
   "execution_count": null,
   "metadata": {},
   "outputs": [],
   "source": [
    "eur_tsh_eigenvec_clean = eur_tsh_eigenvec %>%\n",
    "rename('IID' = 'V1',\n",
    "       'PC1' = 'V2',\n",
    "       'PC2' = 'V3',\n",
    "       'PC3' = 'V4',\n",
    "       'PC4' = 'V5') %>%\n",
    "select(IID, PC1, PC2, PC3, PC4)\n",
    "head(eur_tsh_eigenvec_clean)"
   ]
  },
  {
   "cell_type": "code",
   "execution_count": null,
   "metadata": {},
   "outputs": [],
   "source": [
    "afr_tsh_eigenvec_clean = afr_tsh_eigenvec %>%\n",
    "rename('IID' = 'V1',\n",
    "       'PC1' = 'V2') %>%\n",
    "select(IID, PC1)\n",
    "head(afr_tsh_eigenvec_clean)"
   ]
  },
  {
   "cell_type": "markdown",
   "metadata": {},
   "source": [
    "### Free T4"
   ]
  },
  {
   "cell_type": "code",
   "execution_count": null,
   "metadata": {},
   "outputs": [],
   "source": [
    "eur_t4_eigenvec_clean = eur_t4_eigenvec %>%\n",
    "rename('IID' = 'V1',\n",
    "       'PC1' = 'V2',\n",
    "       'PC2' = 'V3',\n",
    "       'PC3' = 'V4',\n",
    "       'PC4' = 'V5') %>%\n",
    "select(IID, PC1, PC2, PC3, PC4)\n",
    "head(eur_t4_eigenvec_clean)"
   ]
  },
  {
   "cell_type": "code",
   "execution_count": null,
   "metadata": {},
   "outputs": [],
   "source": [
    "afr_t4_eigenvec_clean = afr_t4_eigenvec %>%\n",
    "rename('IID' = 'V1',\n",
    "       'PC1' = 'V2') %>%\n",
    "select(IID, PC1)\n",
    "head(afr_t4_eigenvec_clean)"
   ]
  },
  {
   "cell_type": "markdown",
   "metadata": {},
   "source": [
    "# Make Scree Plots"
   ]
  },
  {
   "cell_type": "markdown",
   "metadata": {},
   "source": [
    "## TSH"
   ]
  },
  {
   "cell_type": "markdown",
   "metadata": {},
   "source": [
    "### EUR"
   ]
  },
  {
   "cell_type": "code",
   "execution_count": null,
   "metadata": {},
   "outputs": [],
   "source": [
    "ggplot(eur_tsh_eigenval_clean, aes(x = PC, y = VARIANCE)) +\n",
    "geom_line() +\n",
    "scale_x_continuous(breaks = seq(1, 20, by = 1), limits = c(1, 20)) +\n",
    "ggtitle('AOU v8 EUR TSH Scree Plot')\n",
    "ggsave('plots/AoU_v8.TSH.PCA.EUR.n=12385.scree_plot.png',\n",
    "       width = 10,\n",
    "       height = 10,\n",
    "       dpi = 300)"
   ]
  },
  {
   "cell_type": "markdown",
   "metadata": {},
   "source": [
    "### AFR"
   ]
  },
  {
   "cell_type": "code",
   "execution_count": null,
   "metadata": {},
   "outputs": [],
   "source": [
    "ggplot(afr_tsh_eigenval_clean, aes(x = PC, y = VARIANCE)) +\n",
    "geom_line() +\n",
    "scale_x_continuous(breaks = seq(1, 20, by = 1), limits = c(1, 20)) +\n",
    "ggtitle('AOU v8 AFR TSH Scree Plot')\n",
    "ggsave('plots/AoU_v8.TSH.PCA.AFR.n=12385.scree_plot.png',\n",
    "       width = 10,\n",
    "       height = 10,\n",
    "       dpi = 300)"
   ]
  },
  {
   "cell_type": "markdown",
   "metadata": {},
   "source": [
    "## Free T4"
   ]
  },
  {
   "cell_type": "markdown",
   "metadata": {},
   "source": [
    "### EUR"
   ]
  },
  {
   "cell_type": "code",
   "execution_count": null,
   "metadata": {},
   "outputs": [],
   "source": [
    "ggplot(eur_t4_eigenval_clean, aes(x = PC, y = VARIANCE)) +\n",
    "geom_line() +\n",
    "scale_x_continuous(breaks = seq(1, 20, by = 1), limits = c(1, 20)) +\n",
    "ggtitle('AOU v8 EUR Free T4 Scree Plot')\n",
    "ggsave('plots/AoU_v8.Free_T4.PCA.EUR.n=4037.scree_plot.png',\n",
    "       width = 10,\n",
    "       height = 10,\n",
    "       dpi = 300)"
   ]
  },
  {
   "cell_type": "markdown",
   "metadata": {},
   "source": [
    "### AFR"
   ]
  },
  {
   "cell_type": "code",
   "execution_count": null,
   "metadata": {},
   "outputs": [],
   "source": [
    "ggplot(afr_t4_eigenval_clean, aes(x = PC, y = VARIANCE)) +\n",
    "geom_line() +\n",
    "scale_x_continuous(breaks = seq(1, 20, by = 1), limits = c(1, 20)) +\n",
    "ggtitle('AOU v8 AFR Free T4 Scree Plot')\n",
    "ggsave('plots/AoU_v8.Free_T4.PCA.AFR.n=4037.scree_plot.png',\n",
    "       width = 10,\n",
    "       height = 10,\n",
    "       dpi = 300)"
   ]
  },
  {
   "cell_type": "markdown",
   "metadata": {},
   "source": [
    "# Merge Dataframe with Ancestry Specific PC Dataframe"
   ]
  },
  {
   "cell_type": "markdown",
   "metadata": {},
   "source": [
    "## TSH"
   ]
  },
  {
   "cell_type": "markdown",
   "metadata": {},
   "source": [
    "### EUR"
   ]
  },
  {
   "cell_type": "code",
   "execution_count": null,
   "metadata": {},
   "outputs": [],
   "source": [
    "inv_norm_tsh_eur_random_pc = inv_norm_tsh_eur %>%\n",
    "merge(eur_tsh_eigenvec_clean, by = 'IID')\n",
    "head(inv_norm_tsh_eur_random_pc)\n",
    "nrow(inv_norm_tsh_eur_random_pc)"
   ]
  },
  {
   "cell_type": "markdown",
   "metadata": {},
   "source": [
    "### AFR"
   ]
  },
  {
   "cell_type": "code",
   "execution_count": null,
   "metadata": {},
   "outputs": [],
   "source": [
    "inv_norm_tsh_afr_pc = inv_norm_tsh_afr %>%\n",
    "merge(afr_tsh_eigenvec_clean, by = 'IID')\n",
    "head(inv_norm_tsh_afr_pc)\n",
    "nrow(inv_norm_tsh_afr_pc)"
   ]
  },
  {
   "cell_type": "markdown",
   "metadata": {},
   "source": [
    "## Free T4"
   ]
  },
  {
   "cell_type": "markdown",
   "metadata": {},
   "source": [
    "### EUR"
   ]
  },
  {
   "cell_type": "code",
   "execution_count": null,
   "metadata": {},
   "outputs": [],
   "source": [
    "t4_eur_pc = t4_eur_age_squared %>%\n",
    "merge(eur_t4_eigenvec_clean, by = 'IID')\n",
    "head(t4_eur_pc)\n",
    "nrow(t4_eur_pc)"
   ]
  },
  {
   "cell_type": "markdown",
   "metadata": {},
   "source": [
    "### AFR"
   ]
  },
  {
   "cell_type": "code",
   "execution_count": null,
   "metadata": {},
   "outputs": [],
   "source": [
    "t4_afr_pc = t4_afr_age_squared %>%\n",
    "merge(afr_t4_eigenvec_clean, by = 'IID')\n",
    "head(t4_afr_pc)\n",
    "nrow(t4_afr_pc)"
   ]
  },
  {
   "cell_type": "markdown",
   "metadata": {},
   "source": [
    "# Assess AMR Covariate Correlation"
   ]
  },
  {
   "cell_type": "code",
   "execution_count": null,
   "metadata": {},
   "outputs": [],
   "source": [
    "corrplot(cor(inv_norm_tsh_age_squared_amr_pc_sub),method='color',type = 'lower')"
   ]
  },
  {
   "cell_type": "code",
   "execution_count": null,
   "metadata": {},
   "outputs": [],
   "source": [
    "corrplot(cor(inv_norm_tsh_age_squared_amr_pc_sub),method='number',type = 'lower')"
   ]
  },
  {
   "cell_type": "markdown",
   "metadata": {},
   "source": [
    "# Export Phenotype Covariate Files"
   ]
  },
  {
   "cell_type": "code",
   "execution_count": null,
   "metadata": {},
   "outputs": [],
   "source": [
    "my_bucket <- Sys.getenv('WORKSPACE_BUCKET')"
   ]
  },
  {
   "cell_type": "markdown",
   "metadata": {},
   "source": [
    "## TSH"
   ]
  },
  {
   "cell_type": "markdown",
   "metadata": {},
   "source": [
    "### EUR random sample"
   ]
  },
  {
   "cell_type": "code",
   "execution_count": null,
   "metadata": {},
   "outputs": [],
   "source": [
    "write.table(inv_norm_tsh_eur_random_pc,\n",
    "            'phenotype_files/AoU_v8.TSH.GWAS.EUR.n=12385.phenotype_covariates.txt',\n",
    "            sep = '\\t',\n",
    "            col.names = T,\n",
    "            row.names = F,\n",
    "            quote = F)\n",
    "\n",
    "system(paste0(\"gsutil cp phenotype_files/AoU_v8.TSH.GWAS.EUR.n=12385.phenotype_covariates.txt \", my_bucket, \"/phenotype_files/\"), intern=T)"
   ]
  },
  {
   "cell_type": "markdown",
   "metadata": {},
   "source": [
    "### AFR"
   ]
  },
  {
   "cell_type": "code",
   "execution_count": null,
   "metadata": {},
   "outputs": [],
   "source": [
    "my_bucket <- Sys.getenv('WORKSPACE_BUCKET')\n",
    "# store the dataframe in current workspace\n",
    "write.table(inv_norm_tsh_afr_pc,\n",
    "            'AoU_v8.TSH.GWAS.AFR.n=12385.phenotype_covariates.txt',\n",
    "            sep = '\\t',\n",
    "            col.names = T,\n",
    "            row.names = F,\n",
    "            quote = F)\n",
    "\n",
    "# Copy the file from current workspace to the bucket\n",
    "system(paste0(\"gsutil cp AoU_v8.TSH.GWAS.AFR.n=12385.phenotype_covariates.txt \", my_bucket, \"/phenotype_files/\"))"
   ]
  },
  {
   "cell_type": "markdown",
   "metadata": {},
   "source": [
    "## Free T4"
   ]
  },
  {
   "cell_type": "markdown",
   "metadata": {},
   "source": [
    "### EUR- random sample"
   ]
  },
  {
   "cell_type": "code",
   "execution_count": null,
   "metadata": {},
   "outputs": [],
   "source": [
    "write.table(t4_eur_pc,\n",
    "            'phenotype_files/AoU_v8.Free_T4.GWAS.EUR.n=4037.phenotype_covariates.txt',\n",
    "            sep = '\\t',\n",
    "            col.names = T,\n",
    "            row.names = F,\n",
    "            quote = F)\n",
    "\n",
    "system(paste0(\"gsutil cp phenotype_files/AoU_v8.Free_T4.GWAS.EUR.n=4037.phenotype_covariates.txt \", my_bucket, \"/phenotype_files/\"), intern=T)"
   ]
  },
  {
   "cell_type": "markdown",
   "metadata": {},
   "source": [
    "### AFR"
   ]
  },
  {
   "cell_type": "code",
   "execution_count": null,
   "metadata": {},
   "outputs": [],
   "source": [
    "write.table(t4_afr_pc,\n",
    "            'phenotype_files/AoU_v8.Free_T4.GWAS.AFR.n=4037.phenotype_covariates.txt',\n",
    "            sep = '\\t',\n",
    "            col.names = T,\n",
    "            row.names = F,\n",
    "            quote = F)\n",
    "\n",
    "system(paste0(\"gsutil cp phenotype_files/AoU_v8.Free_T4.GWAS.AFR.n=4037.phenotype_covariates.txt \", my_bucket, \"/phenotype_files/\"), intern=T)"
   ]
  },
  {
   "cell_type": "code",
   "execution_count": null,
   "metadata": {},
   "outputs": [],
   "source": []
  }
 ],
 "metadata": {
  "kernelspec": {
   "display_name": "R",
   "language": "R",
   "name": "ir"
  },
  "language_info": {
   "codemirror_mode": "r",
   "file_extension": ".r",
   "mimetype": "text/x-r-source",
   "name": "R",
   "pygments_lexer": "r",
   "version": "4.5.0"
  },
  "toc": {
   "base_numbering": 1,
   "nav_menu": {},
   "number_sections": true,
   "sideBar": true,
   "skip_h1_title": false,
   "title_cell": "Table of Contents",
   "title_sidebar": "Contents",
   "toc_cell": false,
   "toc_position": {},
   "toc_section_display": true,
   "toc_window_display": false
  }
 },
 "nbformat": 4,
 "nbformat_minor": 2
}
