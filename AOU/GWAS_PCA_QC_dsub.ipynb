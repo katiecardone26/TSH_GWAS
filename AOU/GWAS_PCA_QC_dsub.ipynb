{
 "cells": [
  {
   "cell_type": "markdown",
   "metadata": {},
   "source": [
    "# setup"
   ]
  },
  {
   "cell_type": "markdown",
   "metadata": {},
   "source": [
    "## setup dsub"
   ]
  },
  {
   "cell_type": "code",
   "execution_count": null,
   "metadata": {},
   "outputs": [],
   "source": [
    "%%writefile ~/aou_dsub.bash\n",
    "\n",
    "#!/bin/bash\n",
    "\n",
    "# This shell function passes reasonable defaults for several dsub parameters, while\n",
    "# allowing the caller to override any of them. It creates a nice folder structure within\n",
    "# the workspace bucket for dsub log files.\n",
    "\n",
    "# --[ Parameters ]--\n",
    "# any valid dsub parameter flag\n",
    "\n",
    "#--[ Returns ]--\n",
    "# the job id of the job created by dsub\n",
    "\n",
    "#--[ Details ]--\n",
    "# The first five parameters below should always be those values when running on AoU RWB.\n",
    "\n",
    "# Feel free to change the values for --user, --regions, --logging, and --image if you like.\n",
    "\n",
    "# Note that we insert some job data into the logging path.\n",
    "# https://github.com/DataBiosphere/dsub/blob/main/docs/logging.md#inserting-job-data\n",
    "\n",
    "function aou_dsub () {\n",
    "\n",
    "  # Get a shorter username to leave more characters for the job name.\n",
    "  local DSUB_USER_NAME=\"$(echo \"${OWNER_EMAIL}\" | cut -d@ -f1)\"\n",
    "\n",
    "  # For AoU RWB projects network name is \"network\".\n",
    "  #local AOU_NETWORK=network\n",
    "  #local AOU_SUBNETWORK=subnetwork\n",
    "\n",
    "  dsub \\\n",
    "      --provider google-batch \\\n",
    "      --user-project \"${GOOGLE_PROJECT}\"\\\n",
    "      --project \"${GOOGLE_PROJECT}\"\\\n",
    "      --image 'ubuntu:latest' \\\n",
    "      --network \"global/networks/network\" \\\n",
    "      --subnetwork \"regions/us-central1/subnetworks/subnetwork\" \\\n",
    "      --service-account \"$(gcloud config get-value account)\" \\\n",
    "      --use-private-address \\\n",
    "      --user \"${DSUB_USER_NAME}\" \\\n",
    "      --regions us-central1 \\\n",
    "      --logging \"${WORKSPACE_BUCKET}/dsub/logs/{job-name}/{user-id}/$(date +'%Y%m%d/%H%M%S')/{job-id}-{task-id}-{task-attempt}.log\" \\\n",
    "      \"$@\"\n",
    "}"
   ]
  },
  {
   "cell_type": "markdown",
   "metadata": {},
   "source": [
    "# compute ancestry specific PCA"
   ]
  },
  {
   "cell_type": "markdown",
   "metadata": {},
   "source": [
    "## run initial QC"
   ]
  },
  {
   "cell_type": "markdown",
   "metadata": {},
   "source": [
    "### submit job"
   ]
  },
  {
   "cell_type": "code",
   "execution_count": null,
   "metadata": {},
   "outputs": [],
   "source": [
    "import pandas as pd\n",
    "import os\n",
    "bucket = os.getenv('WORKSPACE_BUCKET')\n",
    "\n",
    "USER_NAME = os.getenv('OWNER_EMAIL').split('@')[0].replace('.', '-')\n",
    "%env USER_NAME={USER_NAME}\n",
    "JOB_NAME=f'inital_qc-{USER_NAME}'\n",
    "%env JOB_NAME={JOB_NAME}\n",
    "\n",
    "params_df = pd.DataFrame(data={\n",
    "    '--input-recursive ARRAY': [f\"gs://fc-aou-datasets-controlled/v8/microarray/plink\" for _ in range(4)],\n",
    "    '--env ANCESTRY': ['EUR', 'AFR', 'EUR', 'AFR'],\n",
    "    '--env PHENO': ['TSH'] * 2 + ['Free_T4'] * 2,\n",
    "    '--env SAMPLE_SIZE' : [12385] * 2 + [4037] * 2,\n",
    "    '--output-recursive OUTPUT_DIR': [f\"{bucket}/PCA/input\" for _ in range(4)]\n",
    "})\n",
    "\n",
    "PARAMETER_FILENAME = f'{JOB_NAME}_params.tsv'\n",
    "%env PARAMETER_FILENAME={PARAMETER_FILENAME}\n",
    "\n",
    "params_df.to_csv(PARAMETER_FILENAME, sep = '\\t', index = False)\n",
    "\n",
    "job_id = !source ~/aou_dsub.bash; aou_dsub \\\n",
    "  --name \"${JOB_NAME}\" \\\n",
    "  --provider google-batch \\\n",
    "  --image \"gcr.io/ritchie-aou-psom-9015/plink2:latest\" \\\n",
    "  --logging \"${WORKSPACE_BUCKET}/dsub_logs/pca/\" \\\n",
    "  --mount BUCKET=\"${WORKSPACE_BUCKET}\" \\\n",
    "  --disk-size 360 \\\n",
    "  --tasks \"${PARAMETER_FILENAME}\" \\\n",
    "  --command 'plink2 --bfile ${ARRAY}/arrays \\\n",
    "              --keep $BUCKET/sample_lists/AoU_v8.${PHENO}.GWAS.${ANCESTRY}.n=${SAMPLE_SIZE}.sample_list.txt \\\n",
    "              --geno 0.05 dosage \\\n",
    "              --mind 0.05 dosage \\\n",
    "              --max-alleles 2 \\\n",
    "              --snps-only \\\n",
    "              --make-bed \\\n",
    "              --out ${OUTPUT_DIR}/${ANCESTRY}.${PHENO}.initial_qc'\n",
    "\n",
    "print(\"\\n\".join(job_id))\n",
    "job_id = job_id[1].split(\" \")[-1]\n",
    "%env JOB_ID={job_id}"
   ]
  },
  {
   "cell_type": "markdown",
   "metadata": {},
   "source": [
    "### check job status"
   ]
  },
  {
   "cell_type": "code",
   "execution_count": null,
   "metadata": {},
   "outputs": [],
   "source": [
    "!dstat \\\n",
    "    --provider google-batch \\\n",
    "    --project \"${GOOGLE_PROJECT}\" \\\n",
    "    --location us-central1 \\\n",
    "    --jobs \"${JOB_ID}\" \\\n",
    "    --users \"${USER_NAME}\" \\\n",
    "    --status '*'"
   ]
  },
  {
   "cell_type": "markdown",
   "metadata": {},
   "source": [
    "## filter based on maf"
   ]
  },
  {
   "cell_type": "markdown",
   "metadata": {},
   "source": [
    "### check size of files"
   ]
  },
  {
   "cell_type": "code",
   "execution_count": null,
   "metadata": {},
   "outputs": [],
   "source": [
    "!gsutil ls -lh {bucket}/PCA/input/"
   ]
  },
  {
   "cell_type": "markdown",
   "metadata": {},
   "source": [
    "### submit jobs"
   ]
  },
  {
   "cell_type": "code",
   "execution_count": null,
   "metadata": {},
   "outputs": [],
   "source": [
    "import pandas as pd\n",
    "import os\n",
    "bucket = os.getenv('WORKSPACE_BUCKET')\n",
    "\n",
    "USER_NAME = os.getenv('OWNER_EMAIL').split('@')[0].replace('.', '-')\n",
    "%env USER_NAME={USER_NAME}\n",
    "JOB_NAME=f'maf-{USER_NAME}'\n",
    "%env JOB_NAME={JOB_NAME}\n",
    "\n",
    "params_df = pd.DataFrame(data={\n",
    "    '--env ANCESTRY': ['EUR', 'AFR', 'EUR', 'AFR'],\n",
    "    '--env PHENO': ['TSH'] * 2 + ['Free_T4'] * 2,\n",
    "    '--output-recursive OUTPUT_DIR': [f\"{bucket}/PCA/input\" for _ in range(4)]\n",
    "})\n",
    "\n",
    "PARAMETER_FILENAME = f'{JOB_NAME}_params.tsv'\n",
    "%env PARAMETER_FILENAME={PARAMETER_FILENAME}\n",
    "\n",
    "params_df.to_csv(PARAMETER_FILENAME, sep = '\\t', index = False)\n",
    "\n",
    "job_id = !source ~/aou_dsub.bash; aou_dsub \\\n",
    "  --name \"${JOB_NAME}\" \\\n",
    "  --provider google-batch \\\n",
    "  --image \"gcr.io/ritchie-aou-psom-9015/plink2:latest\" \\\n",
    "  --logging \"${WORKSPACE_BUCKET}/dsub_logs/pca/\" \\\n",
    "  --mount BUCKET=\"${WORKSPACE_BUCKET}\" \\\n",
    "  --disk-size 20 \\\n",
    "  --tasks \"${PARAMETER_FILENAME}\" \\\n",
    "  --command 'plink2 --bfile $BUCKET/PCA/input/${ANCESTRY}.${PHENO}.initial_qc \\\n",
    "              --maf 0.05 \\\n",
    "              --make-bed \\\n",
    "              --out ${OUTPUT_DIR}/${ANCESTRY}.${PHENO}.freq_qc'\n",
    "\n",
    "print(\"\\n\".join(job_id))\n",
    "job_id = job_id[1].split(\" \")[-1]\n",
    "%env JOB_ID={job_id}"
   ]
  },
  {
   "cell_type": "markdown",
   "metadata": {},
   "source": [
    "### check job status"
   ]
  },
  {
   "cell_type": "code",
   "execution_count": null,
   "metadata": {},
   "outputs": [],
   "source": [
    "!dstat \\\n",
    "    --provider google-batch \\\n",
    "    --project \"${GOOGLE_PROJECT}\" \\\n",
    "    --location us-central1 \\\n",
    "    --jobs \"${JOB_ID}\" \\\n",
    "    --users \"${USER_NAME}\" \\\n",
    "    --status '*'"
   ]
  },
  {
   "cell_type": "markdown",
   "metadata": {},
   "source": [
    "## ld prune"
   ]
  },
  {
   "cell_type": "markdown",
   "metadata": {},
   "source": [
    "### check initial number of variants"
   ]
  },
  {
   "cell_type": "code",
   "execution_count": null,
   "metadata": {},
   "outputs": [],
   "source": [
    "!gsutil cp {bucket}/PCA/input/*.freq_qc.bim ."
   ]
  },
  {
   "cell_type": "code",
   "execution_count": null,
   "metadata": {},
   "outputs": [],
   "source": [
    "!wc -l *.freq_qc.bim"
   ]
  },
  {
   "cell_type": "markdown",
   "metadata": {},
   "source": [
    "### check size of files"
   ]
  },
  {
   "cell_type": "code",
   "execution_count": null,
   "metadata": {},
   "outputs": [],
   "source": [
    "!gsutil ls -lh {bucket}/PCA/input/*TSH.freq_qc*"
   ]
  },
  {
   "cell_type": "markdown",
   "metadata": {},
   "source": [
    "### submit job"
   ]
  },
  {
   "cell_type": "code",
   "execution_count": null,
   "metadata": {},
   "outputs": [],
   "source": [
    "import pandas as pd\n",
    "import os\n",
    "bucket = os.getenv('WORKSPACE_BUCKET')\n",
    "\n",
    "USER_NAME = os.getenv('OWNER_EMAIL').split('@')[0].replace('.', '-')\n",
    "%env USER_NAME={USER_NAME}\n",
    "JOB_NAME=f'ld_prune-{USER_NAME}'\n",
    "%env JOB_NAME={JOB_NAME}\n",
    "\n",
    "params_df = pd.DataFrame(data={\n",
    "    '--env ANCESTRY': ['EUR', 'AFR', 'EUR', 'AFR'],\n",
    "    '--env PHENO': ['TSH'] * 2 + ['Free_T4'] * 2,\n",
    "    '--env R2' : ['0.15', '0.065', '0.15', '0.065'],\n",
    "    '--output-recursive OUTPUT_DIR': [f\"{bucket}/PCA/input\" for _ in range(4)]\n",
    "})\n",
    "\n",
    "PARAMETER_FILENAME = f'{JOB_NAME}_params.tsv'\n",
    "%env PARAMETER_FILENAME={PARAMETER_FILENAME}\n",
    "\n",
    "params_df.to_csv(PARAMETER_FILENAME, sep = '\\t', index = False)\n",
    "\n",
    "job_id = !source ~/aou_dsub.bash; aou_dsub \\\n",
    "  --name \"${JOB_NAME}\" \\\n",
    "  --provider google-batch \\\n",
    "  --image \"gcr.io/ritchie-aou-psom-9015/plink2:latest\" \\\n",
    "  --logging \"${WORKSPACE_BUCKET}/dsub_logs/pca/\" \\\n",
    "  --mount BUCKET=\"${WORKSPACE_BUCKET}\" \\\n",
    "  --disk-size 5 \\\n",
    "  --tasks \"${PARAMETER_FILENAME}\" \\\n",
    "  --command 'plink2 --bfile $BUCKET/PCA/input/${ANCESTRY}.${PHENO}.freq_qc \\\n",
    "              --autosome \\\n",
    "              --indep-pairwise 150 5 ${R2} \\\n",
    "              --out ${OUTPUT_DIR}/${ANCESTRY}.${PHENO}.ld_pruned'\n",
    "\n",
    "print(\"\\n\".join(job_id))\n",
    "job_id = job_id[1].split(\" \")[-1]\n",
    "%env JOB_ID={job_id}"
   ]
  },
  {
   "cell_type": "markdown",
   "metadata": {},
   "source": [
    "### check job status"
   ]
  },
  {
   "cell_type": "code",
   "execution_count": null,
   "metadata": {},
   "outputs": [],
   "source": [
    "!dstat \\\n",
    "    --provider google-batch \\\n",
    "    --project \"${GOOGLE_PROJECT}\" \\\n",
    "    --location us-central1 \\\n",
    "    --jobs \"${JOB_ID}\" \\\n",
    "    --users \"${USER_NAME}\" \\\n",
    "    --status '*'"
   ]
  },
  {
   "cell_type": "markdown",
   "metadata": {},
   "source": [
    "### check number of variants after pruning"
   ]
  },
  {
   "cell_type": "code",
   "execution_count": null,
   "metadata": {},
   "outputs": [],
   "source": [
    "!gsutil cp {bucket}/PCA/input/*.ld_pruned.prune.in ."
   ]
  },
  {
   "cell_type": "code",
   "execution_count": null,
   "metadata": {},
   "outputs": [],
   "source": [
    "!wc -l *.ld_pruned.prune.in"
   ]
  },
  {
   "cell_type": "markdown",
   "metadata": {},
   "source": [
    "## extract pruned variants"
   ]
  },
  {
   "cell_type": "markdown",
   "metadata": {},
   "source": [
    "### submit job"
   ]
  },
  {
   "cell_type": "code",
   "execution_count": null,
   "metadata": {},
   "outputs": [],
   "source": [
    "import pandas as pd\n",
    "import os\n",
    "bucket = os.getenv('WORKSPACE_BUCKET')\n",
    "\n",
    "USER_NAME = os.getenv('OWNER_EMAIL').split('@')[0].replace('.', '-')\n",
    "%env USER_NAME={USER_NAME}\n",
    "JOB_NAME=f'ld_prune_extract-{USER_NAME}'\n",
    "%env JOB_NAME={JOB_NAME}\n",
    "\n",
    "params_df = pd.DataFrame(data={\n",
    "    '--env ANCESTRY': ['EUR', 'AFR', 'EUR', 'AFR'],\n",
    "    '--env PHENO': ['TSH'] * 2 + ['Free_T4'] * 2,\n",
    "    '--output-recursive OUTPUT_DIR': [f\"{bucket}/PCA/input\" for _ in range(4)]\n",
    "})\n",
    "\n",
    "PARAMETER_FILENAME = f'{JOB_NAME}_params.tsv'\n",
    "%env PARAMETER_FILENAME={PARAMETER_FILENAME}\n",
    "\n",
    "params_df.to_csv(PARAMETER_FILENAME, sep = '\\t', index = False)\n",
    "\n",
    "job_id = !source ~/aou_dsub.bash; aou_dsub \\\n",
    "  --name \"${JOB_NAME}\" \\\n",
    "  --provider google-batch \\\n",
    "  --image \"gcr.io/ritchie-aou-psom-9015/plink2:latest\" \\\n",
    "  --logging \"${WORKSPACE_BUCKET}/dsub_logs/pca/\" \\\n",
    "  --mount BUCKET=\"${WORKSPACE_BUCKET}\" \\\n",
    "  --disk-size 5 \\\n",
    "  --tasks \"${PARAMETER_FILENAME}\" \\\n",
    "  --command 'plink2 --bfile $BUCKET/PCA/input/${ANCESTRY}.${PHENO}.freq_qc \\\n",
    "              --extract $BUCKET/PCA/input/${ANCESTRY}.${PHENO}.ld_pruned.prune.in \\\n",
    "              --make-bed \\\n",
    "              --out ${OUTPUT_DIR}/${ANCESTRY}.${PHENO}.ld_pruned'\n",
    "\n",
    "print(\"\\n\".join(job_id))\n",
    "job_id = job_id[1].split(\" \")[-1]\n",
    "%env JOB_ID={job_id}"
   ]
  },
  {
   "cell_type": "markdown",
   "metadata": {},
   "source": [
    "### check job status"
   ]
  },
  {
   "cell_type": "code",
   "execution_count": null,
   "metadata": {},
   "outputs": [],
   "source": [
    "!dstat \\\n",
    "    --provider google-batch \\\n",
    "    --project \"${GOOGLE_PROJECT}\" \\\n",
    "    --location us-central1 \\\n",
    "    --jobs \"${JOB_ID}\" \\\n",
    "    --users \"${USER_NAME}\" \\\n",
    "    --status '*'"
   ]
  },
  {
   "cell_type": "markdown",
   "metadata": {},
   "source": [
    "## make convertf input file"
   ]
  },
  {
   "cell_type": "markdown",
   "metadata": {},
   "source": [
    "### TSH"
   ]
  },
  {
   "cell_type": "code",
   "execution_count": null,
   "metadata": {},
   "outputs": [],
   "source": [
    "%%bash\n",
    "BUCKET=\"fc-secure-xxxx\"\n",
    "PHENO='TSH'\n",
    "for ANCESTRY in EUR AFR\n",
    "do\n",
    "\n",
    "echo ${ANCESTRY}\n",
    "genotypename=\"/mnt/data/mount/gs/${BUCKET}/PCA/input/${ANCESTRY}.${PHENO}.ld_pruned.bed\"\n",
    "snpname=\"/mnt/data/mount/gs/${BUCKET}/PCA/input/${ANCESTRY}.${PHENO}.ld_pruned.bim\"\n",
    "indivname=\"/mnt/data/mount/gs/${BUCKET}/PCA/input/${ANCESTRY}.${PHENO}.ld_pruned.fam\"\n",
    "outputformat=\"EIGENSTRAT\"\n",
    "genotypeoutname=\"/mnt/data/output/gs/${BUCKET}/PCA/input/${ANCESTRY}.${PHENO}.PCA_input.eigenstratgeno\"\n",
    "snpoutname=\"/mnt/data/output/gs/${BUCKET}/PCA/input/${ANCESTRY}.${PHENO}.PCA_input.snp\"\n",
    "indivoutname=\"/mnt/data/output/gs/${BUCKET}/PCA/input/${ANCESTRY}.${PHENO}.PCA_input.ind\" && \\\n",
    "\n",
    "echo \"genotypename:    $genotypename\" > convertf.${ANCESTRY}.${PHENO}.par\n",
    "echo \"snpname:         $snpname\" >> convertf.${ANCESTRY}.${PHENO}.par\n",
    "echo \"indivname:       $indivname\" >> convertf.${ANCESTRY}.${PHENO}.par\n",
    "echo \"outputformat:    $outputformat\" >> convertf.${ANCESTRY}.${PHENO}.par\n",
    "echo \"genotypeoutname: $genotypeoutname\" >> convertf.${ANCESTRY}.${PHENO}.par\n",
    "echo \"snpoutname:      $snpoutname\" >> convertf.${ANCESTRY}.${PHENO}.par\n",
    "echo \"indivoutname:    $indivoutname\" >> convertf.${ANCESTRY}.${PHENO}.par\n",
    "\n",
    "cat convertf.${ANCESTRY}.${PHENO}.par\n",
    "gsutil cp convertf.${ANCESTRY}.${PHENO}.par ${WORKSPACE_BUCKET}/PCA/input/\n",
    "echo \" \"\n",
    "done"
   ]
  },
  {
   "cell_type": "markdown",
   "metadata": {},
   "source": [
    "### Free T4"
   ]
  },
  {
   "cell_type": "code",
   "execution_count": null,
   "metadata": {},
   "outputs": [],
   "source": [
    "%%bash\n",
    "BUCKET=\"fc-secure-xxxx\"\n",
    "PHENO='Free_T4'\n",
    "for ANCESTRY in EUR AFR\n",
    "do\n",
    "\n",
    "echo ${ANCESTRY}\n",
    "genotypename=\"/mnt/data/mount/gs/${BUCKET}/PCA/input/${ANCESTRY}.${PHENO}.ld_pruned.bed\"\n",
    "snpname=\"/mnt/data/mount/gs/${BUCKET}/PCA/input/${ANCESTRY}.${PHENO}.ld_pruned.bim\"\n",
    "indivname=\"/mnt/data/mount/gs/${BUCKET}/PCA/input/${ANCESTRY}.${PHENO}.ld_pruned.fam\"\n",
    "outputformat=\"EIGENSTRAT\"\n",
    "genotypeoutname=\"/mnt/data/output/gs/${BUCKET}/PCA/input/${ANCESTRY}.${PHENO}.PCA_input.eigenstratgeno\"\n",
    "snpoutname=\"/mnt/data/output/gs/${BUCKET}/PCA/input/${ANCESTRY}.${PHENO}.PCA_input.snp\"\n",
    "indivoutname=\"/mnt/data/output/gs/${BUCKET}/PCA/input/${ANCESTRY}.${PHENO}.PCA_input.ind\" && \\\n",
    "\n",
    "echo \"genotypename:    $genotypename\" > convertf.${ANCESTRY}.${PHENO}.par\n",
    "echo \"snpname:         $snpname\" >> convertf.${ANCESTRY}.${PHENO}.par\n",
    "echo \"indivname:       $indivname\" >> convertf.${ANCESTRY}.${PHENO}.par\n",
    "echo \"outputformat:    $outputformat\" >> convertf.${ANCESTRY}.${PHENO}.par\n",
    "echo \"genotypeoutname: $genotypeoutname\" >> convertf.${ANCESTRY}.${PHENO}.par\n",
    "echo \"snpoutname:      $snpoutname\" >> convertf.${ANCESTRY}.${PHENO}.par\n",
    "echo \"indivoutname:    $indivoutname\" >> convertf.${ANCESTRY}.${PHENO}.par\n",
    "\n",
    "cat convertf.${ANCESTRY}.${PHENO}.par\n",
    "gsutil cp convertf.${ANCESTRY}.${PHENO}.par ${WORKSPACE_BUCKET}/PCA/input/\n",
    "echo \" \"\n",
    "done"
   ]
  },
  {
   "cell_type": "markdown",
   "metadata": {},
   "source": [
    "## convert plink to eigenstrat format"
   ]
  },
  {
   "cell_type": "markdown",
   "metadata": {},
   "source": [
    "### submit job"
   ]
  },
  {
   "cell_type": "code",
   "execution_count": null,
   "metadata": {},
   "outputs": [],
   "source": [
    "import pandas as pd\n",
    "import os\n",
    "bucket = os.getenv('WORKSPACE_BUCKET')\n",
    "\n",
    "USER_NAME = os.getenv('OWNER_EMAIL').split('@')[0].replace('.', '-')\n",
    "%env USER_NAME={USER_NAME}\n",
    "JOB_NAME=f'convertf-{USER_NAME}'\n",
    "%env JOB_NAME={JOB_NAME}\n",
    "\n",
    "params_df = pd.DataFrame(data={\n",
    "    '--env ANCESTRY': ['EUR', 'AFR', 'EUR', 'AFR'],\n",
    "    '--env PHENO': ['TSH'] * 2 + ['Free_T4'] * 2,\n",
    "    '--output-recursive OUTPUT_DIR': [f\"{bucket}/PCA/input/\" for _ in range(4)]\n",
    "})\n",
    "\n",
    "PARAMETER_FILENAME = f'{JOB_NAME}_params.tsv'\n",
    "%env PARAMETER_FILENAME={PARAMETER_FILENAME}\n",
    "\n",
    "params_df.to_csv(PARAMETER_FILENAME, sep = '\\t', index = False)\n",
    "\n",
    "job_id = !source ~/aou_dsub.bash; aou_dsub \\\n",
    "  --name \"${JOB_NAME}\" \\\n",
    "  --provider google-batch \\\n",
    "  --image \"gcr.io/ritchie-aou-psom-9015/eigenstrat:latest\" \\\n",
    "  --logging \"${WORKSPACE_BUCKET}/dsub_logs/pca/\" \\\n",
    "  --mount BUCKET=\"${WORKSPACE_BUCKET}\" \\\n",
    "  --disk-size 5 \\\n",
    "  --tasks \"${PARAMETER_FILENAME}\" \\\n",
    "  --command 'convertf -p $BUCKET/PCA/input/convertf.${ANCESTRY}.${PHENO}.par'\n",
    "\n",
    "print(\"\\n\".join(job_id))\n",
    "job_id = job_id[1].split(\" \")[-1]\n",
    "%env JOB_ID={job_id}"
   ]
  },
  {
   "cell_type": "markdown",
   "metadata": {},
   "source": [
    "### check job status"
   ]
  },
  {
   "cell_type": "code",
   "execution_count": null,
   "metadata": {},
   "outputs": [],
   "source": [
    "!dstat \\\n",
    "    --provider google-batch \\\n",
    "    --project \"${GOOGLE_PROJECT}\" \\\n",
    "    --location us-central1 \\\n",
    "    --jobs \"${JOB_ID}\" \\\n",
    "    --users \"${USER_NAME}\" \\\n",
    "    --status '*'"
   ]
  },
  {
   "cell_type": "markdown",
   "metadata": {},
   "source": [
    "## make smartPCA par file"
   ]
  },
  {
   "cell_type": "markdown",
   "metadata": {},
   "source": [
    "### TSH"
   ]
  },
  {
   "cell_type": "code",
   "execution_count": null,
   "metadata": {},
   "outputs": [],
   "source": [
    "%%bash\n",
    "BUCKET=\"fc-secure-xxxx\"\n",
    "PHENO='TSH'\n",
    "for ANCESTRY in EUR AFR\n",
    "do\n",
    "\n",
    "echo ${ANCESTRY}\n",
    "genotypename=\"/mnt/data/mount/gs/${BUCKET}/PCA/input/${ANCESTRY}.${PHENO}.PCA_input.eigenstratgeno\"\n",
    "snpname=\"/mnt/data/mount/gs/${BUCKET}/PCA/input/${ANCESTRY}.${PHENO}.PCA_input.snp\"\n",
    "indivname=\"/mnt/data/mount/gs/${BUCKET}/PCA/input/${ANCESTRY}.${PHENO}.PCA_input.ind\"\n",
    "evecoutname=\"/mnt/data/output/gs/${BUCKET}/PCA/output/${ANCESTRY}.${PHENO}.PCA.eigenvec\"\n",
    "evaloutname=\"/mnt/data/output/gs/${BUCKET}/PCA/output/${ANCESTRY}.${PHENO}.PCA.eigenval\"\n",
    "numoutevec=\"20\"\n",
    "numoutlieriter=\"0\"\n",
    "altnormstyle=\"NO\"\n",
    "fastmode=\"NO\"\n",
    "numthreads=\"8\"\n",
    "\n",
    "echo \"genotypename:    $genotypename\" > smartPCA.${ANCESTRY}.${PHENO}.par\n",
    "echo \"snpname:         $snpname\" >> smartPCA.${ANCESTRY}.${PHENO}.par\n",
    "echo \"indivname:       $indivname\" >> smartPCA.${ANCESTRY}.${PHENO}.par\n",
    "echo \"evecoutname:     $evecoutname\" >> smartPCA.${ANCESTRY}.${PHENO}.par\n",
    "echo \"evaloutname:     $evaloutname\" >> smartPCA.${ANCESTRY}.${PHENO}.par\n",
    "echo \"numoutevec:      $numoutevec\" >> smartPCA.${ANCESTRY}.${PHENO}.par\n",
    "echo \"numoutlieriter:  $numoutlieriter\" >> smartPCA.${ANCESTRY}.${PHENO}.par\n",
    "echo \"altnormstyle:    $altnormstyle\" >> smartPCA.${ANCESTRY}.${PHENO}.par\n",
    "echo \"fastmode:        $fastmode\" >> smartPCA.${ANCESTRY}.${PHENO}.par\n",
    "echo \"numthreads:      $numthreads\" >> smartPCA.${ANCESTRY}.${PHENO}.par\n",
    "\n",
    "cat smartPCA.${ANCESTRY}.${PHENO}.par\n",
    "gsutil cp smartPCA.${ANCESTRY}.${PHENO}.par ${WORKSPACE_BUCKET}/PCA/input/\n",
    "echo \" \"\n",
    "done"
   ]
  },
  {
   "cell_type": "markdown",
   "metadata": {},
   "source": [
    "### Free T4"
   ]
  },
  {
   "cell_type": "code",
   "execution_count": null,
   "metadata": {},
   "outputs": [],
   "source": [
    "%%bash\n",
    "BUCKET=\"fc-secure-xxxx\"\n",
    "PHENO='Free_T4'\n",
    "for ANCESTRY in EUR AFR\n",
    "do\n",
    "\n",
    "echo ${ANCESTRY}\n",
    "genotypename=\"/mnt/data/mount/gs/${BUCKET}/PCA/input/${ANCESTRY}.${PHENO}.PCA_input.eigenstratgeno\"\n",
    "snpname=\"/mnt/data/mount/gs/${BUCKET}/PCA/input/${ANCESTRY}.${PHENO}.PCA_input.snp\"\n",
    "indivname=\"/mnt/data/mount/gs/${BUCKET}/PCA/input/${ANCESTRY}.${PHENO}.PCA_input.ind\"\n",
    "evecoutname=\"/mnt/data/output/gs/${BUCKET}/PCA/output/${ANCESTRY}.${PHENO}.PCA.eigenvec\"\n",
    "evaloutname=\"/mnt/data/output/gs/${BUCKET}/PCA/output/${ANCESTRY}.${PHENO}.PCA.eigenval\"\n",
    "numoutevec=\"20\"\n",
    "numoutlieriter=\"0\"\n",
    "altnormstyle=\"NO\"\n",
    "fastmode=\"NO\"\n",
    "numthreads=\"8\"\n",
    "\n",
    "echo \"genotypename:    $genotypename\" > smartPCA.${ANCESTRY}.${PHENO}.par\n",
    "echo \"snpname:         $snpname\" >> smartPCA.${ANCESTRY}.${PHENO}.par\n",
    "echo \"indivname:       $indivname\" >> smartPCA.${ANCESTRY}.${PHENO}.par\n",
    "echo \"evecoutname:     $evecoutname\" >> smartPCA.${ANCESTRY}.${PHENO}.par\n",
    "echo \"evaloutname:     $evaloutname\" >> smartPCA.${ANCESTRY}.${PHENO}.par\n",
    "echo \"numoutevec:      $numoutevec\" >> smartPCA.${ANCESTRY}.${PHENO}.par\n",
    "echo \"numoutlieriter:  $numoutlieriter\" >> smartPCA.${ANCESTRY}.${PHENO}.par\n",
    "echo \"altnormstyle:    $altnormstyle\" >> smartPCA.${ANCESTRY}.${PHENO}.par\n",
    "echo \"fastmode:        $fastmode\" >> smartPCA.${ANCESTRY}.${PHENO}.par\n",
    "echo \"numthreads:      $numthreads\" >> smartPCA.${ANCESTRY}.${PHENO}.par\n",
    "\n",
    "cat smartPCA.${ANCESTRY}.${PHENO}.par\n",
    "gsutil cp smartPCA.${ANCESTRY}.${PHENO}.par ${WORKSPACE_BUCKET}/PCA/input/\n",
    "echo \" \"\n",
    "done"
   ]
  },
  {
   "cell_type": "markdown",
   "metadata": {},
   "source": [
    "## run smartPCA"
   ]
  },
  {
   "cell_type": "markdown",
   "metadata": {},
   "source": [
    "### submit job"
   ]
  },
  {
   "cell_type": "code",
   "execution_count": null,
   "metadata": {},
   "outputs": [],
   "source": [
    "import pandas as pd\n",
    "import os\n",
    "bucket = os.getenv('WORKSPACE_BUCKET')\n",
    "\n",
    "USER_NAME = os.getenv('OWNER_EMAIL').split('@')[0].replace('.', '-')\n",
    "%env USER_NAME={USER_NAME}\n",
    "JOB_NAME=f'pca-{USER_NAME}'\n",
    "%env JOB_NAME={JOB_NAME}\n",
    "\n",
    "params_df = pd.DataFrame(data={\n",
    "    '--env ANCESTRY': ['EUR', 'AFR', 'EUR', 'AFR'],\n",
    "    '--env PHENO': ['TSH'] * 2 + ['Free_T4'] * 2,\n",
    "    '--output EIGENVEC': [f\"{bucket}/PCA/output/{x}.{y}.PCA.eigenvec\" for x, y in zip(['EUR', 'AFR', 'EUR', 'AFR'], ['TSH', 'TSH', 'Free_T4', 'Free_T4'])],\n",
    "    '--output EIGENVAL': [f\"{bucket}/PCA/output/{x}.{y}.PCA.eigenval\" for x, y in zip(['EUR', 'AFR', 'EUR', 'AFR'], ['TSH', 'TSH', 'Free_T4', 'Free_T4'])],\n",
    "})\n",
    "\n",
    "PARAMETER_FILENAME = f'{JOB_NAME}_params.tsv'\n",
    "%env PARAMETER_FILENAME={PARAMETER_FILENAME}\n",
    "\n",
    "params_df.to_csv(PARAMETER_FILENAME, sep = '\\t', index = False)\n",
    "\n",
    "job_id = !source ~/aou_dsub.bash; aou_dsub \\\n",
    "  --name \"${JOB_NAME}\" \\\n",
    "  --provider google-batch \\\n",
    "  --image \"gcr.io/ritchie-aou-psom-9015/eigenstrat:latest\" \\\n",
    "  --logging \"${WORKSPACE_BUCKET}/dsub_logs/pca/\" \\\n",
    "  --mount BUCKET=\"${WORKSPACE_BUCKET}\" \\\n",
    "  --disk-size 5 \\\n",
    "  --min-cores 8 \\\n",
    "  --tasks \"${PARAMETER_FILENAME}\" \\\n",
    "  --command 'smartpca -p $BUCKET/PCA/input/smartPCA.${ANCESTRY}.${PHENO}.par'\n",
    "\n",
    "print(\"\\n\".join(job_id))\n",
    "job_id = job_id[1].split(\" \")[-1]\n",
    "%env JOB_ID={job_id}"
   ]
  },
  {
   "cell_type": "markdown",
   "metadata": {},
   "source": [
    "### check job status"
   ]
  },
  {
   "cell_type": "code",
   "execution_count": null,
   "metadata": {},
   "outputs": [],
   "source": [
    "!dstat \\\n",
    "    --provider google-batch \\\n",
    "    --project \"${GOOGLE_PROJECT}\" \\\n",
    "    --location us-central1 \\\n",
    "    --jobs \"${JOB_ID}\" \\\n",
    "    --users \"${USER_NAME}\" \\\n",
    "    --status '*'"
   ]
  },
  {
   "cell_type": "markdown",
   "metadata": {},
   "source": [
    "## clean smartPCA output"
   ]
  },
  {
   "cell_type": "markdown",
   "metadata": {},
   "source": [
    "### download output"
   ]
  },
  {
   "cell_type": "code",
   "execution_count": null,
   "metadata": {},
   "outputs": [],
   "source": [
    "!gsutil cp ${WORKSPACE_BUCKET}/PCA/output/*.PCA.* ."
   ]
  },
  {
   "cell_type": "markdown",
   "metadata": {},
   "source": [
    "### clean eigenvec"
   ]
  },
  {
   "cell_type": "markdown",
   "metadata": {},
   "source": [
    "### TSH"
   ]
  },
  {
   "cell_type": "code",
   "execution_count": null,
   "metadata": {},
   "outputs": [],
   "source": [
    "%%bash\n",
    "PHENO='TSH'\n",
    "for ANCESTRY in EUR AFR\n",
    "do\n",
    "awk 'NR>1' ${ANCESTRY}.${PHENO}.PCA.eigenvec | sed 's/^.*0://g' | sed 's/ /,/g' | sed 's/,\\+/,/g' | sed 's/,???//g' > ${ANCESTRY}.${PHENO}.PCA_cleaned.eigenvec\n",
    "gsutil cp ${ANCESTRY}.${PHENO}.PCA_cleaned.eigenvec ${WORKSPACE_BUCKET}/PCA/output/\n",
    "done"
   ]
  },
  {
   "cell_type": "code",
   "execution_count": null,
   "metadata": {},
   "outputs": [],
   "source": [
    "%%bash\n",
    "PHENO='Free_T4'\n",
    "for ANCESTRY in EUR AFR\n",
    "do\n",
    "awk 'NR>1' ${ANCESTRY}.${PHENO}.PCA.eigenvec | sed 's/^.*0://g' | sed 's/ /,/g' | sed 's/,\\+/,/g' | sed 's/,???//g' > ${ANCESTRY}.${PHENO}.PCA_cleaned.eigenvec\n",
    "gsutil cp ${ANCESTRY}.${PHENO}.PCA_cleaned.eigenvec ${WORKSPACE_BUCKET}/PCA/output/\n",
    "done"
   ]
  },
  {
   "cell_type": "markdown",
   "metadata": {},
   "source": [
    "### clean eigenval"
   ]
  },
  {
   "cell_type": "code",
   "execution_count": null,
   "metadata": {},
   "outputs": [],
   "source": [
    "%%bash\n",
    "PHENO='TSH'\n",
    "for ANCESTRY in EUR AFR\n",
    "do\n",
    "sed 's/^[[:space:]]*//' ${ANCESTRY}.${PHENO}.PCA.eigenval > ${ANCESTRY}.${PHENO}.PCA_cleaned.eigenval\n",
    "gsutil cp ${ANCESTRY}.${PHENO}.PCA_cleaned.eigenval ${WORKSPACE_BUCKET}/PCA/output/\n",
    "done"
   ]
  },
  {
   "cell_type": "code",
   "execution_count": null,
   "metadata": {},
   "outputs": [],
   "source": [
    "%%bash\n",
    "PHENO='Free_T4'\n",
    "for ANCESTRY in EUR AFR\n",
    "do\n",
    "sed 's/^[[:space:]]*//' ${ANCESTRY}.${PHENO}.PCA.eigenval > ${ANCESTRY}.${PHENO}.PCA_cleaned.eigenval\n",
    "gsutil cp ${ANCESTRY}.${PHENO}.PCA_cleaned.eigenval ${WORKSPACE_BUCKET}/PCA/output/\n",
    "done"
   ]
  },
  {
   "cell_type": "markdown",
   "metadata": {},
   "source": [
    "# GWAS QC"
   ]
  },
  {
   "cell_type": "markdown",
   "metadata": {},
   "source": [
    "### check size of files"
   ]
  },
  {
   "cell_type": "code",
   "execution_count": null,
   "metadata": {},
   "outputs": [],
   "source": [
    "!gsutil -u $GOOGLE_PROJECT ls -lh gs://fc-aou-datasets-controlled/v8/wgs/short_read/snpindel/acaf_threshold/pgen/acaf_threshold.chr1.*"
   ]
  },
  {
   "cell_type": "markdown",
   "metadata": {},
   "source": [
    "### submit job"
   ]
  },
  {
   "cell_type": "code",
   "execution_count": null,
   "metadata": {},
   "outputs": [],
   "source": [
    "import pandas as pd\n",
    "import os\n",
    "bucket = os.getenv('WORKSPACE_BUCKET')\n",
    "\n",
    "USER_NAME = os.getenv('OWNER_EMAIL').split('@')[0].replace('.','-')\n",
    "%env USER_NAME={USER_NAME}\n",
    "JOB_NAME=f'gwas_qc-{USER_NAME}'\n",
    "%env JOB_NAME={JOB_NAME}\n",
    "\n",
    "params_df = pd.DataFrame(data = {\n",
    "    '--input PSAM': [f\"gs://fc-aou-datasets-controlled/v8/wgs/short_read/snpindel/acaf_threshold/pgen/acaf_threshold.chr{x}.psam\" for x in list(range(1, 23)) * 4],\n",
    "    '--input PVAR': [f\"gs://fc-aou-datasets-controlled/v8/wgs/short_read/snpindel/acaf_threshold/pgen/acaf_threshold.chr{x}.pvar\" for x in list(range(1, 23)) * 4],\n",
    "    '--input PGEN': [f\"gs://fc-aou-datasets-controlled/v8/wgs/short_read/snpindel/acaf_threshold/pgen/acaf_threshold.chr{x}.pgen\" for x in list(range(1, 23)) * 4],\n",
    "    '--input LONGRANGE_LD': [f\"{bucket}/GWAS_QC/input/longrange_LD_hg38.bed\" for _ in range(88)],\n",
    "    '--env ANCESTRY': ['EUR'] * 22 + ['AFR'] * 22 + ['EUR'] * 22 + ['AFR'] * 22,\n",
    "    '--env PHENO': ['TSH'] * 44 + ['Free_T4'] * 44,\n",
    "    '--env SAMPLE_SIZE' : [12385] * 44 + [4037] * 44,\n",
    "    '--env CHR': list(range(1, 23)) * 4,\n",
    "    '--output-recursive OUTPUT_DIR': [f\"{bucket}/GWAS_QC/output/\" for _ in range(88)]\n",
    "})\n",
    "\n",
    "PARAMETER_FILENAME = f'{JOB_NAME}_params.tsv'\n",
    "%env PARAMETER_FILENAME={PARAMETER_FILENAME}\n",
    "\n",
    "params_df.to_csv(PARAMETER_FILENAME, sep = '\\t', index = False)\n",
    "\n",
    "job_id = !source ~/aou_dsub.bash; aou_dsub \\\n",
    "  --name \"${JOB_NAME}\" \\\n",
    "  --provider google-batch \\\n",
    "  --image \"gcr.io/ritchie-aou-psom-9015/plink2:latest\" \\\n",
    "  --logging \"${WORKSPACE_BUCKET}/dsub_logs/plink_qc/\" \\\n",
    "  --disk-size 160 \\\n",
    "  --mount BUCKET=\"${WORKSPACE_BUCKET}\" \\\n",
    "  --tasks \"${PARAMETER_FILENAME}\" \\\n",
    "  --command 'plink2 --psam ${PSAM} \\\n",
    "              --pvar ${PVAR} \\\n",
    "              --pgen ${PGEN} \\\n",
    "              --max-alleles 2 \\\n",
    "              --set-all-var-ids chr@:#:\\$r:\\$a \\\n",
    "              --keep $BUCKET/sample_lists/AoU_v8.${PHENO}.GWAS.${ANCESTRY}.n=${SAMPLE_SIZE}.sample_list.txt \\\n",
    "              --exclude range ${LONGRANGE_LD} \\\n",
    "              --maf 0.01 \\\n",
    "              --geno 0.01 \\\n",
    "              --hwe 1E-6 \\\n",
    "              --snps-only \\\n",
    "              --make-bed \\\n",
    "              --out ${OUTPUT_DIR}/${ANCESTRY}.${PHENO}.gwas_qc.chr${CHR}'\n",
    "\n",
    "print(\"\\n\".join(job_id))\n",
    "job_id = job_id[1].split(\" \")[-1]\n",
    "%env JOB_ID={job_id}"
   ]
  },
  {
   "cell_type": "markdown",
   "metadata": {},
   "source": [
    "### check status"
   ]
  },
  {
   "cell_type": "code",
   "execution_count": null,
   "metadata": {},
   "outputs": [],
   "source": [
    "!dstat \\\n",
    "    --provider google-batch \\\n",
    "    --project \"${GOOGLE_PROJECT}\" \\\n",
    "    --location us-central1 \\\n",
    "    --jobs \"${JOB_ID}\" \\\n",
    "    --users \"${USER_NAME}\" \\\n",
    "    --status '*'"
   ]
  },
  {
   "cell_type": "markdown",
   "metadata": {},
   "source": [
    "# Run PLINK GWAS"
   ]
  },
  {
   "cell_type": "markdown",
   "metadata": {},
   "source": [
    "### submit job"
   ]
  },
  {
   "cell_type": "code",
   "execution_count": null,
   "metadata": {},
   "outputs": [],
   "source": [
    "import pandas as pd\n",
    "import os\n",
    "bucket = os.getenv('WORKSPACE_BUCKET')\n",
    "\n",
    "USER_NAME = os.getenv('OWNER_EMAIL').split('@')[0].replace('.', '-')\n",
    "%env USER_NAME={USER_NAME}\n",
    "JOB_NAME=f'plink_gwas-{USER_NAME}'\n",
    "%env JOB_NAME={JOB_NAME}\n",
    "\n",
    "params_df = pd.DataFrame(data={\n",
    "    '--env ANCESTRY': ['EUR'] * 22 + ['AFR'] * 22 + ['EUR'] * 22 + ['AFR'] * 22,\n",
    "    '--env PHENO': ['TSH'] * 44 + ['Free_T4'] * 44,\n",
    "    '--env SAMPLE_SIZE' : [12385] * 44 + [4037] * 44,\n",
    "    '--env CHR': list(range(1,23)) * 4,\n",
    "    '--env PC': ['PC1 PC2 PC3 PC4'] * 22 + ['PC1'] * 22 + ['PC1 PC2 PC3 PC4'] * 22 + ['PC1'] * 22,\n",
    "    '--env PHENO_NAME': ['INV_NORMAL_TSH'] * 44 + ['FREE_T4'] * 44,\n",
    "    '--output-recursive OUTPUT_DIR': [f\"{bucket}/PLINK_GWAS/chromosome_separated/\" for _ in range(88)]\n",
    "})\n",
    "\n",
    "PARAMETER_FILENAME = f'{JOB_NAME}_params.tsv'\n",
    "%env PARAMETER_FILENAME={PARAMETER_FILENAME}\n",
    "\n",
    "params_df.to_csv(PARAMETER_FILENAME, sep = '\\t', index = False)\n",
    "\n",
    "job_id = !source ~/aou_dsub.bash; aou_dsub \\\n",
    "  --name \"${JOB_NAME}\" \\\n",
    "  --provider google-batch \\\n",
    "  --image \"gcr.io/ritchie-aou-psom-9015/plink2:latest\" \\\n",
    "  --logging \"${WORKSPACE_BUCKET}/dsub_logs/plink_gwas/\" \\\n",
    "  --mount BUCKET=\"${WORKSPACE_BUCKET}\" \\\n",
    "  --disk-size 5 \\\n",
    "  --tasks \"${PARAMETER_FILENAME}\" \\\n",
    "  --command 'plink2 --glm hide-covar cols=+a1freq \\\n",
    "                --bfile $BUCKET/GWAS_QC/output/${ANCESTRY}.${PHENO}.gwas_qc.chr${CHR} \\\n",
    "                --pheno $BUCKET/phenotype_files/AoU_v8.${PHENO}.GWAS.${ANCESTRY}.n=${SAMPLE_SIZE}.phenotype_covariates.txt \\\n",
    "                --pheno-name ${PHENO_NAME} \\\n",
    "                --covar $BUCKET/phenotype_files/AoU_v8.${PHENO}.GWAS.${ANCESTRY}.n=${SAMPLE_SIZE}.phenotype_covariates.txt \\\n",
    "                --covar-name AGE_AGE SEX ${PC} \\\n",
    "                --covar-variance-standardize AGE_AGE SEX ${PC} \\\n",
    "                --adjust \\\n",
    "                --out ${OUTPUT_DIR}/AoU_v8.${PHENO}.${ANCESTRY}.n=${SAMPLE_SIZE}.GWAS_results.chr${CHR}'\n",
    "\n",
    "print(\"\\n\".join(job_id))\n",
    "job_id = job_id[1].split(\" \")[-1]\n",
    "%env JOB_ID={job_id}"
   ]
  },
  {
   "cell_type": "markdown",
   "metadata": {},
   "source": [
    "### check job status"
   ]
  },
  {
   "cell_type": "code",
   "execution_count": null,
   "metadata": {},
   "outputs": [],
   "source": [
    "!dstat \\\n",
    "    --provider google-batch \\\n",
    "    --project \"${GOOGLE_PROJECT}\" \\\n",
    "    --location us-central1 \\\n",
    "    --jobs \"${JOB_ID}\" \\\n",
    "    --users \"${USER_NAME}\" \\\n",
    "    --status '*'"
   ]
  },
  {
   "cell_type": "markdown",
   "metadata": {},
   "source": [
    "# clean GWAS output"
   ]
  },
  {
   "cell_type": "markdown",
   "metadata": {},
   "source": [
    "## copy, clean, and recopy"
   ]
  },
  {
   "cell_type": "markdown",
   "metadata": {},
   "source": [
    "### copy"
   ]
  },
  {
   "cell_type": "code",
   "execution_count": null,
   "metadata": {
    "code_folding": []
   },
   "outputs": [],
   "source": [
    "!gsutil cp -R ${WORKSPACE_BUCKET}/PLINK_GWAS/chromosome_separated/ ."
   ]
  },
  {
   "cell_type": "markdown",
   "metadata": {},
   "source": [
    "### split outputs into 2 for export and compress"
   ]
  },
  {
   "cell_type": "markdown",
   "metadata": {},
   "source": [
    "#### TSH"
   ]
  },
  {
   "cell_type": "code",
   "execution_count": null,
   "metadata": {},
   "outputs": [],
   "source": [
    "%%bash\n",
    "PHENO='TSH'\n",
    "PHENO_NAME='INV_NORMAL_TSH'\n",
    "SAMPLE_SIZE='12385'\n",
    "\n",
    "for ANCESTRY in EUR AFR\n",
    "do\n",
    "\n",
    "echo $ANCESTRY\n",
    "\n",
    "for chr in $(seq 1 22)\n",
    "do\n",
    "awk 'NR>1' \"chromosome_separated/AoU_v8.${PHENO}.${ANCESTRY}.n=${SAMPLE_SIZE}.GWAS_results.chr\"${chr}\".${PHENO_NAME}.glm.linear\" > \"chromosome_separated/AoU_v8.${PHENO}.${ANCESTRY}.n=${SAMPLE_SIZE}.GWAS_results.chr\"${chr}\".${PHENO_NAME}.glm.linear.no_header\"\n",
    "done\n",
    "\n",
    "\n",
    "cat chromosome_separated/AoU_v8.${PHENO}.${ANCESTRY}.n=${SAMPLE_SIZE}.GWAS_results.chr*.${PHENO_NAME}.glm.linear.no_header | awk 'BEGIN {print \"#CHROM POS ID REF ALT PROVISIONAL_REF? A1 OMITTED A1_FREQ TEST OBS_CT BETA SE T_STAT P ERRCODE\"} {print $0}' | sed 's/ /\\t/g' > AoU_v8.${PHENO}.${ANCESTRY}.n=${SAMPLE_SIZE}.GWAS_results.all_chr.${PHENO_NAME}.glm.linear\n",
    "cut -f6,9,14,16 --complement AoU_v8.${PHENO}.${ANCESTRY}.n=${SAMPLE_SIZE}.GWAS_results.all_chr.${PHENO_NAME}.glm.linear > AoU_v8.${PHENO}.${ANCESTRY}.n=${SAMPLE_SIZE}.GWAS_results.all_chr.${PHENO_NAME}.glm.linear.for_export\n",
    "linecount=$(wc -l AoU_v8.${PHENO}.${ANCESTRY}.n=${SAMPLE_SIZE}.GWAS_results.all_chr.${PHENO_NAME}.glm.linear.for_export | cut -d ' ' -f1)\n",
    "echo $linecount\n",
    "half=$(($linecount / 2))\n",
    "half_plus_one=$(($half +1))\n",
    "echo $half\n",
    "head -n $half AoU_v8.${PHENO}.${ANCESTRY}.n=${SAMPLE_SIZE}.GWAS_results.all_chr.${PHENO_NAME}.glm.linear.for_export> AoU_v8.${PHENO}.${ANCESTRY}.n=${SAMPLE_SIZE}.GWAS_results.all_chr.${PHENO_NAME}.glm.linear.for_export.pt1\n",
    "tail -n $half AoU_v8.${PHENO}.${ANCESTRY}.n=${SAMPLE_SIZE}.GWAS_results.all_chr.${PHENO_NAME}.glm.linear.for_export > AoU_v8.${PHENO}.${ANCESTRY}.n=${SAMPLE_SIZE}.GWAS_results.all_chr.${PHENO_NAME}.glm.linear.for_export.pt2\n",
    "gzip -f AoU_v8.${PHENO}.${ANCESTRY}.n=${SAMPLE_SIZE}.GWAS_results.all_chr.${PHENO_NAME}.glm.linear.for_export.pt1\n",
    "gzip -f AoU_v8.${PHENO}.${ANCESTRY}.n=${SAMPLE_SIZE}.GWAS_results.all_chr.${PHENO_NAME}.glm.linear.for_export.pt2\n",
    "gzip -f AoU_v8.${PHENO}.${ANCESTRY}.n=${SAMPLE_SIZE}.GWAS_results.all_chr.${PHENO_NAME}.glm.linear.for_export\n",
    "\n",
    "ls -lh AoU_v8.${PHENO}.${ANCESTRY}.n=${SAMPLE_SIZE}.GWAS_results.all_chr.${PHENO_NAME}.glm.linear.for_export.pt1.gz\n",
    "ls -lh AoU_v8.${PHENO}.${ANCESTRY}.n=${SAMPLE_SIZE}.GWAS_results.all_chr.${PHENO_NAME}.glm.linear.for_export.pt2.gz\n",
    "\n",
    "zcat AoU_v8.${PHENO}.${ANCESTRY}.n=${SAMPLE_SIZE}.GWAS_results.all_chr.${PHENO_NAME}.glm.linear.for_export | head -n $half_plus_one | tail -n2\n",
    "zcat AoU_v8.${PHENO}.${ANCESTRY}.n=${SAMPLE_SIZE}.GWAS_results.all_chr.${PHENO_NAME}.glm.linear.for_export.pt1.gz | tail -n1\n",
    "zcat AoU_v8.${PHENO}.${ANCESTRY}.n=${SAMPLE_SIZE}.GWAS_results.all_chr.${PHENO_NAME}.glm.linear.for_export.pt2.gz | head -n1\n",
    "\n",
    "echo ' '\n",
    "done"
   ]
  },
  {
   "cell_type": "markdown",
   "metadata": {},
   "source": [
    "#### Free T4"
   ]
  },
  {
   "cell_type": "code",
   "execution_count": null,
   "metadata": {},
   "outputs": [],
   "source": [
    "%%bash\n",
    "PHENO='Free_T4'\n",
    "PHENO_NAME='FREE_T4'\n",
    "SAMPLE_SIZE='4037'\n",
    "\n",
    "for ANCESTRY in EUR AFR\n",
    "do\n",
    "\n",
    "echo $ANCESTRY\n",
    "\n",
    "for chr in $(seq 1 22)\n",
    "do\n",
    "awk 'NR>1' \"chromosome_separated/AoU_v8.${PHENO}.${ANCESTRY}.n=${SAMPLE_SIZE}.GWAS_results.chr\"${chr}\".${PHENO_NAME}.glm.linear\" > \"chromosome_separated/AoU_v8.${PHENO}.${ANCESTRY}.n=${SAMPLE_SIZE}.GWAS_results.chr\"${chr}\".${PHENO_NAME}.glm.linear.no_header\"\n",
    "done\n",
    "\n",
    "\n",
    "cat chromosome_separated/AoU_v8.${PHENO}.${ANCESTRY}.n=${SAMPLE_SIZE}.GWAS_results.chr*.${PHENO_NAME}.glm.linear.no_header | awk 'BEGIN {print \"#CHROM POS ID REF ALT PROVISIONAL_REF? A1 OMITTED A1_FREQ TEST OBS_CT BETA SE T_STAT P ERRCODE\"} {print $0}' | sed 's/ /\\t/g' > AoU_v8.${PHENO}.${ANCESTRY}.n=${SAMPLE_SIZE}.GWAS_results.all_chr.${PHENO_NAME}.glm.linear\n",
    "cut -f6,9,14,16 --complement AoU_v8.${PHENO}.${ANCESTRY}.n=${SAMPLE_SIZE}.GWAS_results.all_chr.${PHENO_NAME}.glm.linear > AoU_v8.${PHENO}.${ANCESTRY}.n=${SAMPLE_SIZE}.GWAS_results.all_chr.${PHENO_NAME}.glm.linear.for_export\n",
    "linecount=$(wc -l AoU_v8.${PHENO}.${ANCESTRY}.n=${SAMPLE_SIZE}.GWAS_results.all_chr.${PHENO_NAME}.glm.linear.for_export | cut -d ' ' -f1)\n",
    "echo $linecount\n",
    "half=$(($linecount / 2))\n",
    "half_plus_one=$(($half +1))\n",
    "echo $half\n",
    "head -n $half AoU_v8.${PHENO}.${ANCESTRY}.n=${SAMPLE_SIZE}.GWAS_results.all_chr.${PHENO_NAME}.glm.linear.for_export> AoU_v8.${PHENO}.${ANCESTRY}.n=${SAMPLE_SIZE}.GWAS_results.all_chr.${PHENO_NAME}.glm.linear.for_export.pt1\n",
    "if (( $linecount % 2 == 1 )); then\n",
    "echo \"odd\"\n",
    "tail -n $half_plus_one AoU_v8.${PHENO}.${ANCESTRY}.n=${SAMPLE_SIZE}.GWAS_results.all_chr.${PHENO_NAME}.glm.linear.for_export > AoU_v8.${PHENO}.${ANCESTRY}.n=${SAMPLE_SIZE}.GWAS_results.all_chr.${PHENO_NAME}.glm.linear.for_export.pt2\n",
    "else\n",
    "echo \"even\"\n",
    "tail -n $half AoU_v8.${PHENO}.${ANCESTRY}.n=${SAMPLE_SIZE}.GWAS_results.all_chr.${PHENO_NAME}.glm.linear.for_export > AoU_v8.${PHENO}.${ANCESTRY}.n=${SAMPLE_SIZE}.GWAS_results.all_chr.${PHENO_NAME}.glm.linear.for_export.pt2\n",
    "fi\n",
    "gzip -f AoU_v8.${PHENO}.${ANCESTRY}.n=${SAMPLE_SIZE}.GWAS_results.all_chr.${PHENO_NAME}.glm.linear.for_export.pt1\n",
    "gzip -f AoU_v8.${PHENO}.${ANCESTRY}.n=${SAMPLE_SIZE}.GWAS_results.all_chr.${PHENO_NAME}.glm.linear.for_export.pt2\n",
    "gzip -f AoU_v8.${PHENO}.${ANCESTRY}.n=${SAMPLE_SIZE}.GWAS_results.all_chr.${PHENO_NAME}.glm.linear.for_export\n",
    "\n",
    "ls -lh AoU_v8.${PHENO}.${ANCESTRY}.n=${SAMPLE_SIZE}.GWAS_results.all_chr.${PHENO_NAME}.glm.linear.for_export.pt1.gz\n",
    "ls -lh AoU_v8.${PHENO}.${ANCESTRY}.n=${SAMPLE_SIZE}.GWAS_results.all_chr.${PHENO_NAME}.glm.linear.for_export.pt2.gz\n",
    "\n",
    "zcat AoU_v8.${PHENO}.${ANCESTRY}.n=${SAMPLE_SIZE}.GWAS_results.all_chr.${PHENO_NAME}.glm.linear.for_export.gz | head -n $half_plus_one | tail -n2\n",
    "zcat AoU_v8.${PHENO}.${ANCESTRY}.n=${SAMPLE_SIZE}.GWAS_results.all_chr.${PHENO_NAME}.glm.linear.for_export.pt1.gz | tail -n1\n",
    "zcat AoU_v8.${PHENO}.${ANCESTRY}.n=${SAMPLE_SIZE}.GWAS_results.all_chr.${PHENO_NAME}.glm.linear.for_export.pt2.gz | head -n1\n",
    "\n",
    "echo ' '\n",
    "done"
   ]
  },
  {
   "cell_type": "markdown",
   "metadata": {},
   "source": [
    "### copy to bucket"
   ]
  },
  {
   "cell_type": "code",
   "execution_count": null,
   "metadata": {},
   "outputs": [],
   "source": [
    "!gsutil -m cp AoU_v8.*GWAS_results.all_chr*.glm.linear ${WORKSPACE_BUCKET}/PLINK_GWAS/chromosome_combined/"
   ]
  },
  {
   "cell_type": "code",
   "execution_count": null,
   "metadata": {},
   "outputs": [],
   "source": [
    "!gsutil -m cp AoU_v8.*.GWAS_results.all_chr.*.glm.linear.for_export* ${WORKSPACE_BUCKET}/PLINK_GWAS/chromosome_combined/"
   ]
  },
  {
   "cell_type": "code",
   "execution_count": null,
   "metadata": {},
   "outputs": [],
   "source": []
  }
 ],
 "metadata": {
  "kernelspec": {
   "display_name": "Python 3",
   "language": "python",
   "name": "python3"
  },
  "language_info": {
   "codemirror_mode": {
    "name": "ipython",
    "version": 3
   },
   "file_extension": ".py",
   "mimetype": "text/x-python",
   "name": "python",
   "nbconvert_exporter": "python",
   "pygments_lexer": "ipython3",
   "version": "3.10.16"
  },
  "toc": {
   "base_numbering": 1,
   "nav_menu": {},
   "number_sections": true,
   "sideBar": true,
   "skip_h1_title": false,
   "title_cell": "Table of Contents",
   "title_sidebar": "Contents",
   "toc_cell": false,
   "toc_position": {},
   "toc_section_display": true,
   "toc_window_display": false
  }
 },
 "nbformat": 4,
 "nbformat_minor": 2
}
