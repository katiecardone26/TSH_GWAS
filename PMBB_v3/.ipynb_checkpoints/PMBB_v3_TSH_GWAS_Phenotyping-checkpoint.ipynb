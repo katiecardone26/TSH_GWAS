{
 "cells": [
  {
   "cell_type": "markdown",
   "id": "8129f30a-737f-4930-9bcd-ab1820ace7ae",
   "metadata": {},
   "source": [
    "# load packages"
   ]
  },
  {
   "cell_type": "code",
   "execution_count": null,
   "id": "84819f04-db33-4571-a1e3-f6967a7de87f",
   "metadata": {},
   "outputs": [],
   "source": [
    "library(tidyverse)"
   ]
  },
  {
   "cell_type": "code",
   "execution_count": null,
   "id": "7e690876-ae79-485d-921c-977e38bcccfc",
   "metadata": {},
   "outputs": [],
   "source": [
    "library(data.table)"
   ]
  },
  {
   "cell_type": "markdown",
   "id": "8ca007e6-07a8-4786-93da-05fbc5dc83c0",
   "metadata": {},
   "source": [
    "# read in input files"
   ]
  },
  {
   "cell_type": "code",
   "execution_count": null,
   "id": "8ff79369-4dc3-4f19-9636-11422aa11c7b",
   "metadata": {},
   "outputs": [],
   "source": [
    "icd = fread('Phenotypes/3.0/PMBB-Release-2024-3.0_phenotype_condition_occurrence.txt',\n",
    "            sep = '\\t',\n",
    "            select = c('person_id', 'condition_start_date', 'condition_source_value', 'visit_occurrence_id'))\n",
    "head(icd)"
   ]
  },
  {
   "cell_type": "code",
   "execution_count": null,
   "id": "651171de-d9aa-41fc-9534-ca345e33daee",
   "metadata": {},
   "outputs": [],
   "source": [
    "med = fread('Phenotypes/3.0/PMBB-Release-2024-3.0_phenotype_drug_exposure.txt',\n",
    "            sep = '\\t',\n",
    "            select = c('person_id', 'drug_exposure_start_date', 'drug_source_value', 'visit_occurrence_id'))\n",
    "head(med)"
   ]
  },
  {
   "cell_type": "code",
   "execution_count": null,
   "id": "99aef56d-b69a-45b1-bf89-8c301467244c",
   "metadata": {},
   "outputs": [],
   "source": [
    "tsh = fread('Phenotypes/3.0/PMBB-Release-2024-3.0_phenotype_labs_tsh.txt',\n",
    "            sep = '\\t',\n",
    "            select = c('person_id', 'value_converted', 'measurement_date', 'visit_occurrence_id'))\n",
    "head(tsh)"
   ]
  },
  {
   "cell_type": "code",
   "execution_count": null,
   "id": "da684f8b-434f-424f-a9c5-a81c6bbe07a8",
   "metadata": {},
   "outputs": [],
   "source": [
    "demo = fread('Phenotypes/3.0/PMBB-Release-2024-3.0_covariates.txt',\n",
    "             sep = '\\t',\n",
    "             select = c('person_id', 'Sequenced_gender'))\n",
    "head(demo)"
   ]
  },
  {
   "cell_type": "code",
   "execution_count": null,
   "id": "2b5ad74b-5e93-46cc-b5d3-cfa8805487bc",
   "metadata": {},
   "outputs": [],
   "source": [
    "dob = fread('Phenotypes/3.0/PMBB-Release-2024-3.0_phenotype_person.txt',\n",
    "            sep = '\\t',\n",
    "            select = c('person_id', 'birth_datetime'))\n",
    "head(dob)"
   ]
  },
  {
   "cell_type": "code",
   "execution_count": null,
   "id": "248cb848-debe-4731-a825-ca4bf350808b",
   "metadata": {},
   "outputs": [],
   "source": [
    "visit = fread('Phenotypes/3.0/PMBB-Release-2024-3.0_phenotype_visit_occurrence.txt',\n",
    "            sep = '\\t',\n",
    "            select = c('person_id', 'visit_occurrence_id', 'visit_source_value'))\n",
    "head(dob)"
   ]
  },
  {
   "cell_type": "code",
   "execution_count": null,
   "id": "1762293b-7c6f-4614-98d7-2048903553ec",
   "metadata": {},
   "outputs": [],
   "source": [
    "concept_name = fread('Phenotypes/3.0/concept.txt',\n",
    "                     sep = '\\t',\n",
    "                     select = c('concept_id', 'concept_name', 'domain_id'))\n",
    "head(concept_name)"
   ]
  },
  {
   "cell_type": "code",
   "execution_count": null,
   "id": "7e6ab616-9e07-44ad-9359-3d2f0042aa6b",
   "metadata": {},
   "outputs": [],
   "source": [
    "gia = fread('Exome/PCA/PMBB-Release-2024-3.0_genetic_exome.norm.commonsnps_samples_ancestries.txt',\n",
    "            sep = '\\t',\n",
    "            select = c('FID', 'Class'))\n",
    "head(gia)\n",
    "unique(gia$Class)"
   ]
  },
  {
   "cell_type": "code",
   "execution_count": null,
   "id": "85f79421-5825-43ab-bb0d-429549b3d7f7",
   "metadata": {},
   "outputs": [],
   "source": [
    "no_related = fread('Exome/IBD/PMBB-Release-2024-3.0_genetic_exome.3rd_degree_unrelated.txt',\n",
    "                   sep = '\\t',\n",
    "                   header = F)\n",
    "head(no_related)"
   ]
  },
  {
   "cell_type": "markdown",
   "id": "1974a20c-705c-4bda-b7a1-89a6d92d1576",
   "metadata": {},
   "source": [
    "# clean demo data"
   ]
  },
  {
   "cell_type": "markdown",
   "id": "e76c4567-84f6-4b92-8f7d-872cd74c3e29",
   "metadata": {},
   "source": [
    "## clean up files"
   ]
  },
  {
   "cell_type": "code",
   "execution_count": null,
   "id": "4fd8cbf1-8256-42ec-a412-3270d136ea63",
   "metadata": {},
   "outputs": [],
   "source": [
    "unique(demo$Sequenced_gender)"
   ]
  },
  {
   "cell_type": "code",
   "execution_count": null,
   "id": "92666964-41d1-47a2-8363-ffb969acb4cd",
   "metadata": {},
   "outputs": [],
   "source": [
    "demo_clean = demo%>%\n",
    "rename('SEX' = 'Sequenced_gender') %>%\n",
    "mutate(SEX = case_match(SEX,\n",
    "                        'Male' ~ 1,\n",
    "                        'Female' ~ 2))\n",
    "head(demo_clean)\n",
    "nrow(demo_clean)"
   ]
  },
  {
   "cell_type": "markdown",
   "id": "6025ea85-0a1a-4837-a463-7e779a3f651e",
   "metadata": {},
   "source": [
    "### merge files"
   ]
  },
  {
   "cell_type": "code",
   "execution_count": null,
   "id": "58cdc59e-0651-40e1-a93c-f08478daeeb4",
   "metadata": {},
   "outputs": [],
   "source": [
    "demo_dob = demo_clean %>%\n",
    "inner_join(dob, by = 'person_id')\n",
    "head(demo_dob)"
   ]
  },
  {
   "cell_type": "markdown",
   "id": "4b0dce5d-2a9e-4072-bf0e-e74011bbc2c0",
   "metadata": {},
   "source": [
    "# clean TSH data"
   ]
  },
  {
   "cell_type": "markdown",
   "id": "d229955f-b13f-40d9-bf2e-0451bc7ec87b",
   "metadata": {},
   "source": [
    "## clean data"
   ]
  },
  {
   "cell_type": "code",
   "execution_count": null,
   "id": "4cadb0a7-2dec-4a92-9343-bcf3738040d3",
   "metadata": {},
   "outputs": [],
   "source": [
    "tsh_clean = tsh%>%\n",
    "rename('TSH' = 'value_converted') %>%\n",
    "mutate(measurement_date = as.Date(measurement_date)) %>%\n",
    "na.omit()\n",
    "head(tsh_clean)\n",
    "length(unique(tsh_clean$person_id))"
   ]
  },
  {
   "cell_type": "markdown",
   "id": "3dc9846a-fd94-487e-9c42-39fd49677a37",
   "metadata": {},
   "source": [
    "# clean ICD data for pregnancy data"
   ]
  },
  {
   "cell_type": "code",
   "execution_count": null,
   "id": "e32d2cf7-16f8-4830-8010-f9006effde46",
   "metadata": {},
   "outputs": [],
   "source": [
    "preg = icd %>%\n",
    "mutate(condition_start_date = as.Date(condition_start_date)) %>%\n",
    "na.omit() %>%\n",
    "filter(grepl('^63|^64|^65|^66|^67|^O0', condition_source_value))\n",
    "head(preg)\n",
    "length(unique(preg$person_id))\n",
    "unique(preg$condition_source_value)"
   ]
  },
  {
   "cell_type": "code",
   "execution_count": null,
   "id": "d3968ffd-f7c1-43e3-a29e-37386dcb1ed6",
   "metadata": {},
   "outputs": [],
   "source": [
    "preg_clean = preg %>%\n",
    "select(-condition_source_value) %>%\n",
    "group_by(person_id) %>%\n",
    "summarise_all(.funs = first)\n",
    "head(preg_clean)\n",
    "nrow(preg_clean)"
   ]
  },
  {
   "cell_type": "markdown",
   "id": "e34065bb-b144-43bd-aec4-7fc24a2d248b",
   "metadata": {},
   "source": [
    "# clean omop table for thyroid meds"
   ]
  },
  {
   "cell_type": "code",
   "execution_count": null,
   "id": "ef42a41f-f965-4c0b-a857-a0637f47faab",
   "metadata": {},
   "outputs": [],
   "source": [
    "unique(concept_name$domain_id)"
   ]
  },
  {
   "cell_type": "code",
   "execution_count": null,
   "id": "29b53e30-b5ba-4c37-88b7-e545ed4295b7",
   "metadata": {},
   "outputs": [],
   "source": [
    "concept_drug = concept_name %>%\n",
    "filter(grepl('^Drug$', domain_id))\n",
    "head(concept_drug)\n",
    "unique(concept_drug$domain_id)"
   ]
  },
  {
   "cell_type": "code",
   "execution_count": null,
   "id": "05f1efad-1ac8-4674-a7ab-b7d6625ea1f7",
   "metadata": {},
   "outputs": [],
   "source": [
    "thyroid_med_map = concept_drug %>%\n",
    "filter(grepl('Levothyroxine|Euthyrox|Synthroid|Levothroid|Unithroid|Tirosint|Levo-T|Levoxyl|Thyrolar|Thyroid USP|Armour|Nature-Throid|Westhroid|Liothyronine|Cytomel|Methimazole|Tapazole|Propylthiouracil|PTU|Amiodarone|Cordarone|Pacerone|Nexterone|Pembrolizumab|Nivolumab|Avelumab|Cemiplimab|Atezolizumab|Durvalumab|Ipilimumab|Keytruda|Opdivo|Bavencio|Libtayo|Tecentriq|Imfinzi|Yervoy|sunitinib|lenvatinib|sorafenib|pazopanib|axitinib|tivozanib|vandetanib|regorafenib|Sutent|Lenvima|NexAVAR|Votrient|Inlyta|Fotivda|Caprlesa|Stivarga|lenalidomide|pomalidomide|brigatinib|Cabozantinib|Imatinib|Revlimid|Pomalyst|Alunbrig|Abometyx|Cometriq|Gleevac|MK-3475|Interferon|Ibrutinib|Ruxolitinib|cedarinib|Gilteritinib|durvalumab|tremelimumab',\n",
    "             concept_name,\n",
    "             ignore.case = TRUE)) %>%\n",
    "filter(!grepl('eucalyptus',concept_name,ignore.case = TRUE))\n",
    "unique(thyroid_med_map$concept_name)"
   ]
  },
  {
   "cell_type": "markdown",
   "id": "d6fb9036-b33b-4469-b1aa-69dc87ff85e6",
   "metadata": {},
   "source": [
    "# clean medication data"
   ]
  },
  {
   "cell_type": "markdown",
   "id": "4d917ea5-6798-4d14-8414-91850b224e4b",
   "metadata": {},
   "source": [
    "## filter to meds in map"
   ]
  },
  {
   "cell_type": "code",
   "execution_count": null,
   "id": "79f5d088-9050-4430-ba5e-623729db389a",
   "metadata": {},
   "outputs": [],
   "source": [
    "med_thyroid = med[med$drug_source_value %in% thyroid_med_map$concept_id,]\n",
    "head(med_thyroid)\n",
    "unique(med_thyroid$drug_source_value)"
   ]
  },
  {
   "cell_type": "markdown",
   "id": "d893ede5-a6d8-4ee6-b678-2e797cd1a5fe",
   "metadata": {},
   "source": [
    "## check what meds mapped"
   ]
  },
  {
   "cell_type": "code",
   "execution_count": null,
   "id": "bf4b5142-4bc3-46d0-a6cc-c2d38857073e",
   "metadata": {},
   "outputs": [],
   "source": [
    "mapped_meds = thyroid_med_map[thyroid_med_map$concept_id %in% med_thyroid$drug_source_value,]\n",
    "mapped_meds %>%\n",
    "select(concept_id,concept_name)"
   ]
  },
  {
   "cell_type": "markdown",
   "id": "18a26567-dd22-485e-bdfa-e3c35b1ae79a",
   "metadata": {},
   "source": [
    "## get date of first med"
   ]
  },
  {
   "cell_type": "code",
   "execution_count": null,
   "id": "0582ec44-6b2d-41a0-83a8-390b4b3d0e96",
   "metadata": {},
   "outputs": [],
   "source": [
    "med_clean = med_thyroid%>%\n",
    "select(person_id, drug_exposure_start_date)%>%\n",
    "mutate(drug_exposure_start_date = as.Date(drug_exposure_start_date)) %>%\n",
    "group_by(person_id) %>%\n",
    "summarise_all(.funs = first)\n",
    "head(med_clean)\n",
    "nrow(med_clean)"
   ]
  },
  {
   "cell_type": "markdown",
   "id": "3a219c58-cb0b-4b07-9b9e-5e774adcb135",
   "metadata": {},
   "source": [
    "# create EUR and AFR sample lists"
   ]
  },
  {
   "cell_type": "code",
   "execution_count": null,
   "id": "3cea4beb-22ec-4041-97dd-989221b9c2a2",
   "metadata": {},
   "outputs": [],
   "source": [
    "eur = gia %>%\n",
    "filter(Class == 'EUR')\n",
    "head(eur)\n",
    "unique(eur$Class)\n",
    "nrow(eur)"
   ]
  },
  {
   "cell_type": "code",
   "execution_count": null,
   "id": "fdc5b246-99ca-43f2-b65a-6518f834b960",
   "metadata": {},
   "outputs": [],
   "source": [
    "afr = gia %>%\n",
    "filter(Class == 'AFR')\n",
    "head(eur)\n",
    "unique(afr$Class)\n",
    "nrow(afr)"
   ]
  },
  {
   "cell_type": "markdown",
   "id": "27bf9650-8a21-43b6-87b8-28a393f5feca",
   "metadata": {},
   "source": [
    "# Remove excluding measurements"
   ]
  },
  {
   "cell_type": "markdown",
   "id": "ae4e10be-d3e5-489a-ad3b-71558806e298",
   "metadata": {},
   "source": [
    "## pregnancy"
   ]
  },
  {
   "cell_type": "markdown",
   "id": "07772001-6716-4e93-ac5a-104688e99f48",
   "metadata": {},
   "source": [
    "### merge"
   ]
  },
  {
   "cell_type": "code",
   "execution_count": null,
   "id": "0fe0336a-2c0b-4033-9947-44f98e26b8c8",
   "metadata": {},
   "outputs": [],
   "source": [
    "tsh_preg = tsh_clean %>%\n",
    "full_join(preg, by = 'person_id', relationship = \"many-to-many\")\n",
    "head(tsh_preg)"
   ]
  },
  {
   "cell_type": "markdown",
   "id": "bd6dacd4-5c53-4512-8f69-f2c5d11f821a",
   "metadata": {},
   "source": [
    "### remove labs after pregnancy"
   ]
  },
  {
   "cell_type": "code",
   "execution_count": null,
   "id": "f53dc43f-d172-4900-99ab-0cade950b670",
   "metadata": {},
   "outputs": [],
   "source": [
    "tsh_no_preg_before = tsh_preg %>%\n",
    "mutate(difftime_preg_TSH = (difftime(condition_start_date, measurement_date, units = 'days'))) %>%\n",
    "filter(!grepl('-', difftime_preg_TSH))\n",
    "head(tsh_no_preg_before)\n",
    "tsh_no_preg_before %>%\n",
    "mutate(difftime_preg_TSH = gsub(' days', '', difftime_preg_TSH)) %>%\n",
    "mutate(difftime_preg_TSH = as.numeric(difftime_preg_TSH)) %>%\n",
    "select(difftime_preg_TSH) %>%\n",
    "summary()\n",
    "nrow(tsh_no_preg_before)\n",
    "nrow(tsh_preg)"
   ]
  },
  {
   "cell_type": "markdown",
   "id": "a119c030-a265-4264-9094-f1e0d419749c",
   "metadata": {},
   "source": [
    "## thyroid meds"
   ]
  },
  {
   "cell_type": "markdown",
   "id": "8130042a-3979-4ee1-a606-c113067acbdb",
   "metadata": {},
   "source": [
    "### merge"
   ]
  },
  {
   "cell_type": "code",
   "execution_count": null,
   "id": "495c603d-6dbe-4b8b-b056-91103f0f72c4",
   "metadata": {},
   "outputs": [],
   "source": [
    "tsh_med=tsh_no_preg_before %>%\n",
    "full_join(med_clean, by = 'person_id',relationship = \"many-to-many\")\n",
    "head(tsh_med)"
   ]
  },
  {
   "cell_type": "markdown",
   "id": "5004d962-4e8b-43c3-ae75-a68a2ad655b0",
   "metadata": {},
   "source": [
    "### remove labs after thryoid meds"
   ]
  },
  {
   "cell_type": "code",
   "execution_count": null,
   "id": "5b59c980-8dc7-49ba-a9b8-5c0443c2ec57",
   "metadata": {},
   "outputs": [],
   "source": [
    "tsh_no_med_before = tsh_med %>%\n",
    "mutate(difftime_med_TSH = (difftime(drug_exposure_start_date, measurement_date, units = 'days'))) %>%\n",
    "filter(!grepl('-', difftime_med_TSH))\n",
    "head(tsh_no_med_before)\n",
    "tsh_no_med_before %>%\n",
    "mutate(difftime_med_TSH = gsub(' days', '', difftime_med_TSH)) %>%\n",
    "mutate(difftime_med_TSH = as.numeric(difftime_med_TSH)) %>%\n",
    "select(difftime_med_TSH) %>%\n",
    "summary()\n",
    "nrow(tsh_no_med_before)\n",
    "nrow(tsh_med)"
   ]
  },
  {
   "cell_type": "markdown",
   "id": "9cfc8274-b03c-44c3-9fd1-181630ce59ef",
   "metadata": {},
   "source": [
    "# add covariates"
   ]
  },
  {
   "cell_type": "code",
   "execution_count": null,
   "id": "9b21d45d-abc8-4d0e-9df5-f9e5b9b1d8ad",
   "metadata": {},
   "outputs": [],
   "source": [
    "tsh_demo = tsh_no_med_before %>%\n",
    "left_join(demo_dob, by = 'person_id') %>%\n",
    "mutate(birth_datetime = as.Date(birth_datetime)) %>%\n",
    "mutate(AGE = (difftime(measurement_date, birth_datetime, units = 'days'))) %>%\n",
    "mutate(AGE = gsub('days','',AGE)) %>%\n",
    "mutate(AGE = as.numeric(AGE)) %>%\n",
    "mutate(AGE = AGE / 365) %>%\n",
    "filter(AGE >= 18) %>%\n",
    "select(person_id, TSH, SEX, AGE) %>%\n",
    "na.omit()\n",
    "head(tsh_demo)"
   ]
  },
  {
   "cell_type": "markdown",
   "id": "b4edf7c8-7964-440d-bad2-10169339f934",
   "metadata": {},
   "source": [
    "# remove related"
   ]
  },
  {
   "cell_type": "code",
   "execution_count": null,
   "id": "5cbbb83c-519e-4a94-b5a7-96ebf25c6868",
   "metadata": {},
   "outputs": [],
   "source": [
    "tsh_no_related = tsh_demo[tsh_demo$person_id %in% no_related$V1,]\n",
    "length(unique(tsh_no_related$person_id))\n",
    "length(unique(tsh_demo$person_id))\n",
    "head(tsh_no_related)"
   ]
  },
  {
   "cell_type": "markdown",
   "id": "630fe68b-e7b1-4afd-b080-c3bce88b0787",
   "metadata": {},
   "source": [
    "# filter to EUR & AFR"
   ]
  },
  {
   "cell_type": "code",
   "execution_count": null,
   "id": "169e975b-f04a-4150-96e0-85814101e72f",
   "metadata": {},
   "outputs": [],
   "source": [
    "tsh_eur = tsh_no_related[tsh_no_related$person_id %in% eur$FID,]\n",
    "head(tsh_eur)\n",
    "length(unique(tsh_eur$person_id))"
   ]
  },
  {
   "cell_type": "code",
   "execution_count": null,
   "id": "6e571b58-9e9a-4a68-ad55-c994bf55887a",
   "metadata": {},
   "outputs": [],
   "source": [
    "tsh_afr = tsh_no_related[tsh_no_related$person_id %in% afr$FID,]\n",
    "head(tsh_afr)\n",
    "length(unique(tsh_afr$person_id))"
   ]
  },
  {
   "cell_type": "markdown",
   "id": "416f7ce7-6bfd-4510-b022-42c938ea6b0e",
   "metadata": {},
   "source": [
    "# take mean TSH & Age, then filter labs out of normal range TSH"
   ]
  },
  {
   "cell_type": "code",
   "execution_count": null,
   "id": "83ff5aa6-4b18-4ed0-849c-ba440a7d6bf8",
   "metadata": {},
   "outputs": [],
   "source": [
    "tsh_norm_range_eur = tsh_eur %>%\n",
    "group_by(person_id) %>%\n",
    "summarise_all(.funs = mean) %>%\n",
    "filter(TSH >= 0.45 & TSH <= 4.5)\n",
    "head(tsh_norm_range_eur)\n",
    "nrow(tsh_norm_range_eur)\n",
    "summary(tsh_norm_range_eur$TSH)"
   ]
  },
  {
   "cell_type": "code",
   "execution_count": null,
   "id": "90f46245-6c01-4614-b4c5-27959ffdeeac",
   "metadata": {},
   "outputs": [],
   "source": [
    "tsh_norm_range_afr = tsh_afr %>%\n",
    "group_by(person_id) %>%\n",
    "summarise_all(.funs = mean) %>%\n",
    "filter(TSH >= 0.45 & TSH <= 4.5)\n",
    "head(tsh_norm_range_afr)\n",
    "nrow(tsh_norm_range_afr)\n",
    "summary(tsh_norm_range_afr$TSH)"
   ]
  },
  {
   "cell_type": "markdown",
   "id": "a13e6d66-6a13-4fbf-9b24-d981f3724399",
   "metadata": {},
   "source": [
    "# inverse normally transform TSH and square age"
   ]
  },
  {
   "cell_type": "code",
   "execution_count": null,
   "id": "27d60363-325a-458d-8bf3-d12b93f44fd9",
   "metadata": {},
   "outputs": [],
   "source": [
    "inv_norm_tsh_eur = tsh_norm_range_eur %>%\n",
    "mutate(INV_NORMAL_TSH = qnorm((rank(TSH, na.last = \"keep\") - 0.5) / sum(!is.na(TSH)))) %>%\n",
    "mutate(AGE_AGE = AGE^2) %>%\n",
    "select(-c(TSH, AGE))\n",
    "head(inv_norm_tsh_eur)"
   ]
  },
  {
   "cell_type": "code",
   "execution_count": null,
   "id": "1c5cd15c-b230-4e2e-b4b9-2cee72addf77",
   "metadata": {},
   "outputs": [],
   "source": [
    "inv_norm_tsh_afr = tsh_norm_range_afr %>%\n",
    "mutate(INV_NORMAL_TSH = qnorm((rank(TSH, na.last = \"keep\") - 0.5) / sum(!is.na(TSH)))) %>%\n",
    "mutate(AGE_AGE = AGE^2) %>%\n",
    "select(-c(TSH, AGE))\n",
    "head(inv_norm_tsh_afr)"
   ]
  },
  {
   "cell_type": "markdown",
   "id": "1e8f802f-774f-4a42-9414-83ae94a2ebf3",
   "metadata": {},
   "source": [
    "# take EUR random sample"
   ]
  },
  {
   "cell_type": "code",
   "execution_count": null,
   "id": "99c08529-f460-46fa-b4c5-dee98095bcd7",
   "metadata": {},
   "outputs": [],
   "source": [
    "nrow(inv_norm_tsh_afr)\n",
    "nrow(inv_norm_tsh_eur)"
   ]
  },
  {
   "cell_type": "code",
   "execution_count": null,
   "id": "0238e201-fee1-4d98-aa8f-5baa6ff5cea9",
   "metadata": {},
   "outputs": [],
   "source": [
    "set.seed(1234)"
   ]
  },
  {
   "cell_type": "code",
   "execution_count": null,
   "id": "9b80b712-e470-4842-b3f3-4d8d71331567",
   "metadata": {},
   "outputs": [],
   "source": [
    "eur_random_sample = data.frame(sample(x = inv_norm_tsh_eur$person_id, size = 7011, replace = F))\n",
    "colnames(eur_random_sample) = 'person_id'\n",
    "nrow(eur_random_sample)\n",
    "head(eur_random_sample)"
   ]
  },
  {
   "cell_type": "code",
   "execution_count": null,
   "id": "8eed0cd4-66cb-4924-9903-3be87787fd9e",
   "metadata": {},
   "outputs": [],
   "source": [
    "inv_norm_tsh_eur_random = inv_norm_tsh_eur[inv_norm_tsh_eur$person_id %in% eur_random_sample$person_id,]\n",
    "head(inv_norm_tsh_eur_random)\n",
    "nrow(inv_norm_tsh_eur_random)"
   ]
  },
  {
   "cell_type": "markdown",
   "id": "0ea5507f-9c67-48c0-9419-d472f67a1720",
   "metadata": {},
   "source": [
    "# create & export sample lists and in progress phenotype files"
   ]
  },
  {
   "cell_type": "markdown",
   "id": "0aacdaf8-33dc-499c-9738-19d49397c3de",
   "metadata": {},
   "source": [
    "## create"
   ]
  },
  {
   "cell_type": "code",
   "execution_count": null,
   "id": "48194ab0-9a99-47cd-8f0b-c32fd2082ed9",
   "metadata": {},
   "outputs": [],
   "source": [
    "eur_random_sample_list = inv_norm_tsh_eur_random %>%\n",
    "select(person_id)\n",
    "head(eur_random_sample_list)\n",
    "nrow(eur_random_sample_list)"
   ]
  },
  {
   "cell_type": "code",
   "execution_count": null,
   "id": "a00a3637-126a-4e32-96b8-1d33f24d9fbb",
   "metadata": {},
   "outputs": [],
   "source": [
    "afr_sample_list = inv_norm_tsh_afr %>%\n",
    "select(person_id)\n",
    "head(afr_sample_list)\n",
    "nrow(afr_sample_list)"
   ]
  },
  {
   "cell_type": "markdown",
   "id": "61f5805b-a7ae-4edd-b76f-dee767071b2e",
   "metadata": {},
   "source": [
    "## export"
   ]
  },
  {
   "cell_type": "code",
   "execution_count": null,
   "id": "e38f0ffa-9719-41e2-9c51-eee01bfbf2a8",
   "metadata": {},
   "outputs": [],
   "source": [
    "write.table(eur_random_sample_list, 'input/PMBB_v3.TSH.GWAS.EUR.n=7011.sample_list.txt',\n",
    "            col.names = F,\n",
    "            row.names = F,\n",
    "            quote = F)"
   ]
  },
  {
   "cell_type": "code",
   "execution_count": null,
   "id": "f0e9b1f7-71b2-4bcb-ae46-f4ea7a87e9ad",
   "metadata": {},
   "outputs": [],
   "source": [
    "write.table(afr_sample_list, 'input/PMBB_v3.TSH.GWAS.AFR.n=7011.sample_list.txt',\n",
    "            col.names = F,\n",
    "            row.names = F,\n",
    "            quote = F)"
   ]
  },
  {
   "cell_type": "code",
   "execution_count": null,
   "id": "aabce8db-f396-445c-9731-3d5974e5a5ac",
   "metadata": {},
   "outputs": [],
   "source": [
    "write.table(inv_norm_tsh_eur_random, 'input/PMBB_v3.TSH.GWAS.EUR.n=7011.phenotype_covariates.in_progress.txt',\n",
    "            sep = '\\t',\n",
    "            col.names = T,\n",
    "            row.names = F,\n",
    "            quote = F)"
   ]
  },
  {
   "cell_type": "code",
   "execution_count": null,
   "id": "f567d110-1f1d-476b-90e3-c6acdbead4a0",
   "metadata": {},
   "outputs": [],
   "source": [
    "write.table(inv_norm_tsh_afr, 'input/PMBB_v3.TSH.GWAS.AFR.n=7011.phenotype_covariates.in_progress.txt',\n",
    "            sep = '\\t',\n",
    "            col.names = T,\n",
    "            row.names = F,\n",
    "            quote = F)"
   ]
  },
  {
   "cell_type": "markdown",
   "id": "b7aa0a5e-f671-44e5-8674-3033719bb29c",
   "metadata": {},
   "source": [
    "# read in PCs and in progress phenos"
   ]
  },
  {
   "cell_type": "markdown",
   "id": "11b2f667-344d-4e25-966e-78b1a761da65",
   "metadata": {},
   "source": [
    "## eigenvec files"
   ]
  },
  {
   "cell_type": "code",
   "execution_count": null,
   "id": "c705dc60-06db-45aa-b735-9a3884b071c5",
   "metadata": {},
   "outputs": [],
   "source": [
    "afr_eigenvec = read.csv('output/pca/PMBB_v3.TSH.GWAS.AFR.PCA.eigenvec',\n",
    "                        sep = '',\n",
    "                        skip = 1,\n",
    "                        header = F)\n",
    "dim(afr_eigenvec)\n",
    "head(afr_eigenvec)"
   ]
  },
  {
   "cell_type": "code",
   "execution_count": null,
   "id": "5b8a9dbe-9fbf-4282-9e64-ea5a04bed9dc",
   "metadata": {},
   "outputs": [],
   "source": [
    "eur_eigenvec = read.csv('output/pca/PMBB_v3.TSH.GWAS.EUR.PCA.eigenvec',\n",
    "                        sep = '',\n",
    "                        skip = 1,\n",
    "                        header = F)\n",
    "dim(eur_eigenvec)\n",
    "head(eur_eigenvec)"
   ]
  },
  {
   "cell_type": "markdown",
   "id": "81a24a47-b340-427a-992a-67fe593c1b16",
   "metadata": {},
   "source": [
    "## eigenval"
   ]
  },
  {
   "cell_type": "code",
   "execution_count": null,
   "id": "0fd7c6d3-973d-4087-93e2-fd6956ae6b68",
   "metadata": {},
   "outputs": [],
   "source": [
    "afr_eigenval = read.csv('output/pca/PMBB_v3.TSH.GWAS.AFR.PCA.eigenval',\n",
    "                        sep = '\\t',\n",
    "                        header = F)\n",
    "head(afr_eigenval)"
   ]
  },
  {
   "cell_type": "code",
   "execution_count": null,
   "id": "4ce4936d-67f2-4342-a8b7-a44f9aabf5d1",
   "metadata": {},
   "outputs": [],
   "source": [
    "eur_eigenval = read.csv('output/pca/PMBB_v3.TSH.GWAS.EUR.PCA.eigenval',\n",
    "                        sep = '\\t',\n",
    "                        header = F)\n",
    "head(eur_eigenval)"
   ]
  },
  {
   "cell_type": "markdown",
   "id": "511f4464-4e48-4631-8da6-d8362e02ba2e",
   "metadata": {},
   "source": [
    "## in progress pheno"
   ]
  },
  {
   "cell_type": "code",
   "execution_count": null,
   "id": "6c94f834-6c0e-45eb-8e7f-4590af28baec",
   "metadata": {},
   "outputs": [],
   "source": [
    "inv_norm_tsh_eur_random = read.csv('input/PMBB_v3.TSH.GWAS.EUR.n=7011.phenotype_covariates.in_progress.txt',\n",
    "                                   sep = '\\t')\n",
    "head(inv_norm_tsh_eur_random)"
   ]
  },
  {
   "cell_type": "code",
   "execution_count": null,
   "id": "337fcc78-b03c-4c56-a125-c988aa04c8d7",
   "metadata": {},
   "outputs": [],
   "source": [
    "inv_norm_tsh_afr = read.csv('input/PMBB_v3.TSH.GWAS.AFR.n=7011.phenotype_covariates.in_progress.txt',\n",
    "                            sep = '\\t')\n",
    "head(inv_norm_tsh_afr)"
   ]
  },
  {
   "cell_type": "markdown",
   "id": "05fe5998-5d08-4090-b584-adb2b69eb2be",
   "metadata": {},
   "source": [
    "# create scree plots"
   ]
  },
  {
   "cell_type": "markdown",
   "id": "a5447458-8642-4297-9ff1-3dc5615503b4",
   "metadata": {},
   "source": [
    "## clean eigenval files"
   ]
  },
  {
   "cell_type": "code",
   "execution_count": null,
   "id": "d8ecf993-36f5-43d3-8627-385475a089f0",
   "metadata": {},
   "outputs": [],
   "source": [
    "afr_eigenval_clean = afr_eigenval %>%\n",
    "mutate(PC = rownames(afr_eigenval)) %>%\n",
    "mutate(PC = as.numeric(PC)) %>%\n",
    "mutate(VARIANCE = V1 / sum(V1))\n",
    "head(afr_eigenval_clean)"
   ]
  },
  {
   "cell_type": "code",
   "execution_count": null,
   "id": "4e4736ca-e6b4-4690-86e3-18327233a448",
   "metadata": {},
   "outputs": [],
   "source": [
    "eur_eigenval_clean = eur_eigenval %>%\n",
    "mutate(PC = rownames(eur_eigenval)) %>%\n",
    "mutate(PC = as.numeric(PC)) %>%\n",
    "mutate(VARIANCE = V1 / sum(V1))\n",
    "head(eur_eigenval_clean)"
   ]
  },
  {
   "cell_type": "markdown",
   "id": "a4a21677-b836-49d4-b24e-ff55f4f35fec",
   "metadata": {},
   "source": [
    "## make plots"
   ]
  },
  {
   "cell_type": "code",
   "execution_count": null,
   "id": "4ec43349-a8e5-46e2-8b9e-55521ccae17e",
   "metadata": {},
   "outputs": [],
   "source": [
    "ggplot(afr_eigenval_clean, aes(x = PC, y = VARIANCE)) + geom_line() + scale_x_continuous(breaks = seq(1, 20, by = 1),limits = c(1, 20))"
   ]
  },
  {
   "cell_type": "code",
   "execution_count": null,
   "id": "6d35ad90-c05f-4cfb-b8f1-58616e8ae887",
   "metadata": {},
   "outputs": [],
   "source": [
    "ggplot(eur_eigenval_clean, aes(x = PC, y = VARIANCE)) + geom_line() + scale_x_continuous(breaks = seq(1, 20, by = 1),limits = c(1, 20))"
   ]
  },
  {
   "cell_type": "markdown",
   "id": "5550a1b4-de40-4daa-b5be-62c609c2cb54",
   "metadata": {},
   "source": [
    "# add pcs to pheno/covar file"
   ]
  },
  {
   "cell_type": "markdown",
   "id": "fb4fc0b0-78e0-4fc8-9072-9dd0d28d975f",
   "metadata": {},
   "source": [
    "## clean eigenvec"
   ]
  },
  {
   "cell_type": "code",
   "execution_count": null,
   "id": "0aff49aa-089c-4c84-97e5-ae92937f1a9f",
   "metadata": {},
   "outputs": [],
   "source": [
    "afr_eigenvec_sub = afr_eigenvec %>%\n",
    "rename('person_id' = 'V1',\n",
    "       'PC1' = 'V2') %>%\n",
    "select(person_id, PC1) %>%\n",
    "mutate(person_id = gsub('*0:', '', person_id))\n",
    "head(afr_eigenvec_sub)"
   ]
  },
  {
   "cell_type": "code",
   "execution_count": null,
   "id": "68a03a06-590f-41ed-9f5b-3ae6d87699fc",
   "metadata": {},
   "outputs": [],
   "source": [
    "eur_eigenvec_sub = eur_eigenvec %>%\n",
    "rename('person_id' = 'V1',\n",
    "       'PC1' = 'V2',\n",
    "       'PC2' = 'V3',\n",
    "       'PC3' = 'V4') %>%\n",
    "select(person_id, PC1, PC2, PC3) %>%\n",
    "mutate(person_id = trimws(person_id)) %>%\n",
    "mutate(person_id = gsub('^*0:', '', person_id))\n",
    "head(eur_eigenvec_sub)"
   ]
  },
  {
   "cell_type": "markdown",
   "id": "1c1b8988-e075-4368-a405-6a212ae566e9",
   "metadata": {},
   "source": [
    "## merge"
   ]
  },
  {
   "cell_type": "code",
   "execution_count": null,
   "id": "9d8ccd40-6531-4bdc-a753-f16730764e29",
   "metadata": {},
   "outputs": [],
   "source": [
    "inv_norm_tsh_afr_pc = inv_norm_tsh_afr %>%\n",
    "inner_join(afr_eigenvec_sub, by = 'person_id')\n",
    "nrow(inv_norm_tsh_afr)\n",
    "nrow(afr_eigenvec_sub)\n",
    "nrow(inv_norm_tsh_afr_pc)\n",
    "head(inv_norm_tsh_afr_pc)"
   ]
  },
  {
   "cell_type": "code",
   "execution_count": null,
   "id": "ac9d477b-b715-45f3-98cf-bbdaf1727b13",
   "metadata": {},
   "outputs": [],
   "source": [
    "inv_norm_tsh_eur_pc = inv_norm_tsh_eur_random %>%\n",
    "inner_join(eur_eigenvec_sub, by = 'person_id')\n",
    "nrow(inv_norm_tsh_eur_random)\n",
    "nrow(eur_eigenvec_sub)\n",
    "nrow(inv_norm_tsh_eur_pc)\n",
    "head(inv_norm_tsh_eur_pc)"
   ]
  },
  {
   "cell_type": "markdown",
   "id": "15e9879d-60fb-4c35-b7ba-f7a188095a91",
   "metadata": {},
   "source": [
    "# randomly downsample AFR to match new EUR"
   ]
  },
  {
   "cell_type": "code",
   "execution_count": null,
   "id": "09d9ee16-72ce-40de-a989-e8519c9131b8",
   "metadata": {},
   "outputs": [],
   "source": [
    "afr_random_sample = data.frame(sample(x = inv_norm_tsh_afr_pc$person_id, size = 6937, replace = F))\n",
    "colnames(afr_random_sample) = 'person_id'\n",
    "nrow(afr_random_sample)\n",
    "head(afr_random_sample)"
   ]
  },
  {
   "cell_type": "code",
   "execution_count": null,
   "id": "42a4eaff-cb74-4761-a04a-f16bfafde5f1",
   "metadata": {},
   "outputs": [],
   "source": [
    "inv_norm_tsh_afr_pc_random = inv_norm_tsh_afr_pc[inv_norm_tsh_afr_pc$person_id %in% afr_random_sample$person_id,]\n",
    "nrow(inv_norm_tsh_afr_pc_random)\n",
    "nrow(inv_norm_tsh_eur_pc)\n",
    "head(inv_norm_tsh_afr_pc_random)"
   ]
  },
  {
   "cell_type": "markdown",
   "id": "ee13fd43-1fe5-4b6a-a1b4-4f84ff3dda1f",
   "metadata": {},
   "source": [
    "# change ID col name"
   ]
  },
  {
   "cell_type": "code",
   "execution_count": null,
   "id": "5d91c410-2b03-4ac2-8d6a-a53986b4f7bc",
   "metadata": {},
   "outputs": [],
   "source": [
    "inv_norm_tsh_eur_pc = inv_norm_tsh_eur_pc %>%\n",
    "rename('IID' = 'person_id')\n",
    "head(inv_norm_tsh_eur_pc)"
   ]
  },
  {
   "cell_type": "code",
   "execution_count": null,
   "id": "930c2462-c955-40ad-b6e8-c6d0188bf133",
   "metadata": {},
   "outputs": [],
   "source": [
    "inv_norm_tsh_afr_pc_random = inv_norm_tsh_afr_pc_random%>%\n",
    "rename('IID' = 'person_id')\n",
    "head(inv_norm_tsh_afr_pc_random)"
   ]
  },
  {
   "cell_type": "markdown",
   "id": "f025bb88-40f7-4a32-97ba-c1c08eebfa5a",
   "metadata": {},
   "source": [
    "# make new sample lists"
   ]
  },
  {
   "cell_type": "code",
   "execution_count": null,
   "id": "18c74f7a-af60-4236-be56-efed21ec205e",
   "metadata": {},
   "outputs": [],
   "source": [
    "eur_sample_list_final = inv_norm_tsh_eur_pc %>%\n",
    "select(person_id)\n",
    "nrow(eur_sample_list_final)"
   ]
  },
  {
   "cell_type": "code",
   "execution_count": null,
   "id": "c5205beb-9ee7-4f8a-a2f9-e7fdb629e9b6",
   "metadata": {},
   "outputs": [],
   "source": [
    "afr_sample_list_final = inv_norm_tsh_afr_pc_random %>%\n",
    "select(person_id)\n",
    "nrow(afr_sample_list_final)"
   ]
  },
  {
   "cell_type": "markdown",
   "id": "6f727601-81e3-4c66-acc6-49cb1903a9ba",
   "metadata": {},
   "source": [
    "# export final dfs"
   ]
  },
  {
   "cell_type": "code",
   "execution_count": null,
   "id": "e43424c1-6239-4cec-ad4a-bff640615dfa",
   "metadata": {},
   "outputs": [],
   "source": [
    "write.table(eur_sample_list_final, 'input/PMBB_v3.TSH.GWAS.EUR.n=6937.sample_list.final.txt',\n",
    "            col.names = F,\n",
    "            row.names = F,\n",
    "            quote = F)"
   ]
  },
  {
   "cell_type": "code",
   "execution_count": null,
   "id": "408b59c3-c7c2-4925-b98b-88f5a11935bf",
   "metadata": {},
   "outputs": [],
   "source": [
    "write.table(afr_sample_list_final, 'input/PMBB_v3.TSH.GWAS.AFR.n=6937.sample_list.final.txt',\n",
    "            col.names = F,\n",
    "            row.names = F,\n",
    "            quote = F)"
   ]
  },
  {
   "cell_type": "code",
   "execution_count": null,
   "id": "bf95a5ac-8e23-49cb-bcbc-752ba3443c4f",
   "metadata": {},
   "outputs": [],
   "source": [
    "write.table(inv_norm_tsh_eur_pc, 'input/PMBB_v3.TSH.GWAS.EUR.n=6937.phenotype_covariates.final.txt',\n",
    "            sep = '\\t',\n",
    "            col.names = T,\n",
    "            row.names = F,\n",
    "            quote = F)"
   ]
  },
  {
   "cell_type": "code",
   "execution_count": null,
   "id": "8501a42b-3333-45f3-b297-3e3a2d22b2df",
   "metadata": {},
   "outputs": [],
   "source": [
    "write.table(inv_norm_tsh_afr_pc_random, '/project/ritchie/projects/TSH/PMBB_v3/input/PMBB_v3.TSH.GWAS.AFR.n=6937.phenotype_covariates.final.txt',\n",
    "            sep = '\\t',\n",
    "            col.names = T,\n",
    "            row.names = F,\n",
    "            quote = F)"
   ]
  },
  {
   "cell_type": "code",
   "execution_count": null,
   "id": "dd472523-37e8-4fab-8a20-9da60e9b778a",
   "metadata": {},
   "outputs": [],
   "source": []
  }
 ],
 "metadata": {
  "kernelspec": {
   "display_name": "R",
   "language": "R",
   "name": "ir"
  },
  "language_info": {
   "codemirror_mode": "r",
   "file_extension": ".r",
   "mimetype": "text/x-r-source",
   "name": "R",
   "pygments_lexer": "r",
   "version": "4.4.3"
  }
 },
 "nbformat": 4,
 "nbformat_minor": 5
}
